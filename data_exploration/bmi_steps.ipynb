{
 "cells": [
  {
   "cell_type": "code",
   "execution_count": 43,
   "metadata": {
    "collapsed": true
   },
   "outputs": [],
   "source": [
    "import pickle\n",
    "import pandas as pd\n",
    "import matplotlib.pyplot as plt\n",
    "import numpy as np"
   ]
  },
  {
   "cell_type": "code",
   "execution_count": 44,
   "metadata": {},
   "outputs": [
    {
     "data": {
      "text/html": [
       "<script>jQuery(function() {if (jQuery(\"body.notebook_app\").length == 0) { jQuery(\".input_area\").toggle(); jQuery(\".prompt\").toggle();}});</script>"
      ]
     },
     "metadata": {},
     "output_type": "display_data"
    },
    {
     "data": {
      "text/html": [
       "<button onclick=\"jQuery('.input_area').toggle(); jQuery('.prompt').toggle();\">Toggle code</button>"
      ]
     },
     "metadata": {},
     "output_type": "display_data"
    }
   ],
   "source": [
    "import IPython.core.display as di\n",
    "\n",
    "# This line will hide code by default when the notebook is exported as HTML\n",
    "di.display_html('<script>jQuery(function() {if (jQuery(\"body.notebook_app\").length == 0) { jQuery(\".input_area\").toggle(); jQuery(\".prompt\").toggle();}});</script>', raw=True)\n",
    "\n",
    "# This line will add a button to toggle visibility of code blocks, for use with the HTML export version\n",
    "di.display_html('''<button onclick=\"jQuery('.input_area').toggle(); jQuery('.prompt').toggle();\">Toggle code</button>''', raw=True)"
   ]
  },
  {
   "cell_type": "code",
   "execution_count": 45,
   "metadata": {
    "collapsed": true
   },
   "outputs": [],
   "source": [
    "from IPython.display import Markdown, display\n",
    "def printmd(string):\n",
    "    display(Markdown(string))"
   ]
  },
  {
   "cell_type": "code",
   "execution_count": 46,
   "metadata": {},
   "outputs": [],
   "source": [
    "with open('../data/filtered/activities_filter.pickle', 'rb') as f:\n",
    "    activities = pd.DataFrame(pickle.load(f))\n",
    "with open('../data/filtered/weights_filter.pickle', 'rb') as f:\n",
    "    weights = pd.DataFrame(pickle.load(f))"
   ]
  },
  {
   "cell_type": "markdown",
   "metadata": {},
   "source": [
    "# Data Overview"
   ]
  },
  {
   "cell_type": "code",
   "execution_count": 47,
   "metadata": {},
   "outputs": [
    {
     "data": {
      "text/markdown": [
       "**Activities**"
      ],
      "text/plain": [
       "<IPython.core.display.Markdown object>"
      ]
     },
     "metadata": {},
     "output_type": "display_data"
    },
    {
     "data": {
      "text/html": [
       "<div>\n",
       "<style>\n",
       "    .dataframe thead tr:only-child th {\n",
       "        text-align: right;\n",
       "    }\n",
       "\n",
       "    .dataframe thead th {\n",
       "        text-align: left;\n",
       "    }\n",
       "\n",
       "    .dataframe tbody tr th {\n",
       "        vertical-align: top;\n",
       "    }\n",
       "</style>\n",
       "<table border=\"1\" class=\"dataframe\">\n",
       "  <thead>\n",
       "    <tr style=\"text-align: right;\">\n",
       "      <th></th>\n",
       "      <th>calories</th>\n",
       "      <th>distance</th>\n",
       "      <th>steps</th>\n",
       "      <th>updated_date</th>\n",
       "      <th>user_id</th>\n",
       "    </tr>\n",
       "  </thead>\n",
       "  <tbody>\n",
       "    <tr>\n",
       "      <th>2</th>\n",
       "      <td>6.7</td>\n",
       "      <td>0.19</td>\n",
       "      <td>253</td>\n",
       "      <td>2017-02-27 08:17:06</td>\n",
       "      <td>00003941-eab1-4c08-8e57-96612cb7094d</td>\n",
       "    </tr>\n",
       "    <tr>\n",
       "      <th>4</th>\n",
       "      <td>24.4</td>\n",
       "      <td>0.81</td>\n",
       "      <td>1056</td>\n",
       "      <td>2017-02-27 08:17:06</td>\n",
       "      <td>00003941-eab1-4c08-8e57-96612cb7094d</td>\n",
       "    </tr>\n",
       "    <tr>\n",
       "      <th>5</th>\n",
       "      <td>41.8</td>\n",
       "      <td>0.97</td>\n",
       "      <td>1286</td>\n",
       "      <td>2017-02-27 08:17:06</td>\n",
       "      <td>00003941-eab1-4c08-8e57-96612cb7094d</td>\n",
       "    </tr>\n",
       "    <tr>\n",
       "      <th>6</th>\n",
       "      <td>55.6</td>\n",
       "      <td>1.29</td>\n",
       "      <td>1734</td>\n",
       "      <td>2017-02-27 08:17:06</td>\n",
       "      <td>00003941-eab1-4c08-8e57-96612cb7094d</td>\n",
       "    </tr>\n",
       "    <tr>\n",
       "      <th>7</th>\n",
       "      <td>118.6</td>\n",
       "      <td>2.32</td>\n",
       "      <td>3151</td>\n",
       "      <td>2017-02-27 08:17:06</td>\n",
       "      <td>00003941-eab1-4c08-8e57-96612cb7094d</td>\n",
       "    </tr>\n",
       "  </tbody>\n",
       "</table>\n",
       "</div>"
      ],
      "text/plain": [
       "   calories  distance  steps        updated_date  \\\n",
       "2       6.7      0.19    253 2017-02-27 08:17:06   \n",
       "4      24.4      0.81   1056 2017-02-27 08:17:06   \n",
       "5      41.8      0.97   1286 2017-02-27 08:17:06   \n",
       "6      55.6      1.29   1734 2017-02-27 08:17:06   \n",
       "7     118.6      2.32   3151 2017-02-27 08:17:06   \n",
       "\n",
       "                                user_id  \n",
       "2  00003941-eab1-4c08-8e57-96612cb7094d  \n",
       "4  00003941-eab1-4c08-8e57-96612cb7094d  \n",
       "5  00003941-eab1-4c08-8e57-96612cb7094d  \n",
       "6  00003941-eab1-4c08-8e57-96612cb7094d  \n",
       "7  00003941-eab1-4c08-8e57-96612cb7094d  "
      ]
     },
     "execution_count": 47,
     "metadata": {},
     "output_type": "execute_result"
    }
   ],
   "source": [
    "printmd('**Activities**')\n",
    "activities.head()"
   ]
  },
  {
   "cell_type": "code",
   "execution_count": 48,
   "metadata": {},
   "outputs": [
    {
     "data": {
      "text/markdown": [
       "**Weights**"
      ],
      "text/plain": [
       "<IPython.core.display.Markdown object>"
      ]
     },
     "metadata": {},
     "output_type": "display_data"
    },
    {
     "data": {
      "text/html": [
       "<div>\n",
       "<style>\n",
       "    .dataframe thead tr:only-child th {\n",
       "        text-align: right;\n",
       "    }\n",
       "\n",
       "    .dataframe thead th {\n",
       "        text-align: left;\n",
       "    }\n",
       "\n",
       "    .dataframe tbody tr th {\n",
       "        vertical-align: top;\n",
       "    }\n",
       "</style>\n",
       "<table border=\"1\" class=\"dataframe\">\n",
       "  <thead>\n",
       "    <tr style=\"text-align: right;\">\n",
       "      <th></th>\n",
       "      <th>bmi</th>\n",
       "      <th>body_fat</th>\n",
       "      <th>body_weight</th>\n",
       "      <th>muscle_mass</th>\n",
       "      <th>updated_date</th>\n",
       "      <th>user_id</th>\n",
       "      <th>height</th>\n",
       "    </tr>\n",
       "  </thead>\n",
       "  <tbody>\n",
       "    <tr>\n",
       "      <th>0</th>\n",
       "      <td>28.968515</td>\n",
       "      <td>26.6</td>\n",
       "      <td>101.3</td>\n",
       "      <td>33.2</td>\n",
       "      <td>2017-03-26 14:59:31</td>\n",
       "      <td>0000767c-089c-415f-a3ea-10a83eff7115</td>\n",
       "      <td>187.0</td>\n",
       "    </tr>\n",
       "    <tr>\n",
       "      <th>1</th>\n",
       "      <td>29.025708</td>\n",
       "      <td>26.6</td>\n",
       "      <td>101.5</td>\n",
       "      <td>33.2</td>\n",
       "      <td>2017-03-26 14:59:53</td>\n",
       "      <td>0000767c-089c-415f-a3ea-10a83eff7115</td>\n",
       "      <td>187.0</td>\n",
       "    </tr>\n",
       "    <tr>\n",
       "      <th>2</th>\n",
       "      <td>20.247431</td>\n",
       "      <td>10.5</td>\n",
       "      <td>59.9</td>\n",
       "      <td>51.8</td>\n",
       "      <td>2017-03-02 19:29:13</td>\n",
       "      <td>0000f27e-7b4e-4cb0-875d-6d067e078291</td>\n",
       "      <td>172.0</td>\n",
       "    </tr>\n",
       "    <tr>\n",
       "      <th>4</th>\n",
       "      <td>20.247431</td>\n",
       "      <td>10.3</td>\n",
       "      <td>59.9</td>\n",
       "      <td>52.0</td>\n",
       "      <td>2017-03-02 19:29:13</td>\n",
       "      <td>0000f27e-7b4e-4cb0-875d-6d067e078291</td>\n",
       "      <td>172.0</td>\n",
       "    </tr>\n",
       "    <tr>\n",
       "      <th>5</th>\n",
       "      <td>20.247431</td>\n",
       "      <td>10.7</td>\n",
       "      <td>59.9</td>\n",
       "      <td>51.7</td>\n",
       "      <td>2017-03-02 19:29:13</td>\n",
       "      <td>0000f27e-7b4e-4cb0-875d-6d067e078291</td>\n",
       "      <td>172.0</td>\n",
       "    </tr>\n",
       "  </tbody>\n",
       "</table>\n",
       "</div>"
      ],
      "text/plain": [
       "         bmi  body_fat  body_weight  muscle_mass        updated_date  \\\n",
       "0  28.968515      26.6        101.3         33.2 2017-03-26 14:59:31   \n",
       "1  29.025708      26.6        101.5         33.2 2017-03-26 14:59:53   \n",
       "2  20.247431      10.5         59.9         51.8 2017-03-02 19:29:13   \n",
       "4  20.247431      10.3         59.9         52.0 2017-03-02 19:29:13   \n",
       "5  20.247431      10.7         59.9         51.7 2017-03-02 19:29:13   \n",
       "\n",
       "                                user_id  height  \n",
       "0  0000767c-089c-415f-a3ea-10a83eff7115   187.0  \n",
       "1  0000767c-089c-415f-a3ea-10a83eff7115   187.0  \n",
       "2  0000f27e-7b4e-4cb0-875d-6d067e078291   172.0  \n",
       "4  0000f27e-7b4e-4cb0-875d-6d067e078291   172.0  \n",
       "5  0000f27e-7b4e-4cb0-875d-6d067e078291   172.0  "
      ]
     },
     "execution_count": 48,
     "metadata": {},
     "output_type": "execute_result"
    }
   ],
   "source": [
    "printmd('**Weights**')\n",
    "weights.head()"
   ]
  },
  {
   "cell_type": "markdown",
   "metadata": {},
   "source": [
    "# Data Preparation"
   ]
  },
  {
   "cell_type": "markdown",
   "metadata": {},
   "source": [
    "## Weights"
   ]
  },
  {
   "cell_type": "code",
   "execution_count": 49,
   "metadata": {},
   "outputs": [
    {
     "data": {
      "text/markdown": [
       "**Add fields**: year, month, day"
      ],
      "text/plain": [
       "<IPython.core.display.Markdown object>"
      ]
     },
     "metadata": {},
     "output_type": "display_data"
    },
    {
     "data": {
      "text/markdown": [
       "**Filter weight columns**: user_id, year, month, bmi"
      ],
      "text/plain": [
       "<IPython.core.display.Markdown object>"
      ]
     },
     "metadata": {},
     "output_type": "display_data"
    },
    {
     "data": {
      "text/markdown": [
       "**In case of multiple bmi measures in the same day, take the mean value**"
      ],
      "text/plain": [
       "<IPython.core.display.Markdown object>"
      ]
     },
     "metadata": {},
     "output_type": "display_data"
    },
    {
     "data": {
      "text/markdown": [
       "**Remove duplicates**"
      ],
      "text/plain": [
       "<IPython.core.display.Markdown object>"
      ]
     },
     "metadata": {},
     "output_type": "display_data"
    },
    {
     "data": {
      "text/markdown": [
       "* Number of duplicated entries removed: 1033638"
      ],
      "text/plain": [
       "<IPython.core.display.Markdown object>"
      ]
     },
     "metadata": {},
     "output_type": "display_data"
    },
    {
     "data": {
      "text/markdown": [
       "* Remaining number of weight entries: 1460410"
      ],
      "text/plain": [
       "<IPython.core.display.Markdown object>"
      ]
     },
     "metadata": {},
     "output_type": "display_data"
    }
   ],
   "source": [
    "printmd('**Add fields**: year, month, day')\n",
    "weights['year'] = weights['updated_date'].apply(lambda x: x.year)\n",
    "weights['month'] = weights['updated_date'].apply(lambda x: x.month)\n",
    "weights['day'] = weights['updated_date'].apply(lambda x: x.day)\n",
    "\n",
    "printmd('**Filter weight columns**: user_id, year, month, bmi')\n",
    "weights = weights[['user_id', 'year', 'month', 'day', 'bmi']]\n",
    "\n",
    "printmd('**In case of multiple bmi measures in the same day, take the mean value**')\n",
    "weights['bmi'] = weights.groupby(\n",
    "    ['user_id', 'year', 'month', 'day'])['bmi'].transform('mean')\n",
    "\n",
    "printmd('**Remove duplicates**')\n",
    "len_before = len(weights)\n",
    "weights = weights.drop_duplicates()\n",
    "printmd('* Number of duplicated entries removed: {}'.format(len_before - len(weights)))\n",
    "printmd('* Remaining number of weight entries: {}'.format(len(weights)))"
   ]
  },
  {
   "cell_type": "code",
   "execution_count": 50,
   "metadata": {},
   "outputs": [
    {
     "data": {
      "text/markdown": [
       "**Prepared data overview: weights**"
      ],
      "text/plain": [
       "<IPython.core.display.Markdown object>"
      ]
     },
     "metadata": {},
     "output_type": "display_data"
    },
    {
     "data": {
      "text/html": [
       "<div>\n",
       "<style>\n",
       "    .dataframe thead tr:only-child th {\n",
       "        text-align: right;\n",
       "    }\n",
       "\n",
       "    .dataframe thead th {\n",
       "        text-align: left;\n",
       "    }\n",
       "\n",
       "    .dataframe tbody tr th {\n",
       "        vertical-align: top;\n",
       "    }\n",
       "</style>\n",
       "<table border=\"1\" class=\"dataframe\">\n",
       "  <thead>\n",
       "    <tr style=\"text-align: right;\">\n",
       "      <th></th>\n",
       "      <th>user_id</th>\n",
       "      <th>year</th>\n",
       "      <th>month</th>\n",
       "      <th>day</th>\n",
       "      <th>bmi</th>\n",
       "    </tr>\n",
       "  </thead>\n",
       "  <tbody>\n",
       "    <tr>\n",
       "      <th>0</th>\n",
       "      <td>0000767c-089c-415f-a3ea-10a83eff7115</td>\n",
       "      <td>2017</td>\n",
       "      <td>3</td>\n",
       "      <td>26</td>\n",
       "      <td>28.997112</td>\n",
       "    </tr>\n",
       "    <tr>\n",
       "      <th>2</th>\n",
       "      <td>0000f27e-7b4e-4cb0-875d-6d067e078291</td>\n",
       "      <td>2017</td>\n",
       "      <td>3</td>\n",
       "      <td>2</td>\n",
       "      <td>20.247431</td>\n",
       "    </tr>\n",
       "    <tr>\n",
       "      <th>6</th>\n",
       "      <td>0000f27e-7b4e-4cb0-875d-6d067e078291</td>\n",
       "      <td>2017</td>\n",
       "      <td>3</td>\n",
       "      <td>4</td>\n",
       "      <td>20.281233</td>\n",
       "    </tr>\n",
       "    <tr>\n",
       "      <th>7</th>\n",
       "      <td>0000f27e-7b4e-4cb0-875d-6d067e078291</td>\n",
       "      <td>2017</td>\n",
       "      <td>3</td>\n",
       "      <td>7</td>\n",
       "      <td>20.382639</td>\n",
       "    </tr>\n",
       "    <tr>\n",
       "      <th>8</th>\n",
       "      <td>0000f27e-7b4e-4cb0-875d-6d067e078291</td>\n",
       "      <td>2017</td>\n",
       "      <td>3</td>\n",
       "      <td>10</td>\n",
       "      <td>20.450243</td>\n",
       "    </tr>\n",
       "  </tbody>\n",
       "</table>\n",
       "</div>"
      ],
      "text/plain": [
       "                                user_id  year  month  day        bmi\n",
       "0  0000767c-089c-415f-a3ea-10a83eff7115  2017      3   26  28.997112\n",
       "2  0000f27e-7b4e-4cb0-875d-6d067e078291  2017      3    2  20.247431\n",
       "6  0000f27e-7b4e-4cb0-875d-6d067e078291  2017      3    4  20.281233\n",
       "7  0000f27e-7b4e-4cb0-875d-6d067e078291  2017      3    7  20.382639\n",
       "8  0000f27e-7b4e-4cb0-875d-6d067e078291  2017      3   10  20.450243"
      ]
     },
     "execution_count": 50,
     "metadata": {},
     "output_type": "execute_result"
    }
   ],
   "source": [
    "printmd('**Prepared data overview: weights**')\n",
    "weights.head()"
   ]
  },
  {
   "cell_type": "markdown",
   "metadata": {},
   "source": [
    "## Activities"
   ]
  },
  {
   "cell_type": "code",
   "execution_count": 51,
   "metadata": {},
   "outputs": [
    {
     "data": {
      "text/markdown": [
       "**Add fields**: year, month, day"
      ],
      "text/plain": [
       "<IPython.core.display.Markdown object>"
      ]
     },
     "metadata": {},
     "output_type": "display_data"
    },
    {
     "data": {
      "text/markdown": [
       "**Filter activities columns**: user_id, year, month, steps"
      ],
      "text/plain": [
       "<IPython.core.display.Markdown object>"
      ]
     },
     "metadata": {},
     "output_type": "display_data"
    },
    {
     "data": {
      "text/markdown": [
       "**In case of multiple steps measures per day, take the max value**"
      ],
      "text/plain": [
       "<IPython.core.display.Markdown object>"
      ]
     },
     "metadata": {},
     "output_type": "display_data"
    },
    {
     "data": {
      "text/markdown": [
       "**Remove duplicates**"
      ],
      "text/plain": [
       "<IPython.core.display.Markdown object>"
      ]
     },
     "metadata": {},
     "output_type": "display_data"
    },
    {
     "data": {
      "text/markdown": [
       "* Number of duplicated entries removed: 2360617"
      ],
      "text/plain": [
       "<IPython.core.display.Markdown object>"
      ]
     },
     "metadata": {},
     "output_type": "display_data"
    },
    {
     "data": {
      "text/markdown": [
       "* Remaining number of activity entries: 623071"
      ],
      "text/plain": [
       "<IPython.core.display.Markdown object>"
      ]
     },
     "metadata": {},
     "output_type": "display_data"
    }
   ],
   "source": [
    "printmd('**Add fields**: year, month, day')\n",
    "activities['year'] = activities['updated_date'].apply(lambda x: x.year)\n",
    "activities['month'] = activities['updated_date'].apply(lambda x: x.month)\n",
    "activities['day'] = activities['updated_date'].apply(lambda x: x.day)\n",
    "\n",
    "printmd('**Filter activities columns**: user_id, year, month, steps')\n",
    "activities = activities[['user_id', 'year', 'month', 'day', 'steps']]\n",
    "\n",
    "printmd('**In case of multiple steps measures per day, take the max value**')\n",
    "# PS. It looks like tracker entries are progressively added during the day,\n",
    "# therefore we take the max.\n",
    "activities['steps'] = activities.groupby(\n",
    "    ['user_id', 'year', 'month', 'day'])['steps'].transform('max')\n",
    "\n",
    "printmd('**Remove duplicates**')\n",
    "len_before = len(activities)\n",
    "activities = activities.drop_duplicates()\n",
    "printmd('* Number of duplicated entries removed: {}'.format(len_before - len(activities)))\n",
    "printmd('* Remaining number of activity entries: {}'.format(len(activities)))"
   ]
  },
  {
   "cell_type": "code",
   "execution_count": 52,
   "metadata": {},
   "outputs": [
    {
     "data": {
      "text/markdown": [
       "**Prepared data overview: activities**"
      ],
      "text/plain": [
       "<IPython.core.display.Markdown object>"
      ]
     },
     "metadata": {},
     "output_type": "display_data"
    },
    {
     "data": {
      "text/html": [
       "<div>\n",
       "<style>\n",
       "    .dataframe thead tr:only-child th {\n",
       "        text-align: right;\n",
       "    }\n",
       "\n",
       "    .dataframe thead th {\n",
       "        text-align: left;\n",
       "    }\n",
       "\n",
       "    .dataframe tbody tr th {\n",
       "        vertical-align: top;\n",
       "    }\n",
       "</style>\n",
       "<table border=\"1\" class=\"dataframe\">\n",
       "  <thead>\n",
       "    <tr style=\"text-align: right;\">\n",
       "      <th></th>\n",
       "      <th>user_id</th>\n",
       "      <th>year</th>\n",
       "      <th>month</th>\n",
       "      <th>day</th>\n",
       "      <th>steps</th>\n",
       "    </tr>\n",
       "  </thead>\n",
       "  <tbody>\n",
       "    <tr>\n",
       "      <th>2</th>\n",
       "      <td>00003941-eab1-4c08-8e57-96612cb7094d</td>\n",
       "      <td>2017</td>\n",
       "      <td>2</td>\n",
       "      <td>27</td>\n",
       "      <td>26757</td>\n",
       "    </tr>\n",
       "    <tr>\n",
       "      <th>103</th>\n",
       "      <td>00036f02-8b2c-4c0d-b13b-fac0725fbcb2</td>\n",
       "      <td>2015</td>\n",
       "      <td>2</td>\n",
       "      <td>1</td>\n",
       "      <td>10106</td>\n",
       "    </tr>\n",
       "    <tr>\n",
       "      <th>112</th>\n",
       "      <td>0003c8ae-4e96-4c85-967a-0e783e7e1066</td>\n",
       "      <td>2015</td>\n",
       "      <td>2</td>\n",
       "      <td>17</td>\n",
       "      <td>16420</td>\n",
       "    </tr>\n",
       "    <tr>\n",
       "      <th>115</th>\n",
       "      <td>0003c8ae-4e96-4c85-967a-0e783e7e1066</td>\n",
       "      <td>2015</td>\n",
       "      <td>3</td>\n",
       "      <td>5</td>\n",
       "      <td>10667</td>\n",
       "    </tr>\n",
       "    <tr>\n",
       "      <th>118</th>\n",
       "      <td>0003c8ae-4e96-4c85-967a-0e783e7e1066</td>\n",
       "      <td>2015</td>\n",
       "      <td>3</td>\n",
       "      <td>9</td>\n",
       "      <td>16128</td>\n",
       "    </tr>\n",
       "  </tbody>\n",
       "</table>\n",
       "</div>"
      ],
      "text/plain": [
       "                                  user_id  year  month  day  steps\n",
       "2    00003941-eab1-4c08-8e57-96612cb7094d  2017      2   27  26757\n",
       "103  00036f02-8b2c-4c0d-b13b-fac0725fbcb2  2015      2    1  10106\n",
       "112  0003c8ae-4e96-4c85-967a-0e783e7e1066  2015      2   17  16420\n",
       "115  0003c8ae-4e96-4c85-967a-0e783e7e1066  2015      3    5  10667\n",
       "118  0003c8ae-4e96-4c85-967a-0e783e7e1066  2015      3    9  16128"
      ]
     },
     "execution_count": 52,
     "metadata": {},
     "output_type": "execute_result"
    }
   ],
   "source": [
    "printmd('**Prepared data overview: activities**')\n",
    "activities.head()"
   ]
  },
  {
   "cell_type": "markdown",
   "metadata": {},
   "source": [
    "# Merge steps and bmi data"
   ]
  },
  {
   "cell_type": "code",
   "execution_count": 53,
   "metadata": {},
   "outputs": [
    {
     "data": {
      "text/markdown": [
       "**Merge bmi and steps data, keeping only keys from the activities dataframe.**"
      ],
      "text/plain": [
       "<IPython.core.display.Markdown object>"
      ]
     },
     "metadata": {},
     "output_type": "display_data"
    },
    {
     "data": {
      "text/markdown": [
       "**Number of merged bmi/steps entries:** 623071"
      ],
      "text/plain": [
       "<IPython.core.display.Markdown object>"
      ]
     },
     "metadata": {},
     "output_type": "display_data"
    },
    {
     "data": {
      "text/markdown": [
       "**Overview of bmi/steps data:**"
      ],
      "text/plain": [
       "<IPython.core.display.Markdown object>"
      ]
     },
     "metadata": {},
     "output_type": "display_data"
    },
    {
     "data": {
      "text/html": [
       "<div>\n",
       "<style>\n",
       "    .dataframe thead tr:only-child th {\n",
       "        text-align: right;\n",
       "    }\n",
       "\n",
       "    .dataframe thead th {\n",
       "        text-align: left;\n",
       "    }\n",
       "\n",
       "    .dataframe tbody tr th {\n",
       "        vertical-align: top;\n",
       "    }\n",
       "</style>\n",
       "<table border=\"1\" class=\"dataframe\">\n",
       "  <thead>\n",
       "    <tr style=\"text-align: right;\">\n",
       "      <th></th>\n",
       "      <th>user_id</th>\n",
       "      <th>year</th>\n",
       "      <th>month</th>\n",
       "      <th>day</th>\n",
       "      <th>steps</th>\n",
       "      <th>bmi</th>\n",
       "    </tr>\n",
       "  </thead>\n",
       "  <tbody>\n",
       "    <tr>\n",
       "      <th>0</th>\n",
       "      <td>00003941-eab1-4c08-8e57-96612cb7094d</td>\n",
       "      <td>2017</td>\n",
       "      <td>2</td>\n",
       "      <td>27</td>\n",
       "      <td>26757</td>\n",
       "      <td>NaN</td>\n",
       "    </tr>\n",
       "    <tr>\n",
       "      <th>1</th>\n",
       "      <td>00036f02-8b2c-4c0d-b13b-fac0725fbcb2</td>\n",
       "      <td>2015</td>\n",
       "      <td>2</td>\n",
       "      <td>1</td>\n",
       "      <td>10106</td>\n",
       "      <td>NaN</td>\n",
       "    </tr>\n",
       "    <tr>\n",
       "      <th>2</th>\n",
       "      <td>0003c8ae-4e96-4c85-967a-0e783e7e1066</td>\n",
       "      <td>2015</td>\n",
       "      <td>2</td>\n",
       "      <td>17</td>\n",
       "      <td>16420</td>\n",
       "      <td>NaN</td>\n",
       "    </tr>\n",
       "    <tr>\n",
       "      <th>3</th>\n",
       "      <td>0003c8ae-4e96-4c85-967a-0e783e7e1066</td>\n",
       "      <td>2015</td>\n",
       "      <td>3</td>\n",
       "      <td>5</td>\n",
       "      <td>10667</td>\n",
       "      <td>NaN</td>\n",
       "    </tr>\n",
       "    <tr>\n",
       "      <th>4</th>\n",
       "      <td>0003c8ae-4e96-4c85-967a-0e783e7e1066</td>\n",
       "      <td>2015</td>\n",
       "      <td>3</td>\n",
       "      <td>9</td>\n",
       "      <td>16128</td>\n",
       "      <td>NaN</td>\n",
       "    </tr>\n",
       "  </tbody>\n",
       "</table>\n",
       "</div>"
      ],
      "text/plain": [
       "                                user_id  year  month  day  steps  bmi\n",
       "0  00003941-eab1-4c08-8e57-96612cb7094d  2017      2   27  26757  NaN\n",
       "1  00036f02-8b2c-4c0d-b13b-fac0725fbcb2  2015      2    1  10106  NaN\n",
       "2  0003c8ae-4e96-4c85-967a-0e783e7e1066  2015      2   17  16420  NaN\n",
       "3  0003c8ae-4e96-4c85-967a-0e783e7e1066  2015      3    5  10667  NaN\n",
       "4  0003c8ae-4e96-4c85-967a-0e783e7e1066  2015      3    9  16128  NaN"
      ]
     },
     "execution_count": 53,
     "metadata": {},
     "output_type": "execute_result"
    }
   ],
   "source": [
    "printmd('**Merge bmi and steps data, keeping only keys from the activities dataframe.**')\n",
    "bmi_steps = pd.merge(activities, weights, how='left', on=['user_id', 'year', \n",
    "                                                          'month', 'day'])\n",
    "bmi_steps = bmi_steps.sort_values(['user_id', 'year', 'month', 'day'])\n",
    "printmd('**Number of merged bmi/steps entries:** {}'.format(len(bmi_steps)))\n",
    "printmd('**Overview of bmi/steps data:**')\n",
    "bmi_steps.head()"
   ]
  },
  {
   "cell_type": "code",
   "execution_count": 54,
   "metadata": {},
   "outputs": [
    {
     "data": {
      "text/markdown": [
       "**Interpolate bmi values**"
      ],
      "text/plain": [
       "<IPython.core.display.Markdown object>"
      ]
     },
     "metadata": {},
     "output_type": "display_data"
    },
    {
     "data": {
      "text/markdown": [
       "* Remaining number of null values:"
      ],
      "text/plain": [
       "<IPython.core.display.Markdown object>"
      ]
     },
     "metadata": {},
     "output_type": "display_data"
    },
    {
     "data": {
      "text/plain": [
       "user_id         0\n",
       "year            0\n",
       "month           0\n",
       "day             0\n",
       "steps           0\n",
       "bmi        569900\n",
       "dtype: int64"
      ]
     },
     "execution_count": 54,
     "metadata": {},
     "output_type": "execute_result"
    }
   ],
   "source": [
    "printmd('**Interpolate bmi values**')\n",
    "bmi_steps['bmi'] = bmi_steps.groupby('user_id')['bmi'].apply(lambda group: group.fillna(\n",
    "    group.interpolate(method='index')))\n",
    "\n",
    "bmi_steps['bmi'] = bmi_steps.groupby('user_id')['bmi'].apply(lambda group: group.fillna(\n",
    "    method='bfill'))\n",
    "\n",
    "bmi_steps['bmi'] = bmi_steps.groupby('user_id')['bmi'].apply(lambda group: group.fillna(\n",
    "    method='ffill'))\n",
    "\n",
    "printmd('* Remaining number of null values:')\n",
    "bmi_steps.isnull().sum()"
   ]
  },
  {
   "cell_type": "code",
   "execution_count": 55,
   "metadata": {},
   "outputs": [
    {
     "data": {
      "text/markdown": [
       "**Drop null values**"
      ],
      "text/plain": [
       "<IPython.core.display.Markdown object>"
      ]
     },
     "metadata": {},
     "output_type": "display_data"
    },
    {
     "data": {
      "text/markdown": [
       "* Remaining number of bmi/steps entries: 53171"
      ],
      "text/plain": [
       "<IPython.core.display.Markdown object>"
      ]
     },
     "metadata": {},
     "output_type": "display_data"
    },
    {
     "data": {
      "text/markdown": [
       "* Remaining number of distinct user_ids: 4136"
      ],
      "text/plain": [
       "<IPython.core.display.Markdown object>"
      ]
     },
     "metadata": {},
     "output_type": "display_data"
    }
   ],
   "source": [
    "printmd('**Drop null values**')\n",
    "bmi_steps = bmi_steps.dropna()\n",
    "printmd('* Remaining number of bmi/steps entries: {}'.format(len(bmi_steps)))\n",
    "printmd('* Remaining number of distinct user_ids: {}'.format(bmi_steps.user_id.nunique()))"
   ]
  },
  {
   "cell_type": "code",
   "execution_count": 56,
   "metadata": {
    "collapsed": true
   },
   "outputs": [],
   "source": [
    "# Save bmi_steps data\n",
    "with open('../data/filtered/bmi_steps.pickle', 'wb') as f:\n",
    "    pickle.dump(bmi_steps, f)"
   ]
  },
  {
   "cell_type": "markdown",
   "metadata": {},
   "source": [
    "# Histograms of remaining data"
   ]
  },
  {
   "cell_type": "code",
   "execution_count": 57,
   "metadata": {},
   "outputs": [
    {
     "data": {
      "text/markdown": [
       "**Bmi**"
      ],
      "text/plain": [
       "<IPython.core.display.Markdown object>"
      ]
     },
     "metadata": {},
     "output_type": "display_data"
    },
    {
     "data": {
      "image/png": "[encoded data removed]",
      "text/plain": [
       "<matplotlib.figure.Figure at 0x14b911390>"
      ]
     },
     "metadata": {},
     "output_type": "display_data"
    }
   ],
   "source": [
    "# Bmi Histogram\n",
    "printmd('**Bmi**')\n",
    "n, bins, patches = plt.hist(\n",
    "    list(bmi_steps['bmi'].values), bins = 10)\n",
    "plt.show()"
   ]
  },
  {
   "cell_type": "code",
   "execution_count": 58,
   "metadata": {},
   "outputs": [
    {
     "data": {
      "text/markdown": [
       "**Steps**"
      ],
      "text/plain": [
       "<IPython.core.display.Markdown object>"
      ]
     },
     "metadata": {},
     "output_type": "display_data"
    },
    {
     "data": {
      "image/png": "[encoded data removed]",
      "text/plain": [
       "<matplotlib.figure.Figure at 0x14b919470>"
      ]
     },
     "metadata": {},
     "output_type": "display_data"
    }
   ],
   "source": [
    "# Steps Histogram\n",
    "printmd('**Steps**')\n",
    "n, bins, patches = plt.hist(\n",
    "    list(bmi_steps['steps'].values), bins = 10)\n",
    "plt.show()"
   ]
  },
  {
   "cell_type": "code",
   "execution_count": 59,
   "metadata": {
    "collapsed": true
   },
   "outputs": [],
   "source": [
    "# Read users data\n",
    "with open('../data/filtered/users_filter.pickle', 'rb') as f:\n",
    "    users = pd.DataFrame(pickle.load(f))"
   ]
  },
  {
   "cell_type": "code",
   "execution_count": 60,
   "metadata": {},
   "outputs": [
    {
     "data": {
      "text/markdown": [
       "**Users sex**"
      ],
      "text/plain": [
       "<IPython.core.display.Markdown object>"
      ]
     },
     "metadata": {},
     "output_type": "display_data"
    },
    {
     "data": {
      "image/png": "[encoded data removed]",
      "text/plain": [
       "<matplotlib.figure.Figure at 0x177475f60>"
      ]
     },
     "metadata": {},
     "output_type": "display_data"
    },
    {
     "name": "stdout",
     "output_type": "stream",
     "text": [
      "sex\n",
      "female    2040\n",
      "male      2096\n",
      "Name: user_id, dtype: int64\n"
     ]
    }
   ],
   "source": [
    "# Users sex Histogram\n",
    "printmd('**Users sex**')\n",
    "# Users per sex\n",
    "users = users[users.user_id.isin(bmi_steps['user_id'])]\n",
    "users_sex = users.groupby('sex')['user_id'].count()\n",
    "users_sex.plot(kind='bar')\n",
    "plt.show()\n",
    "print(users_sex)"
   ]
  },
  {
   "cell_type": "code",
   "execution_count": 61,
   "metadata": {},
   "outputs": [
    {
     "data": {
      "text/markdown": [
       "**Users birthday**"
      ],
      "text/plain": [
       "<IPython.core.display.Markdown object>"
      ]
     },
     "metadata": {},
     "output_type": "display_data"
    },
    {
     "data": {
      "image/png": "[encoded data removed]",
      "text/plain": [
       "<matplotlib.figure.Figure at 0x14b9248d0>"
      ]
     },
     "metadata": {},
     "output_type": "display_data"
    }
   ],
   "source": [
    "# Users birthday Histogram\n",
    "printmd('**Users birthday**')\n",
    "plt.hist(list(users['birthday'].values), bins = 10)\n",
    "plt.show()"
   ]
  }
 ],
 "metadata": {
  "kernelspec": {
   "display_name": "Python 3",
   "language": "python",
   "name": "python3"
  },
  "language_info": {
   "codemirror_mode": {
    "name": "ipython",
    "version": 3
   },
   "file_extension": ".py",
   "mimetype": "text/x-python",
   "name": "python",
   "nbconvert_exporter": "python",
   "pygments_lexer": "ipython3",
   "version": "3.6.1"
  }
 },
 "nbformat": 4,
 "nbformat_minor": 2
}
