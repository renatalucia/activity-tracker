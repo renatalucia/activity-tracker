{
 "cells": [
  {
   "cell_type": "code",
   "execution_count": 14,
   "metadata": {
    "collapsed": true
   },
   "outputs": [],
   "source": [
    "import pickle\n",
    "import pandas as pd\n",
    "import matplotlib.pyplot as plt\n",
    "import numpy as np\n",
    "import datetime\n",
    "import operator\n",
    "from collections import Counter"
   ]
  },
  {
   "cell_type": "code",
   "execution_count": 15,
   "metadata": {},
   "outputs": [
    {
     "data": {
      "text/html": [
       "<script>jQuery(function() {if (jQuery(\"body.notebook_app\").length == 0) { jQuery(\".input_area\").toggle(); jQuery(\".prompt\").toggle();}});</script>"
      ]
     },
     "metadata": {},
     "output_type": "display_data"
    },
    {
     "data": {
      "text/html": [
       "<button onclick=\"jQuery('.input_area').toggle(); jQuery('.prompt').toggle();\">Toggle code</button>"
      ]
     },
     "metadata": {},
     "output_type": "display_data"
    }
   ],
   "source": [
    "import IPython.core.display as di\n",
    "\n",
    "# This line will hide code by default when the notebook is exported as HTML\n",
    "di.display_html('<script>jQuery(function() {if (jQuery(\"body.notebook_app\").length == 0) { jQuery(\".input_area\").toggle(); jQuery(\".prompt\").toggle();}});</script>', raw=True)\n",
    "\n",
    "# This line will add a button to toggle visibility of code blocks, for use with the HTML export version\n",
    "di.display_html('''<button onclick=\"jQuery('.input_area').toggle(); jQuery('.prompt').toggle();\">Toggle code</button>''', raw=True)"
   ]
  },
  {
   "cell_type": "code",
   "execution_count": 16,
   "metadata": {
    "collapsed": true
   },
   "outputs": [],
   "source": [
    "from IPython.display import Markdown, display\n",
    "def printmd(string):\n",
    "    display(Markdown(string))"
   ]
  },
  {
   "cell_type": "code",
   "execution_count": 17,
   "metadata": {
    "collapsed": true
   },
   "outputs": [],
   "source": [
    "with open('../data/filtered/activities_filter.pickle', 'rb') as f:\n",
    "    activities = pd.DataFrame(pickle.load(f))\n",
    "with open('../data/filtered/weights_filter.pickle', 'rb') as f:\n",
    "    weights = pd.DataFrame(pickle.load(f))"
   ]
  },
  {
   "cell_type": "markdown",
   "metadata": {},
   "source": [
    "# Data Overview"
   ]
  },
  {
   "cell_type": "code",
   "execution_count": 18,
   "metadata": {},
   "outputs": [
    {
     "data": {
      "text/markdown": [
       "**Activities**"
      ],
      "text/plain": [
       "<IPython.core.display.Markdown object>"
      ]
     },
     "metadata": {},
     "output_type": "display_data"
    },
    {
     "data": {
      "text/html": [
       "<div>\n",
       "<style>\n",
       "    .dataframe thead tr:only-child th {\n",
       "        text-align: right;\n",
       "    }\n",
       "\n",
       "    .dataframe thead th {\n",
       "        text-align: left;\n",
       "    }\n",
       "\n",
       "    .dataframe tbody tr th {\n",
       "        vertical-align: top;\n",
       "    }\n",
       "</style>\n",
       "<table border=\"1\" class=\"dataframe\">\n",
       "  <thead>\n",
       "    <tr style=\"text-align: right;\">\n",
       "      <th></th>\n",
       "      <th>calories</th>\n",
       "      <th>distance</th>\n",
       "      <th>measurement_date</th>\n",
       "      <th>steps</th>\n",
       "      <th>user_id</th>\n",
       "    </tr>\n",
       "  </thead>\n",
       "  <tbody>\n",
       "    <tr>\n",
       "      <th>0</th>\n",
       "      <td>0.00</td>\n",
       "      <td>0.00</td>\n",
       "      <td>2015-08-12 02:00:00</td>\n",
       "      <td>0</td>\n",
       "      <td>000025b9-60ab-44ec-9589-edd906cbf564</td>\n",
       "    </tr>\n",
       "    <tr>\n",
       "      <th>1</th>\n",
       "      <td>277.91</td>\n",
       "      <td>5.90</td>\n",
       "      <td>2015-08-24 02:00:00</td>\n",
       "      <td>7971</td>\n",
       "      <td>000025b9-60ab-44ec-9589-edd906cbf564</td>\n",
       "    </tr>\n",
       "    <tr>\n",
       "      <th>2</th>\n",
       "      <td>607.50</td>\n",
       "      <td>12.97</td>\n",
       "      <td>2015-08-25 02:00:00</td>\n",
       "      <td>17452</td>\n",
       "      <td>000025b9-60ab-44ec-9589-edd906cbf564</td>\n",
       "    </tr>\n",
       "    <tr>\n",
       "      <th>3</th>\n",
       "      <td>681.24</td>\n",
       "      <td>14.30</td>\n",
       "      <td>2015-08-26 02:00:00</td>\n",
       "      <td>19201</td>\n",
       "      <td>000025b9-60ab-44ec-9589-edd906cbf564</td>\n",
       "    </tr>\n",
       "    <tr>\n",
       "      <th>4</th>\n",
       "      <td>0.00</td>\n",
       "      <td>0.00</td>\n",
       "      <td>2015-08-27 02:00:00</td>\n",
       "      <td>0</td>\n",
       "      <td>000025b9-60ab-44ec-9589-edd906cbf564</td>\n",
       "    </tr>\n",
       "  </tbody>\n",
       "</table>\n",
       "</div>"
      ],
      "text/plain": [
       "   calories  distance     measurement_date  steps  \\\n",
       "0      0.00      0.00  2015-08-12 02:00:00      0   \n",
       "1    277.91      5.90  2015-08-24 02:00:00   7971   \n",
       "2    607.50     12.97  2015-08-25 02:00:00  17452   \n",
       "3    681.24     14.30  2015-08-26 02:00:00  19201   \n",
       "4      0.00      0.00  2015-08-27 02:00:00      0   \n",
       "\n",
       "                                user_id  \n",
       "0  000025b9-60ab-44ec-9589-edd906cbf564  \n",
       "1  000025b9-60ab-44ec-9589-edd906cbf564  \n",
       "2  000025b9-60ab-44ec-9589-edd906cbf564  \n",
       "3  000025b9-60ab-44ec-9589-edd906cbf564  \n",
       "4  000025b9-60ab-44ec-9589-edd906cbf564  "
      ]
     },
     "execution_count": 18,
     "metadata": {},
     "output_type": "execute_result"
    }
   ],
   "source": [
    "printmd('**Activities**')\n",
    "activities.head()"
   ]
  },
  {
   "cell_type": "code",
   "execution_count": 19,
   "metadata": {},
   "outputs": [
    {
     "data": {
      "text/markdown": [
       "**Weights**"
      ],
      "text/plain": [
       "<IPython.core.display.Markdown object>"
      ]
     },
     "metadata": {},
     "output_type": "display_data"
    },
    {
     "data": {
      "text/html": [
       "<div>\n",
       "<style>\n",
       "    .dataframe thead tr:only-child th {\n",
       "        text-align: right;\n",
       "    }\n",
       "\n",
       "    .dataframe thead th {\n",
       "        text-align: left;\n",
       "    }\n",
       "\n",
       "    .dataframe tbody tr th {\n",
       "        vertical-align: top;\n",
       "    }\n",
       "</style>\n",
       "<table border=\"1\" class=\"dataframe\">\n",
       "  <thead>\n",
       "    <tr style=\"text-align: right;\">\n",
       "      <th></th>\n",
       "      <th>bmi</th>\n",
       "      <th>body_weight</th>\n",
       "      <th>measurement_date</th>\n",
       "      <th>user_id</th>\n",
       "      <th>height</th>\n",
       "    </tr>\n",
       "  </thead>\n",
       "  <tbody>\n",
       "    <tr>\n",
       "      <th>0</th>\n",
       "      <td>28.900757</td>\n",
       "      <td>85.5</td>\n",
       "      <td>2017-01-07 17:37:12</td>\n",
       "      <td>00004dca-f8ca-4536-ad74-46202452e032</td>\n",
       "      <td>172.0</td>\n",
       "    </tr>\n",
       "    <tr>\n",
       "      <th>1</th>\n",
       "      <td>27.717685</td>\n",
       "      <td>82.0</td>\n",
       "      <td>2017-01-07 18:10:48</td>\n",
       "      <td>00004dca-f8ca-4536-ad74-46202452e032</td>\n",
       "      <td>172.0</td>\n",
       "    </tr>\n",
       "    <tr>\n",
       "      <th>2</th>\n",
       "      <td>28.866955</td>\n",
       "      <td>85.4</td>\n",
       "      <td>2017-01-07 18:12:19</td>\n",
       "      <td>00004dca-f8ca-4536-ad74-46202452e032</td>\n",
       "      <td>172.0</td>\n",
       "    </tr>\n",
       "    <tr>\n",
       "      <th>3</th>\n",
       "      <td>28.968515</td>\n",
       "      <td>101.3</td>\n",
       "      <td>2017-03-26 14:40:55</td>\n",
       "      <td>0000767c-089c-415f-a3ea-10a83eff7115</td>\n",
       "      <td>187.0</td>\n",
       "    </tr>\n",
       "    <tr>\n",
       "      <th>4</th>\n",
       "      <td>29.025708</td>\n",
       "      <td>101.5</td>\n",
       "      <td>2017-03-26 14:57:47</td>\n",
       "      <td>0000767c-089c-415f-a3ea-10a83eff7115</td>\n",
       "      <td>187.0</td>\n",
       "    </tr>\n",
       "  </tbody>\n",
       "</table>\n",
       "</div>"
      ],
      "text/plain": [
       "         bmi  body_weight     measurement_date  \\\n",
       "0  28.900757         85.5  2017-01-07 17:37:12   \n",
       "1  27.717685         82.0  2017-01-07 18:10:48   \n",
       "2  28.866955         85.4  2017-01-07 18:12:19   \n",
       "3  28.968515        101.3  2017-03-26 14:40:55   \n",
       "4  29.025708        101.5  2017-03-26 14:57:47   \n",
       "\n",
       "                                user_id  height  \n",
       "0  00004dca-f8ca-4536-ad74-46202452e032   172.0  \n",
       "1  00004dca-f8ca-4536-ad74-46202452e032   172.0  \n",
       "2  00004dca-f8ca-4536-ad74-46202452e032   172.0  \n",
       "3  0000767c-089c-415f-a3ea-10a83eff7115   187.0  \n",
       "4  0000767c-089c-415f-a3ea-10a83eff7115   187.0  "
      ]
     },
     "execution_count": 19,
     "metadata": {},
     "output_type": "execute_result"
    }
   ],
   "source": [
    "printmd('**Weights**')\n",
    "weights.head()"
   ]
  },
  {
   "cell_type": "markdown",
   "metadata": {},
   "source": [
    "# Data Preparation"
   ]
  },
  {
   "cell_type": "markdown",
   "metadata": {},
   "source": [
    "## Weights"
   ]
  },
  {
   "cell_type": "code",
   "execution_count": 20,
   "metadata": {},
   "outputs": [
    {
     "data": {
      "text/markdown": [
       "**Add fields**: year, month, day"
      ],
      "text/plain": [
       "<IPython.core.display.Markdown object>"
      ]
     },
     "metadata": {},
     "output_type": "display_data"
    },
    {
     "data": {
      "text/markdown": [
       "**Filter weight columns**: user_id, year, month, bmi"
      ],
      "text/plain": [
       "<IPython.core.display.Markdown object>"
      ]
     },
     "metadata": {},
     "output_type": "display_data"
    },
    {
     "data": {
      "text/markdown": [
       "**In case of multiple bmi measures in the same day, take the mean value**"
      ],
      "text/plain": [
       "<IPython.core.display.Markdown object>"
      ]
     },
     "metadata": {},
     "output_type": "display_data"
    },
    {
     "data": {
      "text/markdown": [
       "**Remove duplicates**"
      ],
      "text/plain": [
       "<IPython.core.display.Markdown object>"
      ]
     },
     "metadata": {},
     "output_type": "display_data"
    },
    {
     "data": {
      "text/markdown": [
       "* Number of duplicated entries removed: 2189819"
      ],
      "text/plain": [
       "<IPython.core.display.Markdown object>"
      ]
     },
     "metadata": {},
     "output_type": "display_data"
    },
    {
     "data": {
      "text/markdown": [
       "* Remaining number of weight entries: 6894745"
      ],
      "text/plain": [
       "<IPython.core.display.Markdown object>"
      ]
     },
     "metadata": {},
     "output_type": "display_data"
    }
   ],
   "source": [
    "printmd('**Add fields**: year, month, day')\n",
    "weights['year'] = weights['measurement_date'].apply(lambda x: x.year)\n",
    "weights['month'] = weights['measurement_date'].apply(lambda x: x.month)\n",
    "weights['day'] = weights['measurement_date'].apply(lambda x: x.day)\n",
    "\n",
    "printmd('**Filter weight columns**: user_id, year, month, bmi')\n",
    "weights = weights[['user_id', 'year', 'month', 'day', 'bmi']]\n",
    "\n",
    "printmd('**In case of multiple bmi measures in the same day, take the mean value**')\n",
    "\n",
    "weights['bmi'] = weights.groupby(\n",
    "    ['user_id', 'year', 'month', 'day'])['bmi'].transform('mean')\n",
    "\n",
    "printmd('**Remove duplicates**')\n",
    "len_before = len(weights)\n",
    "weights = weights.drop_duplicates()\n",
    "printmd('* Number of duplicated entries removed: {}'.format(len_before - len(weights)))\n",
    "printmd('* Remaining number of weight entries: {}'.format(len(weights)))"
   ]
  },
  {
   "cell_type": "code",
   "execution_count": 21,
   "metadata": {},
   "outputs": [
    {
     "data": {
      "text/markdown": [
       "**Prepared data overview: weights**"
      ],
      "text/plain": [
       "<IPython.core.display.Markdown object>"
      ]
     },
     "metadata": {},
     "output_type": "display_data"
    },
    {
     "data": {
      "text/html": [
       "<div>\n",
       "<style>\n",
       "    .dataframe thead tr:only-child th {\n",
       "        text-align: right;\n",
       "    }\n",
       "\n",
       "    .dataframe thead th {\n",
       "        text-align: left;\n",
       "    }\n",
       "\n",
       "    .dataframe tbody tr th {\n",
       "        vertical-align: top;\n",
       "    }\n",
       "</style>\n",
       "<table border=\"1\" class=\"dataframe\">\n",
       "  <thead>\n",
       "    <tr style=\"text-align: right;\">\n",
       "      <th></th>\n",
       "      <th>user_id</th>\n",
       "      <th>year</th>\n",
       "      <th>month</th>\n",
       "      <th>day</th>\n",
       "      <th>bmi</th>\n",
       "    </tr>\n",
       "  </thead>\n",
       "  <tbody>\n",
       "    <tr>\n",
       "      <th>0</th>\n",
       "      <td>00004dca-f8ca-4536-ad74-46202452e032</td>\n",
       "      <td>2017</td>\n",
       "      <td>1</td>\n",
       "      <td>7</td>\n",
       "      <td>28.495133</td>\n",
       "    </tr>\n",
       "    <tr>\n",
       "      <th>3</th>\n",
       "      <td>0000767c-089c-415f-a3ea-10a83eff7115</td>\n",
       "      <td>2017</td>\n",
       "      <td>3</td>\n",
       "      <td>26</td>\n",
       "      <td>28.997112</td>\n",
       "    </tr>\n",
       "    <tr>\n",
       "      <th>5</th>\n",
       "      <td>0000f27e-7b4e-4cb0-875d-6d067e078291</td>\n",
       "      <td>2017</td>\n",
       "      <td>2</td>\n",
       "      <td>28</td>\n",
       "      <td>20.348837</td>\n",
       "    </tr>\n",
       "    <tr>\n",
       "      <th>6</th>\n",
       "      <td>0000f27e-7b4e-4cb0-875d-6d067e078291</td>\n",
       "      <td>2017</td>\n",
       "      <td>3</td>\n",
       "      <td>1</td>\n",
       "      <td>20.348837</td>\n",
       "    </tr>\n",
       "    <tr>\n",
       "      <th>7</th>\n",
       "      <td>0000f27e-7b4e-4cb0-875d-6d067e078291</td>\n",
       "      <td>2017</td>\n",
       "      <td>3</td>\n",
       "      <td>2</td>\n",
       "      <td>20.146025</td>\n",
       "    </tr>\n",
       "  </tbody>\n",
       "</table>\n",
       "</div>"
      ],
      "text/plain": [
       "                                user_id  year  month  day        bmi\n",
       "0  00004dca-f8ca-4536-ad74-46202452e032  2017      1    7  28.495133\n",
       "3  0000767c-089c-415f-a3ea-10a83eff7115  2017      3   26  28.997112\n",
       "5  0000f27e-7b4e-4cb0-875d-6d067e078291  2017      2   28  20.348837\n",
       "6  0000f27e-7b4e-4cb0-875d-6d067e078291  2017      3    1  20.348837\n",
       "7  0000f27e-7b4e-4cb0-875d-6d067e078291  2017      3    2  20.146025"
      ]
     },
     "execution_count": 21,
     "metadata": {},
     "output_type": "execute_result"
    }
   ],
   "source": [
    "printmd('**Prepared data overview: weights**')\n",
    "weights.head()"
   ]
  },
  {
   "cell_type": "markdown",
   "metadata": {},
   "source": [
    "## Activities"
   ]
  },
  {
   "cell_type": "code",
   "execution_count": 22,
   "metadata": {},
   "outputs": [
    {
     "data": {
      "text/markdown": [
       "**Handle multiple entries of steps at the same timestamp**"
      ],
      "text/plain": [
       "<IPython.core.display.Markdown object>"
      ]
     },
     "metadata": {},
     "output_type": "display_data"
    },
    {
     "data": {
      "text/markdown": [
       "**Sample of multiple measurements for same user and dame timestamp**"
      ],
      "text/plain": [
       "<IPython.core.display.Markdown object>"
      ]
     },
     "metadata": {},
     "output_type": "display_data"
    },
    {
     "data": {
      "text/html": [
       "<div>\n",
       "<style>\n",
       "    .dataframe thead tr:only-child th {\n",
       "        text-align: right;\n",
       "    }\n",
       "\n",
       "    .dataframe thead th {\n",
       "        text-align: left;\n",
       "    }\n",
       "\n",
       "    .dataframe tbody tr th {\n",
       "        vertical-align: top;\n",
       "    }\n",
       "</style>\n",
       "<table border=\"1\" class=\"dataframe\">\n",
       "  <thead>\n",
       "    <tr style=\"text-align: right;\">\n",
       "      <th></th>\n",
       "      <th>calories</th>\n",
       "      <th>distance</th>\n",
       "      <th>measurement_date</th>\n",
       "      <th>steps</th>\n",
       "      <th>user_id</th>\n",
       "    </tr>\n",
       "  </thead>\n",
       "  <tbody>\n",
       "    <tr>\n",
       "      <th>7427495</th>\n",
       "      <td>0.00</td>\n",
       "      <td>0.00</td>\n",
       "      <td>2017-03-14 01:00:00</td>\n",
       "      <td>0</td>\n",
       "      <td>fa40be06-619b-49d4-b745-78f1b2ce9d5d</td>\n",
       "    </tr>\n",
       "    <tr>\n",
       "      <th>7427496</th>\n",
       "      <td>94.06</td>\n",
       "      <td>1.67</td>\n",
       "      <td>2017-03-14 01:00:00</td>\n",
       "      <td>2285</td>\n",
       "      <td>fa40be06-619b-49d4-b745-78f1b2ce9d5d</td>\n",
       "    </tr>\n",
       "    <tr>\n",
       "      <th>7427497</th>\n",
       "      <td>135.01</td>\n",
       "      <td>2.41</td>\n",
       "      <td>2017-03-14 01:00:00</td>\n",
       "      <td>3286</td>\n",
       "      <td>fa40be06-619b-49d4-b745-78f1b2ce9d5d</td>\n",
       "    </tr>\n",
       "    <tr>\n",
       "      <th>7427498</th>\n",
       "      <td>167.30</td>\n",
       "      <td>3.03</td>\n",
       "      <td>2017-03-14 01:00:00</td>\n",
       "      <td>4151</td>\n",
       "      <td>fa40be06-619b-49d4-b745-78f1b2ce9d5d</td>\n",
       "    </tr>\n",
       "    <tr>\n",
       "      <th>7427499</th>\n",
       "      <td>177.74</td>\n",
       "      <td>3.24</td>\n",
       "      <td>2017-03-14 01:00:00</td>\n",
       "      <td>4444</td>\n",
       "      <td>fa40be06-619b-49d4-b745-78f1b2ce9d5d</td>\n",
       "    </tr>\n",
       "    <tr>\n",
       "      <th>7427500</th>\n",
       "      <td>246.97</td>\n",
       "      <td>4.45</td>\n",
       "      <td>2017-03-14 01:00:00</td>\n",
       "      <td>6086</td>\n",
       "      <td>fa40be06-619b-49d4-b745-78f1b2ce9d5d</td>\n",
       "    </tr>\n",
       "    <tr>\n",
       "      <th>7427501</th>\n",
       "      <td>256.44</td>\n",
       "      <td>4.60</td>\n",
       "      <td>2017-03-14 01:00:00</td>\n",
       "      <td>6297</td>\n",
       "      <td>fa40be06-619b-49d4-b745-78f1b2ce9d5d</td>\n",
       "    </tr>\n",
       "    <tr>\n",
       "      <th>7427502</th>\n",
       "      <td>286.78</td>\n",
       "      <td>5.13</td>\n",
       "      <td>2017-03-14 01:00:00</td>\n",
       "      <td>7010</td>\n",
       "      <td>fa40be06-619b-49d4-b745-78f1b2ce9d5d</td>\n",
       "    </tr>\n",
       "    <tr>\n",
       "      <th>7427503</th>\n",
       "      <td>315.61</td>\n",
       "      <td>5.66</td>\n",
       "      <td>2017-03-14 01:00:00</td>\n",
       "      <td>7745</td>\n",
       "      <td>fa40be06-619b-49d4-b745-78f1b2ce9d5d</td>\n",
       "    </tr>\n",
       "    <tr>\n",
       "      <th>7427504</th>\n",
       "      <td>315.61</td>\n",
       "      <td>5.66</td>\n",
       "      <td>2017-03-14 01:00:00</td>\n",
       "      <td>7745</td>\n",
       "      <td>fa40be06-619b-49d4-b745-78f1b2ce9d5d</td>\n",
       "    </tr>\n",
       "    <tr>\n",
       "      <th>7427505</th>\n",
       "      <td>315.61</td>\n",
       "      <td>5.66</td>\n",
       "      <td>2017-03-14 01:00:00</td>\n",
       "      <td>7745</td>\n",
       "      <td>fa40be06-619b-49d4-b745-78f1b2ce9d5d</td>\n",
       "    </tr>\n",
       "    <tr>\n",
       "      <th>7427506</th>\n",
       "      <td>469.85</td>\n",
       "      <td>8.58</td>\n",
       "      <td>2017-03-14 01:00:00</td>\n",
       "      <td>11745</td>\n",
       "      <td>fa40be06-619b-49d4-b745-78f1b2ce9d5d</td>\n",
       "    </tr>\n",
       "    <tr>\n",
       "      <th>7427507</th>\n",
       "      <td>499.01</td>\n",
       "      <td>9.14</td>\n",
       "      <td>2017-03-14 01:00:00</td>\n",
       "      <td>12518</td>\n",
       "      <td>fa40be06-619b-49d4-b745-78f1b2ce9d5d</td>\n",
       "    </tr>\n",
       "    <tr>\n",
       "      <th>7427508</th>\n",
       "      <td>563.18</td>\n",
       "      <td>10.26</td>\n",
       "      <td>2017-03-14 01:00:00</td>\n",
       "      <td>14057</td>\n",
       "      <td>fa40be06-619b-49d4-b745-78f1b2ce9d5d</td>\n",
       "    </tr>\n",
       "    <tr>\n",
       "      <th>7427509</th>\n",
       "      <td>591.59</td>\n",
       "      <td>10.79</td>\n",
       "      <td>2017-03-14 01:00:00</td>\n",
       "      <td>14804</td>\n",
       "      <td>fa40be06-619b-49d4-b745-78f1b2ce9d5d</td>\n",
       "    </tr>\n",
       "    <tr>\n",
       "      <th>7427510</th>\n",
       "      <td>719.60</td>\n",
       "      <td>13.07</td>\n",
       "      <td>2017-03-14 01:00:00</td>\n",
       "      <td>17905</td>\n",
       "      <td>fa40be06-619b-49d4-b745-78f1b2ce9d5d</td>\n",
       "    </tr>\n",
       "    <tr>\n",
       "      <th>7427511</th>\n",
       "      <td>786.44</td>\n",
       "      <td>14.33</td>\n",
       "      <td>2017-03-14 01:00:00</td>\n",
       "      <td>19626</td>\n",
       "      <td>fa40be06-619b-49d4-b745-78f1b2ce9d5d</td>\n",
       "    </tr>\n",
       "    <tr>\n",
       "      <th>7427512</th>\n",
       "      <td>821.17</td>\n",
       "      <td>14.82</td>\n",
       "      <td>2017-03-14 01:00:00</td>\n",
       "      <td>20287</td>\n",
       "      <td>fa40be06-619b-49d4-b745-78f1b2ce9d5d</td>\n",
       "    </tr>\n",
       "    <tr>\n",
       "      <th>7427513</th>\n",
       "      <td>844.68</td>\n",
       "      <td>15.25</td>\n",
       "      <td>2017-03-14 01:00:00</td>\n",
       "      <td>20872</td>\n",
       "      <td>fa40be06-619b-49d4-b745-78f1b2ce9d5d</td>\n",
       "    </tr>\n",
       "    <tr>\n",
       "      <th>7427514</th>\n",
       "      <td>865.65</td>\n",
       "      <td>15.65</td>\n",
       "      <td>2017-03-14 01:00:00</td>\n",
       "      <td>21434</td>\n",
       "      <td>fa40be06-619b-49d4-b745-78f1b2ce9d5d</td>\n",
       "    </tr>\n",
       "    <tr>\n",
       "      <th>7427515</th>\n",
       "      <td>865.65</td>\n",
       "      <td>15.65</td>\n",
       "      <td>2017-03-14 01:00:00</td>\n",
       "      <td>21434</td>\n",
       "      <td>fa40be06-619b-49d4-b745-78f1b2ce9d5d</td>\n",
       "    </tr>\n",
       "    <tr>\n",
       "      <th>7427516</th>\n",
       "      <td>865.65</td>\n",
       "      <td>15.65</td>\n",
       "      <td>2017-03-14 01:00:00</td>\n",
       "      <td>21434</td>\n",
       "      <td>fa40be06-619b-49d4-b745-78f1b2ce9d5d</td>\n",
       "    </tr>\n",
       "    <tr>\n",
       "      <th>7427517</th>\n",
       "      <td>865.65</td>\n",
       "      <td>15.65</td>\n",
       "      <td>2017-03-14 01:00:00</td>\n",
       "      <td>21434</td>\n",
       "      <td>fa40be06-619b-49d4-b745-78f1b2ce9d5d</td>\n",
       "    </tr>\n",
       "  </tbody>\n",
       "</table>\n",
       "</div>"
      ],
      "text/plain": [
       "         calories  distance     measurement_date  steps  \\\n",
       "7427495      0.00      0.00  2017-03-14 01:00:00      0   \n",
       "7427496     94.06      1.67  2017-03-14 01:00:00   2285   \n",
       "7427497    135.01      2.41  2017-03-14 01:00:00   3286   \n",
       "7427498    167.30      3.03  2017-03-14 01:00:00   4151   \n",
       "7427499    177.74      3.24  2017-03-14 01:00:00   4444   \n",
       "7427500    246.97      4.45  2017-03-14 01:00:00   6086   \n",
       "7427501    256.44      4.60  2017-03-14 01:00:00   6297   \n",
       "7427502    286.78      5.13  2017-03-14 01:00:00   7010   \n",
       "7427503    315.61      5.66  2017-03-14 01:00:00   7745   \n",
       "7427504    315.61      5.66  2017-03-14 01:00:00   7745   \n",
       "7427505    315.61      5.66  2017-03-14 01:00:00   7745   \n",
       "7427506    469.85      8.58  2017-03-14 01:00:00  11745   \n",
       "7427507    499.01      9.14  2017-03-14 01:00:00  12518   \n",
       "7427508    563.18     10.26  2017-03-14 01:00:00  14057   \n",
       "7427509    591.59     10.79  2017-03-14 01:00:00  14804   \n",
       "7427510    719.60     13.07  2017-03-14 01:00:00  17905   \n",
       "7427511    786.44     14.33  2017-03-14 01:00:00  19626   \n",
       "7427512    821.17     14.82  2017-03-14 01:00:00  20287   \n",
       "7427513    844.68     15.25  2017-03-14 01:00:00  20872   \n",
       "7427514    865.65     15.65  2017-03-14 01:00:00  21434   \n",
       "7427515    865.65     15.65  2017-03-14 01:00:00  21434   \n",
       "7427516    865.65     15.65  2017-03-14 01:00:00  21434   \n",
       "7427517    865.65     15.65  2017-03-14 01:00:00  21434   \n",
       "\n",
       "                                      user_id  \n",
       "7427495  fa40be06-619b-49d4-b745-78f1b2ce9d5d  \n",
       "7427496  fa40be06-619b-49d4-b745-78f1b2ce9d5d  \n",
       "7427497  fa40be06-619b-49d4-b745-78f1b2ce9d5d  \n",
       "7427498  fa40be06-619b-49d4-b745-78f1b2ce9d5d  \n",
       "7427499  fa40be06-619b-49d4-b745-78f1b2ce9d5d  \n",
       "7427500  fa40be06-619b-49d4-b745-78f1b2ce9d5d  \n",
       "7427501  fa40be06-619b-49d4-b745-78f1b2ce9d5d  \n",
       "7427502  fa40be06-619b-49d4-b745-78f1b2ce9d5d  \n",
       "7427503  fa40be06-619b-49d4-b745-78f1b2ce9d5d  \n",
       "7427504  fa40be06-619b-49d4-b745-78f1b2ce9d5d  \n",
       "7427505  fa40be06-619b-49d4-b745-78f1b2ce9d5d  \n",
       "7427506  fa40be06-619b-49d4-b745-78f1b2ce9d5d  \n",
       "7427507  fa40be06-619b-49d4-b745-78f1b2ce9d5d  \n",
       "7427508  fa40be06-619b-49d4-b745-78f1b2ce9d5d  \n",
       "7427509  fa40be06-619b-49d4-b745-78f1b2ce9d5d  \n",
       "7427510  fa40be06-619b-49d4-b745-78f1b2ce9d5d  \n",
       "7427511  fa40be06-619b-49d4-b745-78f1b2ce9d5d  \n",
       "7427512  fa40be06-619b-49d4-b745-78f1b2ce9d5d  \n",
       "7427513  fa40be06-619b-49d4-b745-78f1b2ce9d5d  \n",
       "7427514  fa40be06-619b-49d4-b745-78f1b2ce9d5d  \n",
       "7427515  fa40be06-619b-49d4-b745-78f1b2ce9d5d  \n",
       "7427516  fa40be06-619b-49d4-b745-78f1b2ce9d5d  \n",
       "7427517  fa40be06-619b-49d4-b745-78f1b2ce9d5d  "
      ]
     },
     "metadata": {},
     "output_type": "display_data"
    },
    {
     "data": {
      "text/markdown": [
       "**In case of multiple steps measures at the same timestamp, take the max value**"
      ],
      "text/plain": [
       "<IPython.core.display.Markdown object>"
      ]
     },
     "metadata": {},
     "output_type": "display_data"
    },
    {
     "data": {
      "text/markdown": [
       "**Remove duplicates**"
      ],
      "text/plain": [
       "<IPython.core.display.Markdown object>"
      ]
     },
     "metadata": {},
     "output_type": "display_data"
    },
    {
     "data": {
      "text/markdown": [
       "* Number of duplicated entries removed: 3070"
      ],
      "text/plain": [
       "<IPython.core.display.Markdown object>"
      ]
     },
     "metadata": {},
     "output_type": "display_data"
    },
    {
     "data": {
      "text/markdown": [
       "* Remaining number of activity entries: 5483940"
      ],
      "text/plain": [
       "<IPython.core.display.Markdown object>"
      ]
     },
     "metadata": {},
     "output_type": "display_data"
    }
   ],
   "source": [
    "printmd('**Handle multiple entries of steps at the same timestamp**')\n",
    "\n",
    "user_measurements =  activities[['user_id','measurement_date']]\n",
    "user_measurements = [tuple(x) for x in user_measurements.values]\n",
    "measurement_counts = dict(Counter(user_measurements))\n",
    "duplicated_measurements = [k for k,v in measurement_counts.items() if v>1]\n",
    "max_duplicated_count = max(measurement_counts.items(), key=operator.itemgetter(1))[0]\n",
    "user_id = max_duplicated_count[0]\n",
    "measurement_date = max_duplicated_count[1]\n",
    "\n",
    "printmd('**Sample of multiple measurements for same user and dame timestamp**')\n",
    "di.display(activities[(activities.user_id==user_id)&(activities.measurement_date==measurement_date)])\n",
    "\n",
    "printmd('**In case of multiple steps measures at the same timestamp, take the max value**')\n",
    "activities['steps'] = activities.groupby(\n",
    "    ['user_id', 'measurement_date'])['steps'].transform('max')\n",
    "\n",
    "printmd('**Remove duplicates**')\n",
    "len_before = len(activities)\n",
    "activities = activities.drop_duplicates()\n",
    "\n",
    "printmd('* Number of duplicated entries removed: {}'.format(len_before - len(activities)))\n",
    "printmd('* Remaining number of activity entries: {}'.format(len(activities)))"
   ]
  },
  {
   "cell_type": "code",
   "execution_count": 9,
   "metadata": {},
   "outputs": [
    {
     "data": {
      "text/html": [
       "<div>\n",
       "<style>\n",
       "    .dataframe thead tr:only-child th {\n",
       "        text-align: right;\n",
       "    }\n",
       "\n",
       "    .dataframe thead th {\n",
       "        text-align: left;\n",
       "    }\n",
       "\n",
       "    .dataframe tbody tr th {\n",
       "        vertical-align: top;\n",
       "    }\n",
       "</style>\n",
       "<table border=\"1\" class=\"dataframe\">\n",
       "  <thead>\n",
       "    <tr style=\"text-align: right;\">\n",
       "      <th></th>\n",
       "      <th>user_id</th>\n",
       "      <th>year</th>\n",
       "      <th>month</th>\n",
       "      <th>day</th>\n",
       "      <th>steps</th>\n",
       "    </tr>\n",
       "  </thead>\n",
       "  <tbody>\n",
       "    <tr>\n",
       "      <th>640497</th>\n",
       "      <td>15a10631-aaa2-4b94-bd72-8eab4b375994</td>\n",
       "      <td>2015</td>\n",
       "      <td>8</td>\n",
       "      <td>6</td>\n",
       "      <td>1671</td>\n",
       "    </tr>\n",
       "    <tr>\n",
       "      <th>640498</th>\n",
       "      <td>15a10631-aaa2-4b94-bd72-8eab4b375994</td>\n",
       "      <td>2015</td>\n",
       "      <td>8</td>\n",
       "      <td>6</td>\n",
       "      <td>9835</td>\n",
       "    </tr>\n",
       "    <tr>\n",
       "      <th>640499</th>\n",
       "      <td>15a10631-aaa2-4b94-bd72-8eab4b375994</td>\n",
       "      <td>2015</td>\n",
       "      <td>8</td>\n",
       "      <td>6</td>\n",
       "      <td>13591</td>\n",
       "    </tr>\n",
       "    <tr>\n",
       "      <th>640500</th>\n",
       "      <td>15a10631-aaa2-4b94-bd72-8eab4b375994</td>\n",
       "      <td>2015</td>\n",
       "      <td>8</td>\n",
       "      <td>6</td>\n",
       "      <td>16080</td>\n",
       "    </tr>\n",
       "  </tbody>\n",
       "</table>\n",
       "</div>"
      ],
      "text/plain": [
       "                                     user_id  year  month  day  steps\n",
       "640497  15a10631-aaa2-4b94-bd72-8eab4b375994  2015      8    6   1671\n",
       "640498  15a10631-aaa2-4b94-bd72-8eab4b375994  2015      8    6   9835\n",
       "640499  15a10631-aaa2-4b94-bd72-8eab4b375994  2015      8    6  13591\n",
       "640500  15a10631-aaa2-4b94-bd72-8eab4b375994  2015      8    6  16080"
      ]
     },
     "metadata": {},
     "output_type": "display_data"
    }
   ],
   "source": [
    "year = max_duplicated_count[1]\n",
    "month = max_duplicated_count[2]\n",
    "day = max_duplicated_count[3]\n",
    "di.display(activities[(activities.user_id==user_id)&(activities.year==year)&\n",
    "                      (activities.month==month)&(activities.day==day)])"
   ]
  },
  {
   "cell_type": "code",
   "execution_count": 23,
   "metadata": {},
   "outputs": [
    {
     "data": {
      "text/markdown": [
       "**Add fields**: year, month, day"
      ],
      "text/plain": [
       "<IPython.core.display.Markdown object>"
      ]
     },
     "metadata": {},
     "output_type": "display_data"
    },
    {
     "data": {
      "text/markdown": [
       "**Filter activities columns**: user_id, year, month, steps"
      ],
      "text/plain": [
       "<IPython.core.display.Markdown object>"
      ]
     },
     "metadata": {},
     "output_type": "display_data"
    },
    {
     "data": {
      "text/markdown": [
       "**Remove duplicates**"
      ],
      "text/plain": [
       "<IPython.core.display.Markdown object>"
      ]
     },
     "metadata": {},
     "output_type": "display_data"
    },
    {
     "data": {
      "text/markdown": [
       "* Number of duplicated entries removed: 27625"
      ],
      "text/plain": [
       "<IPython.core.display.Markdown object>"
      ]
     },
     "metadata": {},
     "output_type": "display_data"
    },
    {
     "data": {
      "text/markdown": [
       "* Remaining number of activity entries: 5456315"
      ],
      "text/plain": [
       "<IPython.core.display.Markdown object>"
      ]
     },
     "metadata": {},
     "output_type": "display_data"
    },
    {
     "data": {
      "text/markdown": [
       "**Handle multiple entries of steps at the same day**"
      ],
      "text/plain": [
       "<IPython.core.display.Markdown object>"
      ]
     },
     "metadata": {},
     "output_type": "display_data"
    },
    {
     "data": {
      "text/markdown": [
       "**Sample of multiple measurements for same user and same day**"
      ],
      "text/plain": [
       "<IPython.core.display.Markdown object>"
      ]
     },
     "metadata": {},
     "output_type": "display_data"
    },
    {
     "data": {
      "text/html": [
       "<div>\n",
       "<style>\n",
       "    .dataframe thead tr:only-child th {\n",
       "        text-align: right;\n",
       "    }\n",
       "\n",
       "    .dataframe thead th {\n",
       "        text-align: left;\n",
       "    }\n",
       "\n",
       "    .dataframe tbody tr th {\n",
       "        vertical-align: top;\n",
       "    }\n",
       "</style>\n",
       "<table border=\"1\" class=\"dataframe\">\n",
       "  <thead>\n",
       "    <tr style=\"text-align: right;\">\n",
       "      <th></th>\n",
       "      <th>user_id</th>\n",
       "      <th>year</th>\n",
       "      <th>month</th>\n",
       "      <th>day</th>\n",
       "      <th>steps</th>\n",
       "    </tr>\n",
       "  </thead>\n",
       "  <tbody>\n",
       "    <tr>\n",
       "      <th>640497</th>\n",
       "      <td>15a10631-aaa2-4b94-bd72-8eab4b375994</td>\n",
       "      <td>2015</td>\n",
       "      <td>8</td>\n",
       "      <td>6</td>\n",
       "      <td>1671</td>\n",
       "    </tr>\n",
       "    <tr>\n",
       "      <th>640498</th>\n",
       "      <td>15a10631-aaa2-4b94-bd72-8eab4b375994</td>\n",
       "      <td>2015</td>\n",
       "      <td>8</td>\n",
       "      <td>6</td>\n",
       "      <td>9835</td>\n",
       "    </tr>\n",
       "    <tr>\n",
       "      <th>640499</th>\n",
       "      <td>15a10631-aaa2-4b94-bd72-8eab4b375994</td>\n",
       "      <td>2015</td>\n",
       "      <td>8</td>\n",
       "      <td>6</td>\n",
       "      <td>13591</td>\n",
       "    </tr>\n",
       "    <tr>\n",
       "      <th>640500</th>\n",
       "      <td>15a10631-aaa2-4b94-bd72-8eab4b375994</td>\n",
       "      <td>2015</td>\n",
       "      <td>8</td>\n",
       "      <td>6</td>\n",
       "      <td>16080</td>\n",
       "    </tr>\n",
       "  </tbody>\n",
       "</table>\n",
       "</div>"
      ],
      "text/plain": [
       "                                     user_id  year  month  day  steps\n",
       "640497  15a10631-aaa2-4b94-bd72-8eab4b375994  2015      8    6   1671\n",
       "640498  15a10631-aaa2-4b94-bd72-8eab4b375994  2015      8    6   9835\n",
       "640499  15a10631-aaa2-4b94-bd72-8eab4b375994  2015      8    6  13591\n",
       "640500  15a10631-aaa2-4b94-bd72-8eab4b375994  2015      8    6  16080"
      ]
     },
     "metadata": {},
     "output_type": "display_data"
    },
    {
     "data": {
      "text/markdown": [
       "**In case of multiple steps measures per day, take the max value**"
      ],
      "text/plain": [
       "<IPython.core.display.Markdown object>"
      ]
     },
     "metadata": {},
     "output_type": "display_data"
    },
    {
     "data": {
      "text/markdown": [
       "**Remove duplicates**"
      ],
      "text/plain": [
       "<IPython.core.display.Markdown object>"
      ]
     },
     "metadata": {},
     "output_type": "display_data"
    },
    {
     "data": {
      "text/markdown": [
       "* Number of duplicated entries removed: 3177"
      ],
      "text/plain": [
       "<IPython.core.display.Markdown object>"
      ]
     },
     "metadata": {},
     "output_type": "display_data"
    },
    {
     "data": {
      "text/markdown": [
       "* Remaining number of activity entries: 5453138"
      ],
      "text/plain": [
       "<IPython.core.display.Markdown object>"
      ]
     },
     "metadata": {},
     "output_type": "display_data"
    }
   ],
   "source": [
    "printmd('**Add fields**: year, month, day')\n",
    "activities['year'] = activities['measurement_date'].apply(lambda x: x.year)\n",
    "activities['month'] = activities['measurement_date'].apply(lambda x: x.month)\n",
    "activities['day'] = activities['measurement_date'].apply(lambda x: x.day)\n",
    "\n",
    "printmd('**Filter activities columns**: user_id, year, month, steps')\n",
    "activities = activities[['user_id', 'year', 'month', 'day', 'steps']]\n",
    "\n",
    "printmd('**Remove duplicates**')\n",
    "len_before = len(activities)\n",
    "activities = activities.drop_duplicates()\n",
    "\n",
    "printmd('* Number of duplicated entries removed: {}'.format(len_before - len(activities)))\n",
    "printmd('* Remaining number of activity entries: {}'.format(len(activities)))\n",
    "\n",
    "printmd('**Handle multiple entries of steps at the same day**')\n",
    "user_measurements =  activities[['user_id','year', 'month', 'day']]\n",
    "user_measurements = [tuple(x) for x in user_measurements.values]\n",
    "measurement_counts = dict(Counter(user_measurements))\n",
    "duplicated_measurements = [k for k,v in measurement_counts.items() if v>1]\n",
    "max_duplicated_count = max(measurement_counts.items(), key=operator.itemgetter(1))[0]\n",
    "user_id = max_duplicated_count[0]\n",
    "year = max_duplicated_count[1]\n",
    "month = max_duplicated_count[2]\n",
    "day = max_duplicated_count[3]\n",
    "\n",
    "printmd('**Sample of multiple measurements for same user and same day**')\n",
    "di.display(activities[(activities.user_id==user_id)&(activities.year==year)&\n",
    "                      (activities.month==month)&(activities.day==day)])\n",
    "\n",
    "printmd('**In case of multiple steps measures per day, take the max value**')\n",
    "# PS. It looks like tracker entries are progressively added during the day,\n",
    "# therefore we take the max.\n",
    "activities['steps'] = activities.groupby(\n",
    "    ['user_id', 'year', 'month', 'day'])['steps'].transform('max')\n",
    "\n",
    "printmd('**Remove duplicates**')\n",
    "len_before = len(activities)\n",
    "activities = activities.drop_duplicates()\n",
    "printmd('* Number of duplicated entries removed: {}'.format(len_before - len(activities)))\n",
    "printmd('* Remaining number of activity entries: {}'.format(len(activities)))"
   ]
  },
  {
   "cell_type": "code",
   "execution_count": 24,
   "metadata": {},
   "outputs": [
    {
     "data": {
      "text/markdown": [
       "**Prepared data overview: activities**"
      ],
      "text/plain": [
       "<IPython.core.display.Markdown object>"
      ]
     },
     "metadata": {},
     "output_type": "display_data"
    },
    {
     "data": {
      "text/html": [
       "<div>\n",
       "<style>\n",
       "    .dataframe thead tr:only-child th {\n",
       "        text-align: right;\n",
       "    }\n",
       "\n",
       "    .dataframe thead th {\n",
       "        text-align: left;\n",
       "    }\n",
       "\n",
       "    .dataframe tbody tr th {\n",
       "        vertical-align: top;\n",
       "    }\n",
       "</style>\n",
       "<table border=\"1\" class=\"dataframe\">\n",
       "  <thead>\n",
       "    <tr style=\"text-align: right;\">\n",
       "      <th></th>\n",
       "      <th>user_id</th>\n",
       "      <th>year</th>\n",
       "      <th>month</th>\n",
       "      <th>day</th>\n",
       "      <th>steps</th>\n",
       "    </tr>\n",
       "  </thead>\n",
       "  <tbody>\n",
       "    <tr>\n",
       "      <th>0</th>\n",
       "      <td>000025b9-60ab-44ec-9589-edd906cbf564</td>\n",
       "      <td>2015</td>\n",
       "      <td>8</td>\n",
       "      <td>12</td>\n",
       "      <td>0</td>\n",
       "    </tr>\n",
       "    <tr>\n",
       "      <th>1</th>\n",
       "      <td>000025b9-60ab-44ec-9589-edd906cbf564</td>\n",
       "      <td>2015</td>\n",
       "      <td>8</td>\n",
       "      <td>24</td>\n",
       "      <td>7971</td>\n",
       "    </tr>\n",
       "    <tr>\n",
       "      <th>2</th>\n",
       "      <td>000025b9-60ab-44ec-9589-edd906cbf564</td>\n",
       "      <td>2015</td>\n",
       "      <td>8</td>\n",
       "      <td>25</td>\n",
       "      <td>17452</td>\n",
       "    </tr>\n",
       "    <tr>\n",
       "      <th>3</th>\n",
       "      <td>000025b9-60ab-44ec-9589-edd906cbf564</td>\n",
       "      <td>2015</td>\n",
       "      <td>8</td>\n",
       "      <td>26</td>\n",
       "      <td>19201</td>\n",
       "    </tr>\n",
       "    <tr>\n",
       "      <th>4</th>\n",
       "      <td>000025b9-60ab-44ec-9589-edd906cbf564</td>\n",
       "      <td>2015</td>\n",
       "      <td>8</td>\n",
       "      <td>27</td>\n",
       "      <td>0</td>\n",
       "    </tr>\n",
       "  </tbody>\n",
       "</table>\n",
       "</div>"
      ],
      "text/plain": [
       "                                user_id  year  month  day  steps\n",
       "0  000025b9-60ab-44ec-9589-edd906cbf564  2015      8   12      0\n",
       "1  000025b9-60ab-44ec-9589-edd906cbf564  2015      8   24   7971\n",
       "2  000025b9-60ab-44ec-9589-edd906cbf564  2015      8   25  17452\n",
       "3  000025b9-60ab-44ec-9589-edd906cbf564  2015      8   26  19201\n",
       "4  000025b9-60ab-44ec-9589-edd906cbf564  2015      8   27      0"
      ]
     },
     "execution_count": 24,
     "metadata": {},
     "output_type": "execute_result"
    }
   ],
   "source": [
    "printmd('**Prepared data overview: activities**')\n",
    "activities.head()"
   ]
  },
  {
   "cell_type": "markdown",
   "metadata": {},
   "source": [
    "# Merge steps and bmi data"
   ]
  },
  {
   "cell_type": "code",
   "execution_count": 25,
   "metadata": {},
   "outputs": [
    {
     "data": {
      "text/markdown": [
       "**Merge bmi and steps data, keeping only keys from the activities dataframe.**"
      ],
      "text/plain": [
       "<IPython.core.display.Markdown object>"
      ]
     },
     "metadata": {},
     "output_type": "display_data"
    },
    {
     "data": {
      "text/markdown": [
       "**Number of merged bmi/steps entries:** 5453138"
      ],
      "text/plain": [
       "<IPython.core.display.Markdown object>"
      ]
     },
     "metadata": {},
     "output_type": "display_data"
    },
    {
     "data": {
      "text/markdown": [
       "**Overview of bmi/steps data:**"
      ],
      "text/plain": [
       "<IPython.core.display.Markdown object>"
      ]
     },
     "metadata": {},
     "output_type": "display_data"
    },
    {
     "data": {
      "text/html": [
       "<div>\n",
       "<style>\n",
       "    .dataframe thead tr:only-child th {\n",
       "        text-align: right;\n",
       "    }\n",
       "\n",
       "    .dataframe thead th {\n",
       "        text-align: left;\n",
       "    }\n",
       "\n",
       "    .dataframe tbody tr th {\n",
       "        vertical-align: top;\n",
       "    }\n",
       "</style>\n",
       "<table border=\"1\" class=\"dataframe\">\n",
       "  <thead>\n",
       "    <tr style=\"text-align: right;\">\n",
       "      <th></th>\n",
       "      <th>user_id</th>\n",
       "      <th>year</th>\n",
       "      <th>month</th>\n",
       "      <th>day</th>\n",
       "      <th>steps</th>\n",
       "      <th>bmi</th>\n",
       "    </tr>\n",
       "  </thead>\n",
       "  <tbody>\n",
       "    <tr>\n",
       "      <th>0</th>\n",
       "      <td>000025b9-60ab-44ec-9589-edd906cbf564</td>\n",
       "      <td>2015</td>\n",
       "      <td>8</td>\n",
       "      <td>12</td>\n",
       "      <td>0</td>\n",
       "      <td>NaN</td>\n",
       "    </tr>\n",
       "    <tr>\n",
       "      <th>1</th>\n",
       "      <td>000025b9-60ab-44ec-9589-edd906cbf564</td>\n",
       "      <td>2015</td>\n",
       "      <td>8</td>\n",
       "      <td>24</td>\n",
       "      <td>7971</td>\n",
       "      <td>NaN</td>\n",
       "    </tr>\n",
       "    <tr>\n",
       "      <th>2</th>\n",
       "      <td>000025b9-60ab-44ec-9589-edd906cbf564</td>\n",
       "      <td>2015</td>\n",
       "      <td>8</td>\n",
       "      <td>25</td>\n",
       "      <td>17452</td>\n",
       "      <td>NaN</td>\n",
       "    </tr>\n",
       "    <tr>\n",
       "      <th>3</th>\n",
       "      <td>000025b9-60ab-44ec-9589-edd906cbf564</td>\n",
       "      <td>2015</td>\n",
       "      <td>8</td>\n",
       "      <td>26</td>\n",
       "      <td>19201</td>\n",
       "      <td>NaN</td>\n",
       "    </tr>\n",
       "    <tr>\n",
       "      <th>4</th>\n",
       "      <td>000025b9-60ab-44ec-9589-edd906cbf564</td>\n",
       "      <td>2015</td>\n",
       "      <td>8</td>\n",
       "      <td>27</td>\n",
       "      <td>0</td>\n",
       "      <td>NaN</td>\n",
       "    </tr>\n",
       "  </tbody>\n",
       "</table>\n",
       "</div>"
      ],
      "text/plain": [
       "                                user_id  year  month  day  steps  bmi\n",
       "0  000025b9-60ab-44ec-9589-edd906cbf564  2015      8   12      0  NaN\n",
       "1  000025b9-60ab-44ec-9589-edd906cbf564  2015      8   24   7971  NaN\n",
       "2  000025b9-60ab-44ec-9589-edd906cbf564  2015      8   25  17452  NaN\n",
       "3  000025b9-60ab-44ec-9589-edd906cbf564  2015      8   26  19201  NaN\n",
       "4  000025b9-60ab-44ec-9589-edd906cbf564  2015      8   27      0  NaN"
      ]
     },
     "execution_count": 25,
     "metadata": {},
     "output_type": "execute_result"
    }
   ],
   "source": [
    "printmd('**Merge bmi and steps data, keeping only keys from the activities dataframe.**')\n",
    "bmi_steps = pd.merge(activities, weights, how='left', on=['user_id', 'year', \n",
    "                                                          'month', 'day'])\n",
    "bmi_steps = bmi_steps.sort_values(['user_id', 'year', 'month', 'day'])\n",
    "printmd('**Number of merged bmi/steps entries:** {}'.format(len(bmi_steps)))\n",
    "printmd('**Overview of bmi/steps data:**')\n",
    "bmi_steps.head()"
   ]
  },
  {
   "cell_type": "code",
   "execution_count": 26,
   "metadata": {},
   "outputs": [
    {
     "data": {
      "text/markdown": [
       "**Interpolate bmi values**"
      ],
      "text/plain": [
       "<IPython.core.display.Markdown object>"
      ]
     },
     "metadata": {},
     "output_type": "display_data"
    },
    {
     "data": {
      "text/markdown": [
       "* Remaining number of null values:"
      ],
      "text/plain": [
       "<IPython.core.display.Markdown object>"
      ]
     },
     "metadata": {},
     "output_type": "display_data"
    },
    {
     "data": {
      "text/plain": [
       "user_id          0\n",
       "year             0\n",
       "month            0\n",
       "day              0\n",
       "steps            0\n",
       "bmi        4444105\n",
       "dtype: int64"
      ]
     },
     "execution_count": 26,
     "metadata": {},
     "output_type": "execute_result"
    }
   ],
   "source": [
    "printmd('**Interpolate bmi values**')\n",
    "bmi_steps['bmi'] = bmi_steps.groupby('user_id')['bmi'].apply(lambda group: group.fillna(\n",
    "    group.interpolate(method='index')))\n",
    "\n",
    "bmi_steps['bmi'] = bmi_steps.groupby('user_id')['bmi'].apply(lambda group: group.fillna(\n",
    "    method='bfill'))\n",
    "\n",
    "bmi_steps['bmi'] = bmi_steps.groupby('user_id')['bmi'].apply(lambda group: group.fillna(\n",
    "    method='ffill'))\n",
    "\n",
    "printmd('* Remaining number of null values:')\n",
    "bmi_steps.isnull().sum()"
   ]
  },
  {
   "cell_type": "code",
   "execution_count": 27,
   "metadata": {},
   "outputs": [
    {
     "data": {
      "text/markdown": [
       "**Drop null values**"
      ],
      "text/plain": [
       "<IPython.core.display.Markdown object>"
      ]
     },
     "metadata": {},
     "output_type": "display_data"
    },
    {
     "data": {
      "text/markdown": [
       "* Remaining number of bmi/steps entries: 1009033"
      ],
      "text/plain": [
       "<IPython.core.display.Markdown object>"
      ]
     },
     "metadata": {},
     "output_type": "display_data"
    },
    {
     "data": {
      "text/markdown": [
       "* Remaining number of distinct user_ids: 13011"
      ],
      "text/plain": [
       "<IPython.core.display.Markdown object>"
      ]
     },
     "metadata": {},
     "output_type": "display_data"
    }
   ],
   "source": [
    "printmd('**Drop null values**')\n",
    "bmi_steps = bmi_steps.dropna()\n",
    "printmd('* Remaining number of bmi/steps entries: {}'.format(len(bmi_steps)))\n",
    "printmd('* Remaining number of distinct user_ids: {}'.format(bmi_steps.user_id.nunique()))"
   ]
  },
  {
   "cell_type": "code",
   "execution_count": 28,
   "metadata": {
    "collapsed": true
   },
   "outputs": [],
   "source": [
    "# Save bmi_steps data\n",
    "with open('../data/filtered/bmi_steps.pickle', 'wb') as f:\n",
    "    pickle.dump(bmi_steps, f)"
   ]
  },
  {
   "cell_type": "markdown",
   "metadata": {},
   "source": [
    "# Histograms of remaining data"
   ]
  },
  {
   "cell_type": "code",
   "execution_count": 29,
   "metadata": {},
   "outputs": [
    {
     "data": {
      "text/markdown": [
       "**Bmi**"
      ],
      "text/plain": [
       "<IPython.core.display.Markdown object>"
      ]
     },
     "metadata": {},
     "output_type": "display_data"
    },
    {
     "data": {
      "image/png": "[encoded data removed]",
      "text/plain": [
       "<matplotlib.figure.Figure at 0x21941af60>"
      ]
     },
     "metadata": {},
     "output_type": "display_data"
    }
   ],
   "source": [
    "# Bmi Histogram\n",
    "printmd('**Bmi**')\n",
    "n, bins, patches = plt.hist(\n",
    "    list(bmi_steps['bmi'].values), bins = 10)\n",
    "plt.show()"
   ]
  },
  {
   "cell_type": "code",
   "execution_count": 30,
   "metadata": {},
   "outputs": [
    {
     "data": {
      "text/markdown": [
       "**Steps**"
      ],
      "text/plain": [
       "<IPython.core.display.Markdown object>"
      ]
     },
     "metadata": {},
     "output_type": "display_data"
    },
    {
     "data": {
      "image/png": "[encoded data removed]",
      "text/plain": [
       "<matplotlib.figure.Figure at 0x19c60ae48>"
      ]
     },
     "metadata": {},
     "output_type": "display_data"
    }
   ],
   "source": [
    "# Steps Histogram\n",
    "printmd('**Steps**')\n",
    "n, bins, patches = plt.hist(\n",
    "    list(bmi_steps['steps'].values), bins = 10)\n",
    "plt.show()"
   ]
  },
  {
   "cell_type": "code",
   "execution_count": 31,
   "metadata": {
    "collapsed": true
   },
   "outputs": [],
   "source": [
    "# Read users data\n",
    "with open('../data/filtered/users_filter.pickle', 'rb') as f:\n",
    "    users = pd.DataFrame(pickle.load(f))"
   ]
  },
  {
   "cell_type": "code",
   "execution_count": 32,
   "metadata": {},
   "outputs": [
    {
     "data": {
      "text/markdown": [
       "**Users sex**"
      ],
      "text/plain": [
       "<IPython.core.display.Markdown object>"
      ]
     },
     "metadata": {},
     "output_type": "display_data"
    },
    {
     "data": {
      "image/png": "[encoded data removed]",
      "text/plain": [
       "<matplotlib.figure.Figure at 0x1395bceb8>"
      ]
     },
     "metadata": {},
     "output_type": "display_data"
    },
    {
     "name": "stdout",
     "output_type": "stream",
     "text": [
      "sex\n",
      "female    6004\n",
      "male      7500\n",
      "Name: user_id, dtype: int64\n"
     ]
    }
   ],
   "source": [
    "# Users sex Histogram\n",
    "printmd('**Users sex**')\n",
    "# Users per sex\n",
    "users = users[users.user_id.isin(bmi_steps['user_id'])]\n",
    "users_sex = users.groupby('sex')['user_id'].count()\n",
    "users_sex.plot(kind='bar')\n",
    "plt.show()\n",
    "print(users_sex)"
   ]
  },
  {
   "cell_type": "code",
   "execution_count": 33,
   "metadata": {},
   "outputs": [
    {
     "data": {
      "text/markdown": [
       "**Users birthday**"
      ],
      "text/plain": [
       "<IPython.core.display.Markdown object>"
      ]
     },
     "metadata": {},
     "output_type": "display_data"
    },
    {
     "data": {
      "image/png": "[encoded data removed]",
      "text/plain": [
       "<matplotlib.figure.Figure at 0x1c2b79b00>"
      ]
     },
     "metadata": {},
     "output_type": "display_data"
    }
   ],
   "source": [
    "# Users birthday Histogram\n",
    "printmd('**Users birthday**')\n",
    "plt.hist(list(users['birthday'].values), bins = 10)\n",
    "plt.show()"
   ]
  },
  {
   "cell_type": "code",
   "execution_count": null,
   "metadata": {
    "collapsed": true
   },
   "outputs": [],
   "source": []
  }
 ],
 "metadata": {
  "kernelspec": {
   "display_name": "Python 3",
   "language": "python",
   "name": "python3"
  },
  "language_info": {
   "codemirror_mode": {
    "name": "ipython",
    "version": 3
   },
   "file_extension": ".py",
   "mimetype": "text/x-python",
   "name": "python",
   "nbconvert_exporter": "python",
   "pygments_lexer": "ipython3",
   "version": "3.6.1"
  }
 },
 "nbformat": 4,
 "nbformat_minor": 2
}
