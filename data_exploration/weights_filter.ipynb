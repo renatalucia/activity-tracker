{
 "cells": [
  {
   "cell_type": "code",
   "execution_count": 99,
   "metadata": {
    "collapsed": true
   },
   "outputs": [],
   "source": [
    "import pickle\n",
    "import pandas as pd\n",
    "import numpy as np\n",
    "import matplotlib.pyplot as plt"
   ]
  },
  {
   "cell_type": "code",
   "execution_count": 100,
   "metadata": {},
   "outputs": [
    {
     "data": {
      "text/html": [
       "<script>jQuery(function() {if (jQuery(\"body.notebook_app\").length == 0) { jQuery(\".input_area\").toggle(); jQuery(\".prompt\").toggle();}});</script>"
      ]
     },
     "metadata": {},
     "output_type": "display_data"
    },
    {
     "data": {
      "text/html": [
       "<button onclick=\"jQuery('.input_area').toggle(); jQuery('.prompt').toggle();\">Toggle code</button>"
      ]
     },
     "metadata": {},
     "output_type": "display_data"
    }
   ],
   "source": [
    "import IPython.core.display as di\n",
    "\n",
    "# This line will hide code by default when the notebook is exported as HTML\n",
    "di.display_html('<script>jQuery(function() {if (jQuery(\"body.notebook_app\").length == 0) { jQuery(\".input_area\").toggle(); jQuery(\".prompt\").toggle();}});</script>', raw=True)\n",
    "\n",
    "# This line will add a button to toggle visibility of code blocks, for use with the HTML export version\n",
    "di.display_html('''<button onclick=\"jQuery('.input_area').toggle(); jQuery('.prompt').toggle();\">Toggle code</button>''', raw=True)"
   ]
  },
  {
   "cell_type": "code",
   "execution_count": 101,
   "metadata": {
    "collapsed": true
   },
   "outputs": [],
   "source": [
    "from IPython.display import Markdown, display\n",
    "def printmd(string):\n",
    "    display(Markdown(string))"
   ]
  },
  {
   "cell_type": "code",
   "execution_count": 102,
   "metadata": {
    "collapsed": true
   },
   "outputs": [],
   "source": [
    "# Read weight data\n",
    "with open('../data/weight_all.pickle', 'rb') as f:\n",
    "    weights = pd.DataFrame(pickle.load(f))\n",
    "\n",
    "# Read measure units\n",
    "with open('../data/unit_all.pickle', 'rb') as f:\n",
    "    units = pd.DataFrame(pickle.load(f))\n",
    "\n",
    "# Read user data (need hight for bmi computation)\n",
    "with open('../data/filtered/users_filter.pickle', 'rb') as f:\n",
    "    users = pd.DataFrame(pickle.load(f))\n",
    "\n"
   ]
  },
  {
   "cell_type": "code",
   "execution_count": 103,
   "metadata": {
    "collapsed": true
   },
   "outputs": [],
   "source": [
    "#Decode measure units\n",
    "\n",
    "# select str columns\n",
    "str_df = units.select_dtypes([np.object])\n",
    "# convert them all\n",
    "str_df = str_df.stack().str.decode('utf-8').unstack()\n",
    "# swap converted with original columns\n",
    "for col in str_df:\n",
    "    units[col] = str_df[col]\n",
    "    \n",
    "units = units.drop_duplicates()"
   ]
  },
  {
   "cell_type": "markdown",
   "metadata": {},
   "source": [
    "# Data overview"
   ]
  },
  {
   "cell_type": "markdown",
   "metadata": {},
   "source": [
    "## Users Data (filtered)"
   ]
  },
  {
   "cell_type": "code",
   "execution_count": 104,
   "metadata": {},
   "outputs": [
    {
     "data": {
      "text/html": [
       "<div>\n",
       "<style>\n",
       "    .dataframe thead tr:only-child th {\n",
       "        text-align: right;\n",
       "    }\n",
       "\n",
       "    .dataframe thead th {\n",
       "        text-align: left;\n",
       "    }\n",
       "\n",
       "    .dataframe tbody tr th {\n",
       "        vertical-align: top;\n",
       "    }\n",
       "</style>\n",
       "<table border=\"1\" class=\"dataframe\">\n",
       "  <thead>\n",
       "    <tr style=\"text-align: right;\">\n",
       "      <th></th>\n",
       "      <th>birthday</th>\n",
       "      <th>height</th>\n",
       "      <th>sex</th>\n",
       "      <th>user_id</th>\n",
       "      <th>birthyear</th>\n",
       "    </tr>\n",
       "  </thead>\n",
       "  <tbody>\n",
       "    <tr>\n",
       "      <th>0</th>\n",
       "      <td>1964-11-08 01:00:00</td>\n",
       "      <td>163.0</td>\n",
       "      <td>female</td>\n",
       "      <td>00003941-eab1-4c08-8e57-96612cb7094d</td>\n",
       "      <td>1964</td>\n",
       "    </tr>\n",
       "    <tr>\n",
       "      <th>1</th>\n",
       "      <td>1967-08-05 01:00:00</td>\n",
       "      <td>187.0</td>\n",
       "      <td>male</td>\n",
       "      <td>0000767c-089c-415f-a3ea-10a83eff7115</td>\n",
       "      <td>1967</td>\n",
       "    </tr>\n",
       "    <tr>\n",
       "      <th>2</th>\n",
       "      <td>2000-05-27 02:00:00</td>\n",
       "      <td>172.0</td>\n",
       "      <td>male</td>\n",
       "      <td>0000f27e-7b4e-4cb0-875d-6d067e078291</td>\n",
       "      <td>2000</td>\n",
       "    </tr>\n",
       "    <tr>\n",
       "      <th>3</th>\n",
       "      <td>1998-01-15 01:00:00</td>\n",
       "      <td>160.0</td>\n",
       "      <td>female</td>\n",
       "      <td>0000f645-78c3-4c1e-b170-56a0fe33f39a</td>\n",
       "      <td>1998</td>\n",
       "    </tr>\n",
       "    <tr>\n",
       "      <th>4</th>\n",
       "      <td>1954-03-06 00:00:00</td>\n",
       "      <td>163.0</td>\n",
       "      <td>female</td>\n",
       "      <td>00011407-dce4-4332-ab28-dc0a13969fab</td>\n",
       "      <td>1954</td>\n",
       "    </tr>\n",
       "  </tbody>\n",
       "</table>\n",
       "</div>"
      ],
      "text/plain": [
       "              birthday  height     sex                               user_id  \\\n",
       "0  1964-11-08 01:00:00   163.0  female  00003941-eab1-4c08-8e57-96612cb7094d   \n",
       "1  1967-08-05 01:00:00   187.0    male  0000767c-089c-415f-a3ea-10a83eff7115   \n",
       "2  2000-05-27 02:00:00   172.0    male  0000f27e-7b4e-4cb0-875d-6d067e078291   \n",
       "3  1998-01-15 01:00:00   160.0  female  0000f645-78c3-4c1e-b170-56a0fe33f39a   \n",
       "4  1954-03-06 00:00:00   163.0  female  00011407-dce4-4332-ab28-dc0a13969fab   \n",
       "\n",
       "   birthyear  \n",
       "0       1964  \n",
       "1       1967  \n",
       "2       2000  \n",
       "3       1998  \n",
       "4       1954  "
      ]
     },
     "execution_count": 104,
     "metadata": {},
     "output_type": "execute_result"
    }
   ],
   "source": [
    "users.head()"
   ]
  },
  {
   "cell_type": "code",
   "execution_count": 105,
   "metadata": {},
   "outputs": [
    {
     "data": {
      "text/markdown": [
       "**Total number of users:** 253313"
      ],
      "text/plain": [
       "<IPython.core.display.Markdown object>"
      ]
     },
     "metadata": {},
     "output_type": "display_data"
    }
   ],
   "source": [
    "printmd('**Total number of users:** {}'.format(len(users)))"
   ]
  },
  {
   "cell_type": "markdown",
   "metadata": {},
   "source": [
    "## Weight data"
   ]
  },
  {
   "cell_type": "code",
   "execution_count": 106,
   "metadata": {},
   "outputs": [
    {
     "data": {
      "text/html": [
       "<div>\n",
       "<style>\n",
       "    .dataframe thead tr:only-child th {\n",
       "        text-align: right;\n",
       "    }\n",
       "\n",
       "    .dataframe thead th {\n",
       "        text-align: left;\n",
       "    }\n",
       "\n",
       "    .dataframe tbody tr th {\n",
       "        vertical-align: top;\n",
       "    }\n",
       "</style>\n",
       "<table border=\"1\" class=\"dataframe\">\n",
       "  <thead>\n",
       "    <tr style=\"text-align: right;\">\n",
       "      <th></th>\n",
       "      <th>bmi</th>\n",
       "      <th>body_fat</th>\n",
       "      <th>body_weight</th>\n",
       "      <th>muscle_mass</th>\n",
       "      <th>updated_date</th>\n",
       "      <th>user_id</th>\n",
       "    </tr>\n",
       "  </thead>\n",
       "  <tbody>\n",
       "    <tr>\n",
       "      <th>0</th>\n",
       "      <td>28.9685</td>\n",
       "      <td>26.6</td>\n",
       "      <td>101.3</td>\n",
       "      <td>33.2</td>\n",
       "      <td>2017-03-26 14:59:31</td>\n",
       "      <td>0000767c-089c-415f-a3ea-10a83eff7115</td>\n",
       "    </tr>\n",
       "    <tr>\n",
       "      <th>1</th>\n",
       "      <td>29.0257</td>\n",
       "      <td>26.6</td>\n",
       "      <td>101.5</td>\n",
       "      <td>33.2</td>\n",
       "      <td>2017-03-26 14:59:53</td>\n",
       "      <td>0000767c-089c-415f-a3ea-10a83eff7115</td>\n",
       "    </tr>\n",
       "    <tr>\n",
       "      <th>2</th>\n",
       "      <td>20.1122</td>\n",
       "      <td>10.5</td>\n",
       "      <td>59.5</td>\n",
       "      <td>51.8</td>\n",
       "      <td>2017-03-02 19:29:13</td>\n",
       "      <td>0000f27e-7b4e-4cb0-875d-6d067e078291</td>\n",
       "    </tr>\n",
       "    <tr>\n",
       "      <th>3</th>\n",
       "      <td>20.1798</td>\n",
       "      <td>10.5</td>\n",
       "      <td>59.7</td>\n",
       "      <td>51.8</td>\n",
       "      <td>2017-03-02 19:29:13</td>\n",
       "      <td>0000f27e-7b4e-4cb0-875d-6d067e078291</td>\n",
       "    </tr>\n",
       "    <tr>\n",
       "      <th>4</th>\n",
       "      <td>20.3488</td>\n",
       "      <td>10.3</td>\n",
       "      <td>60.2</td>\n",
       "      <td>52.0</td>\n",
       "      <td>2017-03-02 19:29:13</td>\n",
       "      <td>0000f27e-7b4e-4cb0-875d-6d067e078291</td>\n",
       "    </tr>\n",
       "  </tbody>\n",
       "</table>\n",
       "</div>"
      ],
      "text/plain": [
       "       bmi  body_fat  body_weight  muscle_mass        updated_date  \\\n",
       "0  28.9685      26.6        101.3         33.2 2017-03-26 14:59:31   \n",
       "1  29.0257      26.6        101.5         33.2 2017-03-26 14:59:53   \n",
       "2  20.1122      10.5         59.5         51.8 2017-03-02 19:29:13   \n",
       "3  20.1798      10.5         59.7         51.8 2017-03-02 19:29:13   \n",
       "4  20.3488      10.3         60.2         52.0 2017-03-02 19:29:13   \n",
       "\n",
       "                                user_id  \n",
       "0  0000767c-089c-415f-a3ea-10a83eff7115  \n",
       "1  0000767c-089c-415f-a3ea-10a83eff7115  \n",
       "2  0000f27e-7b4e-4cb0-875d-6d067e078291  \n",
       "3  0000f27e-7b4e-4cb0-875d-6d067e078291  \n",
       "4  0000f27e-7b4e-4cb0-875d-6d067e078291  "
      ]
     },
     "execution_count": 106,
     "metadata": {},
     "output_type": "execute_result"
    }
   ],
   "source": [
    "weights.head()"
   ]
  },
  {
   "cell_type": "code",
   "execution_count": 107,
   "metadata": {},
   "outputs": [
    {
     "data": {
      "text/markdown": [
       "**Number of weight entries:** 3092900"
      ],
      "text/plain": [
       "<IPython.core.display.Markdown object>"
      ]
     },
     "metadata": {},
     "output_type": "display_data"
    },
    {
     "data": {
      "text/markdown": [
       "**Number of users with at least one weight entry:** 97693"
      ],
      "text/plain": [
       "<IPython.core.display.Markdown object>"
      ]
     },
     "metadata": {},
     "output_type": "display_data"
    }
   ],
   "source": [
    "printmd('**Number of weight entries:** {}'.format(len(weights)))\n",
    "printmd('**Number of users with at least one weight entry:** {}'.format(\n",
    "    len(weights['user_id'].unique())))"
   ]
  },
  {
   "cell_type": "markdown",
   "metadata": {},
   "source": [
    "## Unit measures"
   ]
  },
  {
   "cell_type": "code",
   "execution_count": 108,
   "metadata": {},
   "outputs": [
    {
     "data": {
      "text/html": [
       "<div>\n",
       "<style>\n",
       "    .dataframe thead tr:only-child th {\n",
       "        text-align: right;\n",
       "    }\n",
       "\n",
       "    .dataframe thead th {\n",
       "        text-align: left;\n",
       "    }\n",
       "\n",
       "    .dataframe tbody tr th {\n",
       "        vertical-align: top;\n",
       "    }\n",
       "</style>\n",
       "<table border=\"1\" class=\"dataframe\">\n",
       "  <thead>\n",
       "    <tr style=\"text-align: right;\">\n",
       "      <th></th>\n",
       "      <th>measure_unit</th>\n",
       "      <th>user_id</th>\n",
       "    </tr>\n",
       "  </thead>\n",
       "  <tbody>\n",
       "    <tr>\n",
       "      <th>0</th>\n",
       "      <td>kilos</td>\n",
       "      <td>720d79be-b7b5-47bf-94c2-f78544a44475</td>\n",
       "    </tr>\n",
       "    <tr>\n",
       "      <th>1</th>\n",
       "      <td>kilos</td>\n",
       "      <td>bff303ce-f2c8-4bba-9caf-45a41d0c710c</td>\n",
       "    </tr>\n",
       "    <tr>\n",
       "      <th>2</th>\n",
       "      <td>kilos</td>\n",
       "      <td>c9606d51-e9b7-4810-82f2-a325d32f4cad</td>\n",
       "    </tr>\n",
       "    <tr>\n",
       "      <th>3</th>\n",
       "      <td>kilos</td>\n",
       "      <td>8fd79cf9-668d-4da1-950d-96b20bc4ff97</td>\n",
       "    </tr>\n",
       "    <tr>\n",
       "      <th>4</th>\n",
       "      <td>kilos</td>\n",
       "      <td>204d30ed-eb85-42e4-992b-3eb6e723dcc1</td>\n",
       "    </tr>\n",
       "  </tbody>\n",
       "</table>\n",
       "</div>"
      ],
      "text/plain": [
       "  measure_unit                               user_id\n",
       "0        kilos  720d79be-b7b5-47bf-94c2-f78544a44475\n",
       "1        kilos  bff303ce-f2c8-4bba-9caf-45a41d0c710c\n",
       "2        kilos  c9606d51-e9b7-4810-82f2-a325d32f4cad\n",
       "3        kilos  8fd79cf9-668d-4da1-950d-96b20bc4ff97\n",
       "4        kilos  204d30ed-eb85-42e4-992b-3eb6e723dcc1"
      ]
     },
     "execution_count": 108,
     "metadata": {},
     "output_type": "execute_result"
    }
   ],
   "source": [
    "units.head()"
   ]
  },
  {
   "cell_type": "code",
   "execution_count": 109,
   "metadata": {},
   "outputs": [
    {
     "data": {
      "text/markdown": [
       "**Number of unit measure entries:** 128955"
      ],
      "text/plain": [
       "<IPython.core.display.Markdown object>"
      ]
     },
     "metadata": {},
     "output_type": "display_data"
    },
    {
     "data": {
      "text/markdown": [
       "**Number of users with at least one unit measure registered:** 128946"
      ],
      "text/plain": [
       "<IPython.core.display.Markdown object>"
      ]
     },
     "metadata": {},
     "output_type": "display_data"
    }
   ],
   "source": [
    "printmd('**Number of unit measure entries:** {}'.format(len(units)))\n",
    "printmd('**Number of users with at least one unit measure registered:** {}'.format(\n",
    "    len(units['user_id'].unique())))"
   ]
  },
  {
   "cell_type": "markdown",
   "metadata": {},
   "source": [
    "# Data Exploration and Processing"
   ]
  },
  {
   "cell_type": "markdown",
   "metadata": {},
   "source": [
    "## Filter user unit metrics"
   ]
  },
  {
   "cell_type": "code",
   "execution_count": 110,
   "metadata": {},
   "outputs": [
    {
     "data": {
      "text/markdown": [
       "**Unit metrics found: **['pounds' 'kilos' 'stones']"
      ],
      "text/plain": [
       "<IPython.core.display.Markdown object>"
      ]
     },
     "metadata": {},
     "output_type": "display_data"
    },
    {
     "data": {
      "text/markdown": [
       "**Number of users with metrics different from 'kilos': **123"
      ],
      "text/plain": [
       "<IPython.core.display.Markdown object>"
      ]
     },
     "metadata": {},
     "output_type": "display_data"
    },
    {
     "data": {
      "text/markdown": [
       "**Remove user with metrics different from 'kilos'**"
      ],
      "text/plain": [
       "<IPython.core.display.Markdown object>"
      ]
     },
     "metadata": {},
     "output_type": "display_data"
    },
    {
     "data": {
      "text/markdown": [
       "* Number of entries removed: 123"
      ],
      "text/plain": [
       "<IPython.core.display.Markdown object>"
      ]
     },
     "metadata": {},
     "output_type": "display_data"
    },
    {
     "data": {
      "text/markdown": [
       "* Number of remaining entries: 128832"
      ],
      "text/plain": [
       "<IPython.core.display.Markdown object>"
      ]
     },
     "metadata": {},
     "output_type": "display_data"
    },
    {
     "data": {
      "text/markdown": [
       "**Are there null values in the units table?** False"
      ],
      "text/plain": [
       "<IPython.core.display.Markdown object>"
      ]
     },
     "metadata": {},
     "output_type": "display_data"
    }
   ],
   "source": [
    "# Count measures other than kilos\n",
    "not_unit_kilos = units.groupby('user_id')['measure_unit'].agg(lambda x: any(x != 'kilos'))\n",
    "not_unit_kilos = not_unit_kilos[not_unit_kilos==True]\n",
    "printmd('**Unit metrics found: **{}'.format(\n",
    "    units['measure_unit'].loc[units.user_id.isin(not_unit_kilos.index)].unique()))\n",
    "printmd('**Number of users with metrics different from \\'kilos\\': **{}'.format(\n",
    "    len(units[units.user_id.isin(not_unit_kilos.index)])))\n",
    "\n",
    "# Remove metrics other than kilos\n",
    "printmd('**Remove user with metrics different from \\'kilos\\'**')\n",
    "\n",
    "len_before = len(units)\n",
    "units = units[-units.user_id.isin(not_unit_kilos.index)]\n",
    "printmd('* Number of entries removed: {}'.format(len_before - len(units)))\n",
    "printmd('* Number of remaining entries: {}'.format(len(units)))\n",
    "\n",
    "printmd('**Are there null values in the units table?** {}'.format(\n",
    "    units.isnull().values.any()))\n"
   ]
  },
  {
   "cell_type": "markdown",
   "metadata": {},
   "source": [
    "## Filter user weights"
   ]
  },
  {
   "cell_type": "code",
   "execution_count": 111,
   "metadata": {},
   "outputs": [
    {
     "data": {
      "text/markdown": [
       "**Remove weight entries not in kilos**"
      ],
      "text/plain": [
       "<IPython.core.display.Markdown object>"
      ]
     },
     "metadata": {},
     "output_type": "display_data"
    },
    {
     "data": {
      "text/markdown": [
       "* Number of weight entries removed: 44598"
      ],
      "text/plain": [
       "<IPython.core.display.Markdown object>"
      ]
     },
     "metadata": {},
     "output_type": "display_data"
    },
    {
     "data": {
      "text/markdown": [
       "* Number of remaining weight entries: 3048302"
      ],
      "text/plain": [
       "<IPython.core.display.Markdown object>"
      ]
     },
     "metadata": {},
     "output_type": "display_data"
    }
   ],
   "source": [
    "# Filter weight entries in kilos\n",
    "printmd('**Remove weight entries not in kilos**')\n",
    "len_before = len(weights)\n",
    "weights_filter = weights[weights.user_id.isin(units['user_id'])]\n",
    "printmd('* Number of weight entries removed: {}'.format(len_before - len(weights_filter)))\n",
    "printmd('* Number of remaining weight entries: {}'.format(len(weights_filter)))"
   ]
  },
  {
   "cell_type": "code",
   "execution_count": 112,
   "metadata": {},
   "outputs": [
    {
     "data": {
      "text/markdown": [
       "**Keep only columns of interest: ** [user_id, updated_date, body_weight, bmi]"
      ],
      "text/plain": [
       "<IPython.core.display.Markdown object>"
      ]
     },
     "metadata": {},
     "output_type": "display_data"
    },
    {
     "data": {
      "text/markdown": [
       "* Number of body_weight null values: 0"
      ],
      "text/plain": [
       "<IPython.core.display.Markdown object>"
      ]
     },
     "metadata": {},
     "output_type": "display_data"
    },
    {
     "data": {
      "text/markdown": [
       "* Number of updated_date null values: 0"
      ],
      "text/plain": [
       "<IPython.core.display.Markdown object>"
      ]
     },
     "metadata": {},
     "output_type": "display_data"
    },
    {
     "data": {
      "text/markdown": [
       "* Number of bmi null values: 5993"
      ],
      "text/plain": [
       "<IPython.core.display.Markdown object>"
      ]
     },
     "metadata": {},
     "output_type": "display_data"
    }
   ],
   "source": [
    "# Filter columns and count entries with null values \n",
    "printmd('**Keep only columns of interest: ** [user_id, updated_date, body_weight, bmi]')\n",
    "# weights_filter = weights_filter[['user_id', 'updated_date', 'body_weight', 'bmi']]\n",
    "printmd('* Number of body_weight null values: {}'.format(\n",
    "    weights_filter['body_weight'].isnull().values.sum()))\n",
    "printmd('* Number of updated_date null values: {}'.format(\n",
    "    weights_filter['updated_date'].isnull().values.sum()))\n",
    "printmd('* Number of bmi null values: {}'.format(\n",
    "    weights_filter['bmi'].isnull().values.sum()))"
   ]
  },
  {
   "cell_type": "markdown",
   "metadata": {},
   "source": [
    "## Statistical profile of weight data"
   ]
  },
  {
   "cell_type": "code",
   "execution_count": 113,
   "metadata": {},
   "outputs": [
    {
     "data": {
      "text/markdown": [
       "**Original Data:**"
      ],
      "text/plain": [
       "<IPython.core.display.Markdown object>"
      ]
     },
     "metadata": {},
     "output_type": "display_data"
    },
    {
     "data": {
      "text/markdown": [
       "* _Max Weight:_ 1000.0"
      ],
      "text/plain": [
       "<IPython.core.display.Markdown object>"
      ]
     },
     "metadata": {},
     "output_type": "display_data"
    },
    {
     "data": {
      "text/markdown": [
       "* _Min Weight:_ 0.0"
      ],
      "text/plain": [
       "<IPython.core.display.Markdown object>"
      ]
     },
     "metadata": {},
     "output_type": "display_data"
    },
    {
     "data": {
      "text/markdown": [
       "* _Mean Weight:_ 83.96830606868139"
      ],
      "text/plain": [
       "<IPython.core.display.Markdown object>"
      ]
     },
     "metadata": {},
     "output_type": "display_data"
    },
    {
     "data": {
      "text/markdown": [
       "* _Standard Deviation:_ 38.095848237797014 "
      ],
      "text/plain": [
       "<IPython.core.display.Markdown object>"
      ]
     },
     "metadata": {},
     "output_type": "display_data"
    },
    {
     "data": {
      "image/png": "[encoded data removed]",
      "text/plain": [
       "<matplotlib.figure.Figure at 0x125d311d0>"
      ]
     },
     "metadata": {},
     "output_type": "display_data"
    },
    {
     "data": {
      "text/markdown": [
       "**Remove weight outliers**"
      ],
      "text/plain": [
       "<IPython.core.display.Markdown object>"
      ]
     },
     "metadata": {},
     "output_type": "display_data"
    },
    {
     "data": {
      "text/markdown": [
       "* Number of outliers removed: 95039"
      ],
      "text/plain": [
       "<IPython.core.display.Markdown object>"
      ]
     },
     "metadata": {},
     "output_type": "display_data"
    },
    {
     "data": {
      "text/markdown": [
       "* Number of remaining weights entried: 2953263"
      ],
      "text/plain": [
       "<IPython.core.display.Markdown object>"
      ]
     },
     "metadata": {},
     "output_type": "display_data"
    },
    {
     "data": {
      "text/markdown": [
       "**Filtered Data:**"
      ],
      "text/plain": [
       "<IPython.core.display.Markdown object>"
      ]
     },
     "metadata": {},
     "output_type": "display_data"
    },
    {
     "data": {
      "text/markdown": [
       "* _Max Weight:_ 127.647"
      ],
      "text/plain": [
       "<IPython.core.display.Markdown object>"
      ]
     },
     "metadata": {},
     "output_type": "display_data"
    },
    {
     "data": {
      "text/markdown": [
       "* _Min Weight:_ 36.853"
      ],
      "text/plain": [
       "<IPython.core.display.Markdown object>"
      ]
     },
     "metadata": {},
     "output_type": "display_data"
    },
    {
     "data": {
      "text/markdown": [
       "* _Mean Weight:_ 82.31156580463532"
      ],
      "text/plain": [
       "<IPython.core.display.Markdown object>"
      ]
     },
     "metadata": {},
     "output_type": "display_data"
    },
    {
     "data": {
      "text/markdown": [
       "* _Standard Deviation:_ 16.015538419492994 "
      ],
      "text/plain": [
       "<IPython.core.display.Markdown object>"
      ]
     },
     "metadata": {},
     "output_type": "display_data"
    },
    {
     "data": {
      "image/png": "[encoded data removed]",
      "text/plain": [
       "<matplotlib.figure.Figure at 0x1257dd860>"
      ]
     },
     "metadata": {},
     "output_type": "display_data"
    }
   ],
   "source": [
    "printmd('**Original Data:**')\n",
    "printmd('* _Max Weight:_ {}'.format(weights_filter['body_weight'].max()))\n",
    "printmd('* _Min Weight:_ {}'.format(weights_filter['body_weight'].min()))\n",
    "printmd('* _Mean Weight:_ {}'.format(weights_filter['body_weight'].mean()))\n",
    "printmd('* _Standard Deviation:_ {} '.format(weights_filter['body_weight'].std()))\n",
    "\n",
    "box = plt.boxplot(weights_filter['body_weight'], 0)\n",
    "plt.show()\n",
    "\n",
    "outliers = box[\"fliers\"][0].get_data()[1]\n",
    "\n",
    "printmd('**Remove weight outliers**')\n",
    "len_before = len(weights_filter)\n",
    "weights_filter = weights_filter[-weights_filter.body_weight.isin(outliers)]\n",
    "printmd('* Number of outliers removed: {}'.format(len_before - len(weights_filter)))\n",
    "printmd('* Number of remaining weights entried: {}'.format(len(weights_filter)))\n",
    "\n",
    "printmd('**Filtered Data:**')\n",
    "printmd('* _Max Weight:_ {}'.format(weights_filter['body_weight'].max()))\n",
    "printmd('* _Min Weight:_ {}'.format(weights_filter['body_weight'].min()))\n",
    "printmd('* _Mean Weight:_ {}'.format(weights_filter['body_weight'].mean()))\n",
    "printmd('* _Standard Deviation:_ {} '.format(weights_filter['body_weight'].std()))\n",
    "\n",
    "box = plt.boxplot(weights_filter['body_weight'], 0)\n",
    "plt.show()\n"
   ]
  },
  {
   "cell_type": "markdown",
   "metadata": {},
   "source": [
    "## Handle multiple wieght entries for same user and same timestamp"
   ]
  },
  {
   "cell_type": "code",
   "execution_count": 114,
   "metadata": {
    "collapsed": true
   },
   "outputs": [],
   "source": [
    "# Compute standard deviation of multiple wieght entries for same user and same timestamp\n",
    "measure_date_std = weights_filter.groupby(\n",
    "        ['user_id', 'updated_date'])['body_weight'].transform('std')\n",
    "measure_date_std = measure_date_std.dropna()"
   ]
  },
  {
   "cell_type": "code",
   "execution_count": 115,
   "metadata": {},
   "outputs": [
    {
     "data": {
      "text/markdown": [
       "**Visualize variation of multiple measures**"
      ],
      "text/plain": [
       "<IPython.core.display.Markdown object>"
      ]
     },
     "metadata": {},
     "output_type": "display_data"
    },
    {
     "data": {
      "image/png": "[encoded data removed]",
      "text/plain": [
       "<matplotlib.figure.Figure at 0x125812c50>"
      ]
     },
     "metadata": {},
     "output_type": "display_data"
    },
    {
     "data": {
      "text/markdown": [
       "**Sample noisy data**"
      ],
      "text/plain": [
       "<IPython.core.display.Markdown object>"
      ]
     },
     "metadata": {},
     "output_type": "display_data"
    },
    {
     "data": {
      "text/html": [
       "<div>\n",
       "<style>\n",
       "    .dataframe thead tr:only-child th {\n",
       "        text-align: right;\n",
       "    }\n",
       "\n",
       "    .dataframe thead th {\n",
       "        text-align: left;\n",
       "    }\n",
       "\n",
       "    .dataframe tbody tr th {\n",
       "        vertical-align: top;\n",
       "    }\n",
       "</style>\n",
       "<table border=\"1\" class=\"dataframe\">\n",
       "  <thead>\n",
       "    <tr style=\"text-align: right;\">\n",
       "      <th></th>\n",
       "      <th>bmi</th>\n",
       "      <th>body_fat</th>\n",
       "      <th>body_weight</th>\n",
       "      <th>muscle_mass</th>\n",
       "      <th>updated_date</th>\n",
       "      <th>user_id</th>\n",
       "    </tr>\n",
       "  </thead>\n",
       "  <tbody>\n",
       "    <tr>\n",
       "      <th>699</th>\n",
       "      <td>18.2</td>\n",
       "      <td>5.3</td>\n",
       "      <td>52.742</td>\n",
       "      <td>53.0</td>\n",
       "      <td>2015-05-08 23:43:57</td>\n",
       "      <td>00137e95-f326-4d38-8673-5f1b4bd25dae</td>\n",
       "    </tr>\n",
       "    <tr>\n",
       "      <th>700</th>\n",
       "      <td>18.3</td>\n",
       "      <td>0.0</td>\n",
       "      <td>53.120</td>\n",
       "      <td>NaN</td>\n",
       "      <td>2015-05-08 23:43:57</td>\n",
       "      <td>00137e95-f326-4d38-8673-5f1b4bd25dae</td>\n",
       "    </tr>\n",
       "    <tr>\n",
       "      <th>701</th>\n",
       "      <td>21.9</td>\n",
       "      <td>13.3</td>\n",
       "      <td>63.307</td>\n",
       "      <td>48.1</td>\n",
       "      <td>2015-05-08 23:43:57</td>\n",
       "      <td>00137e95-f326-4d38-8673-5f1b4bd25dae</td>\n",
       "    </tr>\n",
       "    <tr>\n",
       "      <th>702</th>\n",
       "      <td>22.0</td>\n",
       "      <td>13.7</td>\n",
       "      <td>63.777</td>\n",
       "      <td>48.0</td>\n",
       "      <td>2015-05-08 23:43:57</td>\n",
       "      <td>00137e95-f326-4d38-8673-5f1b4bd25dae</td>\n",
       "    </tr>\n",
       "    <tr>\n",
       "      <th>703</th>\n",
       "      <td>22.0</td>\n",
       "      <td>13.7</td>\n",
       "      <td>63.844</td>\n",
       "      <td>47.9</td>\n",
       "      <td>2015-05-08 23:43:57</td>\n",
       "      <td>00137e95-f326-4d38-8673-5f1b4bd25dae</td>\n",
       "    </tr>\n",
       "  </tbody>\n",
       "</table>\n",
       "</div>"
      ],
      "text/plain": [
       "      bmi  body_fat  body_weight  muscle_mass        updated_date  \\\n",
       "699  18.2       5.3       52.742         53.0 2015-05-08 23:43:57   \n",
       "700  18.3       0.0       53.120          NaN 2015-05-08 23:43:57   \n",
       "701  21.9      13.3       63.307         48.1 2015-05-08 23:43:57   \n",
       "702  22.0      13.7       63.777         48.0 2015-05-08 23:43:57   \n",
       "703  22.0      13.7       63.844         47.9 2015-05-08 23:43:57   \n",
       "\n",
       "                                  user_id  \n",
       "699  00137e95-f326-4d38-8673-5f1b4bd25dae  \n",
       "700  00137e95-f326-4d38-8673-5f1b4bd25dae  \n",
       "701  00137e95-f326-4d38-8673-5f1b4bd25dae  \n",
       "702  00137e95-f326-4d38-8673-5f1b4bd25dae  \n",
       "703  00137e95-f326-4d38-8673-5f1b4bd25dae  "
      ]
     },
     "metadata": {},
     "output_type": "display_data"
    },
    {
     "data": {
      "text/markdown": [
       "**Sample non-noisy data**"
      ],
      "text/plain": [
       "<IPython.core.display.Markdown object>"
      ]
     },
     "metadata": {},
     "output_type": "display_data"
    },
    {
     "data": {
      "text/html": [
       "<div>\n",
       "<style>\n",
       "    .dataframe thead tr:only-child th {\n",
       "        text-align: right;\n",
       "    }\n",
       "\n",
       "    .dataframe thead th {\n",
       "        text-align: left;\n",
       "    }\n",
       "\n",
       "    .dataframe tbody tr th {\n",
       "        vertical-align: top;\n",
       "    }\n",
       "</style>\n",
       "<table border=\"1\" class=\"dataframe\">\n",
       "  <thead>\n",
       "    <tr style=\"text-align: right;\">\n",
       "      <th></th>\n",
       "      <th>bmi</th>\n",
       "      <th>body_fat</th>\n",
       "      <th>body_weight</th>\n",
       "      <th>muscle_mass</th>\n",
       "      <th>updated_date</th>\n",
       "      <th>user_id</th>\n",
       "    </tr>\n",
       "  </thead>\n",
       "  <tbody>\n",
       "    <tr>\n",
       "      <th>2</th>\n",
       "      <td>20.1122</td>\n",
       "      <td>10.5</td>\n",
       "      <td>59.5</td>\n",
       "      <td>51.8</td>\n",
       "      <td>2017-03-02 19:29:13</td>\n",
       "      <td>0000f27e-7b4e-4cb0-875d-6d067e078291</td>\n",
       "    </tr>\n",
       "    <tr>\n",
       "      <th>3</th>\n",
       "      <td>20.1798</td>\n",
       "      <td>10.5</td>\n",
       "      <td>59.7</td>\n",
       "      <td>51.8</td>\n",
       "      <td>2017-03-02 19:29:13</td>\n",
       "      <td>0000f27e-7b4e-4cb0-875d-6d067e078291</td>\n",
       "    </tr>\n",
       "    <tr>\n",
       "      <th>4</th>\n",
       "      <td>20.3488</td>\n",
       "      <td>10.3</td>\n",
       "      <td>60.2</td>\n",
       "      <td>52.0</td>\n",
       "      <td>2017-03-02 19:29:13</td>\n",
       "      <td>0000f27e-7b4e-4cb0-875d-6d067e078291</td>\n",
       "    </tr>\n",
       "    <tr>\n",
       "      <th>5</th>\n",
       "      <td>20.3488</td>\n",
       "      <td>10.7</td>\n",
       "      <td>60.2</td>\n",
       "      <td>51.7</td>\n",
       "      <td>2017-03-02 19:29:13</td>\n",
       "      <td>0000f27e-7b4e-4cb0-875d-6d067e078291</td>\n",
       "    </tr>\n",
       "    <tr>\n",
       "      <th>10</th>\n",
       "      <td>20.3150</td>\n",
       "      <td>10.5</td>\n",
       "      <td>60.1</td>\n",
       "      <td>51.9</td>\n",
       "      <td>2017-03-22 17:39:15</td>\n",
       "      <td>0000f27e-7b4e-4cb0-875d-6d067e078291</td>\n",
       "    </tr>\n",
       "  </tbody>\n",
       "</table>\n",
       "</div>"
      ],
      "text/plain": [
       "        bmi  body_fat  body_weight  muscle_mass        updated_date  \\\n",
       "2   20.1122      10.5         59.5         51.8 2017-03-02 19:29:13   \n",
       "3   20.1798      10.5         59.7         51.8 2017-03-02 19:29:13   \n",
       "4   20.3488      10.3         60.2         52.0 2017-03-02 19:29:13   \n",
       "5   20.3488      10.7         60.2         51.7 2017-03-02 19:29:13   \n",
       "10  20.3150      10.5         60.1         51.9 2017-03-22 17:39:15   \n",
       "\n",
       "                                 user_id  \n",
       "2   0000f27e-7b4e-4cb0-875d-6d067e078291  \n",
       "3   0000f27e-7b4e-4cb0-875d-6d067e078291  \n",
       "4   0000f27e-7b4e-4cb0-875d-6d067e078291  \n",
       "5   0000f27e-7b4e-4cb0-875d-6d067e078291  \n",
       "10  0000f27e-7b4e-4cb0-875d-6d067e078291  "
      ]
     },
     "metadata": {},
     "output_type": "display_data"
    },
    {
     "data": {
      "text/markdown": [
       "**Remove noisy multiple measures**"
      ],
      "text/plain": [
       "<IPython.core.display.Markdown object>"
      ]
     },
     "metadata": {},
     "output_type": "display_data"
    },
    {
     "data": {
      "text/markdown": [
       "* Number of noisy measures removed: 152030"
      ],
      "text/plain": [
       "<IPython.core.display.Markdown object>"
      ]
     },
     "metadata": {},
     "output_type": "display_data"
    },
    {
     "data": {
      "text/markdown": [
       "* Number of remaining weight measures: 2801233"
      ],
      "text/plain": [
       "<IPython.core.display.Markdown object>"
      ]
     },
     "metadata": {},
     "output_type": "display_data"
    },
    {
     "data": {
      "text/markdown": [
       "**Visualize variation of multiple measures after noise filtering**"
      ],
      "text/plain": [
       "<IPython.core.display.Markdown object>"
      ]
     },
     "metadata": {},
     "output_type": "display_data"
    },
    {
     "data": {
      "image/png": "[encoded data removed]",
      "text/plain": [
       "<matplotlib.figure.Figure at 0x124b1e160>"
      ]
     },
     "metadata": {},
     "output_type": "display_data"
    },
    {
     "data": {
      "text/markdown": [
       "**Maximum standard deviation admited in multiple measures:** 2.1156634893101534"
      ],
      "text/plain": [
       "<IPython.core.display.Markdown object>"
      ]
     },
     "metadata": {},
     "output_type": "display_data"
    }
   ],
   "source": [
    "printmd('**Visualize variation of multiple measures**')\n",
    "box = plt.boxplot(list(measure_date_std), 0)\n",
    "plt.show()\n",
    "outliers = box[\"fliers\"][0].get_data()[1]\n",
    "\n",
    "printmd('**Sample noisy data**')\n",
    "di.display(weights_filter.loc[\n",
    "    measure_date_std[measure_date_std.isin(outliers)].index].head())\n",
    "\n",
    "printmd('**Sample non-noisy data**')\n",
    "di.display(weights_filter.loc[\n",
    "    measure_date_std[-measure_date_std.isin(outliers)].index].head())\n",
    "\n",
    "printmd('**Remove noisy multiple measures**')\n",
    "len_before = len(weights_filter)\n",
    "\n",
    "weights_filter = weights_filter.drop(\n",
    "    measure_date_std[measure_date_std.isin(outliers)].index)\n",
    "\n",
    "printmd('* Number of noisy measures removed: {}'.format(\n",
    "    len_before - len(weights_filter)))\n",
    "printmd('* Number of remaining weight measures: {}'.format(len(weights_filter)))\n",
    "\n",
    "printmd('**Visualize variation of multiple measures after noise filtering**')\n",
    "measure_date_std = weights_filter.groupby(\n",
    "        ['user_id', 'updated_date'])['body_weight'].transform('std')\n",
    "measure_date_std = measure_date_std.dropna()\n",
    "box = plt.boxplot(list(measure_date_std), 0)\n",
    "plt.show()\n",
    "\n",
    "printmd('**Maximum standard deviation admited in multiple measures:** {}'.format(\n",
    "    max(list(measure_date_std))))\n"
   ]
  },
  {
   "cell_type": "code",
   "execution_count": 116,
   "metadata": {},
   "outputs": [
    {
     "data": {
      "text/markdown": [
       "* Number of remaining weight measures: 2801233"
      ],
      "text/plain": [
       "<IPython.core.display.Markdown object>"
      ]
     },
     "metadata": {},
     "output_type": "display_data"
    }
   ],
   "source": [
    "printmd('* Number of remaining weight measures: {}'.format(len(weights_filter)))"
   ]
  },
  {
   "cell_type": "code",
   "execution_count": 117,
   "metadata": {},
   "outputs": [
    {
     "data": {
      "text/markdown": [
       "***take the average of multiple measures***"
      ],
      "text/plain": [
       "<IPython.core.display.Markdown object>"
      ]
     },
     "metadata": {},
     "output_type": "display_data"
    },
    {
     "data": {
      "text/markdown": [
       "* Number of duplicated entries after averagind multiple measures: 90915"
      ],
      "text/plain": [
       "<IPython.core.display.Markdown object>"
      ]
     },
     "metadata": {},
     "output_type": "display_data"
    }
   ],
   "source": [
    "printmd('***take the average of multiple measures***')\n",
    "weights_filter['body_weight'] = weights_filter.groupby(\n",
    "        ['user_id', 'updated_date'])['body_weight'].transform('mean')\n",
    "printmd('* Number of duplicated entries after averagind multiple measures: {}'.format(\n",
    " weights_filter.duplicated().sum()))"
   ]
  },
  {
   "cell_type": "markdown",
   "metadata": {},
   "source": [
    "## Compute bmi"
   ]
  },
  {
   "cell_type": "code",
   "execution_count": 118,
   "metadata": {},
   "outputs": [
    {
     "data": {
      "text/markdown": [
       "**Remove weights entry if corresponding user data is not available**"
      ],
      "text/plain": [
       "<IPython.core.display.Markdown object>"
      ]
     },
     "metadata": {},
     "output_type": "display_data"
    },
    {
     "data": {
      "text/markdown": [
       "* Number of entries removed: 10797"
      ],
      "text/plain": [
       "<IPython.core.display.Markdown object>"
      ]
     },
     "metadata": {},
     "output_type": "display_data"
    },
    {
     "data": {
      "text/markdown": [
       "**Compute bmi**"
      ],
      "text/plain": [
       "<IPython.core.display.Markdown object>"
      ]
     },
     "metadata": {},
     "output_type": "display_data"
    },
    {
     "data": {
      "text/markdown": [
       "* Number of null bmi values: 0"
      ],
      "text/plain": [
       "<IPython.core.display.Markdown object>"
      ]
     },
     "metadata": {},
     "output_type": "display_data"
    },
    {
     "data": {
      "text/markdown": [
       "**Number of duplicated weight entries:** 296388"
      ],
      "text/plain": [
       "<IPython.core.display.Markdown object>"
      ]
     },
     "metadata": {},
     "output_type": "display_data"
    },
    {
     "data": {
      "text/markdown": [
       "**Remove duplicated entries**"
      ],
      "text/plain": [
       "<IPython.core.display.Markdown object>"
      ]
     },
     "metadata": {},
     "output_type": "display_data"
    },
    {
     "data": {
      "text/markdown": [
       "* Number of entries removed: 296388"
      ],
      "text/plain": [
       "<IPython.core.display.Markdown object>"
      ]
     },
     "metadata": {},
     "output_type": "display_data"
    },
    {
     "data": {
      "text/markdown": [
       "* Number of remaining entries: 2494048"
      ],
      "text/plain": [
       "<IPython.core.display.Markdown object>"
      ]
     },
     "metadata": {},
     "output_type": "display_data"
    }
   ],
   "source": [
    "# Recompute bmi (this will also fill nulls)\n",
    "\n",
    "# Keep only entries where user data is available\n",
    "printmd('**Remove weights entry if corresponding user data is not available**')\n",
    "len_before = len(weights_filter)\n",
    "weights_filter = weights_filter[\n",
    "    weights_filter.user_id.isin(users.user_id)]\n",
    "printmd('* Number of entries removed: {}'.format(len_before - len(weights_filter)))\n",
    "\n",
    "\n",
    "# Get height for users tables\n",
    "weights_filter = weights_filter.merge(users[['user_id', 'height']], on='user_id')\n",
    "\n",
    "# Compute bmi\n",
    "printmd('**Compute bmi**')\n",
    "weights_filter['bmi'] = weights_filter['body_weight']/pow(\n",
    "    (weights_filter['height']/100),2)\n",
    "\n",
    "# Check there are no null values for bmi\n",
    "printmd('* Number of null bmi values: {}'.format(\n",
    "    weights_filter['bmi'].isnull().values.sum()))\n",
    "        \n",
    "printmd('**Number of duplicated weight entries:** {}'.format(\n",
    "    weights_filter.duplicated().sum()))\n",
    "\n",
    "# Drop duplicates (introduced when taking mean value per user, timestamp)\n",
    "printmd('**Remove duplicated entries**')\n",
    "len_before = len(weights_filter)\n",
    "weights_filter = weights_filter.drop_duplicates()\n",
    "printmd('* Number of entries removed: {}'.format(len_before-len(weights_filter)))\n",
    "printmd('* Number of remaining entries: {}'.format(len(weights_filter)))"
   ]
  },
  {
   "cell_type": "markdown",
   "metadata": {},
   "source": [
    "## Histograms of processed data"
   ]
  },
  {
   "cell_type": "code",
   "execution_count": 119,
   "metadata": {},
   "outputs": [
    {
     "data": {
      "text/markdown": [
       "**Body weight**"
      ],
      "text/plain": [
       "<IPython.core.display.Markdown object>"
      ]
     },
     "metadata": {},
     "output_type": "display_data"
    },
    {
     "data": {
      "image/png": "[encoded data removed]",
      "text/plain": [
       "<matplotlib.figure.Figure at 0x125d31940>"
      ]
     },
     "metadata": {},
     "output_type": "display_data"
    }
   ],
   "source": [
    "# Weight Histogram\n",
    "printmd('**Body weight**')\n",
    "n, bins, patches = plt.hist(\n",
    "    list(weights_filter['body_weight'].values), bins = 10)\n",
    "plt.show()"
   ]
  },
  {
   "cell_type": "code",
   "execution_count": 120,
   "metadata": {},
   "outputs": [
    {
     "data": {
      "text/markdown": [
       "**Bmi**"
      ],
      "text/plain": [
       "<IPython.core.display.Markdown object>"
      ]
     },
     "metadata": {},
     "output_type": "display_data"
    },
    {
     "data": {
      "image/png": "[encoded data removed]",
      "text/plain": [
       "<matplotlib.figure.Figure at 0x1257f2780>"
      ]
     },
     "metadata": {},
     "output_type": "display_data"
    }
   ],
   "source": [
    "# Bmi Histogram\n",
    "printmd('**Bmi**')\n",
    "n, bins, patches = plt.hist(\n",
    "    list(weights_filter['bmi'].values), bins = 10)\n",
    "plt.show()"
   ]
  },
  {
   "cell_type": "code",
   "execution_count": 121,
   "metadata": {},
   "outputs": [
    {
     "data": {
      "text/markdown": [
       "**Number of weight entried per user**"
      ],
      "text/plain": [
       "<IPython.core.display.Markdown object>"
      ]
     },
     "metadata": {},
     "output_type": "display_data"
    },
    {
     "data": {
      "text/markdown": [
       "* _Max number of entries_: 3112"
      ],
      "text/plain": [
       "<IPython.core.display.Markdown object>"
      ]
     },
     "metadata": {},
     "output_type": "display_data"
    },
    {
     "data": {
      "text/markdown": [
       "* _Min number of entries_: 1"
      ],
      "text/plain": [
       "<IPython.core.display.Markdown object>"
      ]
     },
     "metadata": {},
     "output_type": "display_data"
    },
    {
     "data": {
      "text/markdown": [
       "* _Median number of entries_: 10.0"
      ],
      "text/plain": [
       "<IPython.core.display.Markdown object>"
      ]
     },
     "metadata": {},
     "output_type": "display_data"
    },
    {
     "data": {
      "text/markdown": [
       "* _Mean number of entries_: 27.57133697406531"
      ],
      "text/plain": [
       "<IPython.core.display.Markdown object>"
      ]
     },
     "metadata": {},
     "output_type": "display_data"
    },
    {
     "data": {
      "text/markdown": [
       "* _Standard deviation_: 64.9159076427786"
      ],
      "text/plain": [
       "<IPython.core.display.Markdown object>"
      ]
     },
     "metadata": {},
     "output_type": "display_data"
    },
    {
     "data": {
      "image/png": "[encoded data removed]",
      "text/plain": [
       "<matplotlib.figure.Figure at 0x12518d860>"
      ]
     },
     "metadata": {},
     "output_type": "display_data"
    }
   ],
   "source": [
    "# Number of weight entries per user\n",
    "printmd('**Number of weight entried per user**')\n",
    "user_weights = weights_filter.groupby('user_id').apply(lambda g: len(g))\n",
    "printmd('* _Max number of entries_: {}'.format(max(user_weights)))\n",
    "printmd('* _Min number of entries_: {}'.format(min(user_weights)))\n",
    "printmd('* _Median number of entries_: {}'.format(user_weights.median()))\n",
    "printmd('* _Mean number of entries_: {}'.format(user_weights.mean()))\n",
    "printmd('* _Standard deviation_: {}'.format(user_weights.std()))\n",
    "quant = user_weights.quantile(0.9)\n",
    "n, bins, patches = plt.hist(\n",
    "    user_weights, bins = 10, range=(0,quant))\n",
    "plt.show()\n"
   ]
  },
  {
   "cell_type": "code",
   "execution_count": 123,
   "metadata": {
    "collapsed": true
   },
   "outputs": [],
   "source": [
    "with open('../data/filtered/weights_filter.pickle', 'wb') as f:\n",
    "    pickle.dump(weights_filter, f)"
   ]
  },
  {
   "cell_type": "code",
   "execution_count": null,
   "metadata": {
    "collapsed": true
   },
   "outputs": [],
   "source": []
  }
 ],
 "metadata": {
  "kernelspec": {
   "display_name": "Python 3",
   "language": "python",
   "name": "python3"
  },
  "language_info": {
   "codemirror_mode": {
    "name": "ipython",
    "version": 3
   },
   "file_extension": ".py",
   "mimetype": "text/x-python",
   "name": "python",
   "nbconvert_exporter": "python",
   "pygments_lexer": "ipython3",
   "version": "3.6.1"
  }
 },
 "nbformat": 4,
 "nbformat_minor": 2
}
