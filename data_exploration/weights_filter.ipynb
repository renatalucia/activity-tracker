{
 "cells": [
  {
   "cell_type": "code",
   "execution_count": 1,
   "metadata": {
    "collapsed": true
   },
   "outputs": [],
   "source": [
    "import pickle\n",
    "import pandas as pd\n",
    "import numpy as np\n",
    "import matplotlib.pyplot as plt"
   ]
  },
  {
   "cell_type": "code",
   "execution_count": 36,
   "metadata": {},
   "outputs": [
    {
     "data": {
      "text/html": [
       "<script>jQuery(function() {if (jQuery(\"body.notebook_app\").length == 0) { jQuery(\".input_area\").toggle(); jQuery(\".prompt\").toggle();}});</script>"
      ]
     },
     "metadata": {},
     "output_type": "display_data"
    },
    {
     "data": {
      "text/html": [
       "<button onclick=\"jQuery('.input_area').toggle(); jQuery('.prompt').toggle();\">Toggle code</button>"
      ]
     },
     "metadata": {},
     "output_type": "display_data"
    }
   ],
   "source": [
    "import IPython.core.display as di\n",
    "\n",
    "# This line will hide code by default when the notebook is exported as HTML\n",
    "di.display_html('<script>jQuery(function() {if (jQuery(\"body.notebook_app\").length == 0) { jQuery(\".input_area\").toggle(); jQuery(\".prompt\").toggle();}});</script>', raw=True)\n",
    "\n",
    "# This line will add a button to toggle visibility of code blocks, for use with the HTML export version\n",
    "di.display_html('''<button onclick=\"jQuery('.input_area').toggle(); jQuery('.prompt').toggle();\">Toggle code</button>''', raw=True)"
   ]
  },
  {
   "cell_type": "code",
   "execution_count": 3,
   "metadata": {
    "collapsed": true
   },
   "outputs": [],
   "source": [
    "from IPython.display import Markdown, display\n",
    "def printmd(string):\n",
    "    display(Markdown(string))"
   ]
  },
  {
   "cell_type": "code",
   "execution_count": 4,
   "metadata": {
    "collapsed": true
   },
   "outputs": [],
   "source": [
    "# Read weight data\n",
    "with open('../data/weight_all.pickle', 'rb') as f:\n",
    "    weights = pd.DataFrame(pickle.load(f))\n",
    "\n",
    "# Read measure units\n",
    "with open('../data/unit_all.pickle', 'rb') as f:\n",
    "    units = pd.DataFrame(pickle.load(f))\n",
    "\n",
    "# Read user data (need hight for bmi computation)\n",
    "with open('../data/filtered/users_filter.pickle', 'rb') as f:\n",
    "    users = pd.DataFrame(pickle.load(f))\n",
    "\n"
   ]
  },
  {
   "cell_type": "code",
   "execution_count": 5,
   "metadata": {
    "collapsed": true
   },
   "outputs": [],
   "source": [
    "#Decode measure units\n",
    "\n",
    "# select str columns\n",
    "str_df = units.select_dtypes([np.object])\n",
    "# convert them all\n",
    "str_df = str_df.stack().str.decode('utf-8').unstack()\n",
    "# swap converted with original columns\n",
    "for col in str_df:\n",
    "    units[col] = str_df[col]\n",
    "    \n",
    "units = units.drop_duplicates()"
   ]
  },
  {
   "cell_type": "markdown",
   "metadata": {},
   "source": [
    "# Data overview"
   ]
  },
  {
   "cell_type": "markdown",
   "metadata": {},
   "source": [
    "## Users Data (filtered)"
   ]
  },
  {
   "cell_type": "code",
   "execution_count": 6,
   "metadata": {},
   "outputs": [
    {
     "data": {
      "text/html": [
       "<div>\n",
       "<style>\n",
       "    .dataframe thead tr:only-child th {\n",
       "        text-align: right;\n",
       "    }\n",
       "\n",
       "    .dataframe thead th {\n",
       "        text-align: left;\n",
       "    }\n",
       "\n",
       "    .dataframe tbody tr th {\n",
       "        vertical-align: top;\n",
       "    }\n",
       "</style>\n",
       "<table border=\"1\" class=\"dataframe\">\n",
       "  <thead>\n",
       "    <tr style=\"text-align: right;\">\n",
       "      <th></th>\n",
       "      <th>birthday</th>\n",
       "      <th>height</th>\n",
       "      <th>sex</th>\n",
       "      <th>user_id</th>\n",
       "      <th>birthyear</th>\n",
       "    </tr>\n",
       "  </thead>\n",
       "  <tbody>\n",
       "    <tr>\n",
       "      <th>0</th>\n",
       "      <td>1964-11-08 01:00:00</td>\n",
       "      <td>163.0</td>\n",
       "      <td>female</td>\n",
       "      <td>00003941-eab1-4c08-8e57-96612cb7094d</td>\n",
       "      <td>1964</td>\n",
       "    </tr>\n",
       "    <tr>\n",
       "      <th>1</th>\n",
       "      <td>1967-08-05 01:00:00</td>\n",
       "      <td>187.0</td>\n",
       "      <td>male</td>\n",
       "      <td>0000767c-089c-415f-a3ea-10a83eff7115</td>\n",
       "      <td>1967</td>\n",
       "    </tr>\n",
       "    <tr>\n",
       "      <th>2</th>\n",
       "      <td>2000-05-27 02:00:00</td>\n",
       "      <td>172.0</td>\n",
       "      <td>male</td>\n",
       "      <td>0000f27e-7b4e-4cb0-875d-6d067e078291</td>\n",
       "      <td>2000</td>\n",
       "    </tr>\n",
       "    <tr>\n",
       "      <th>3</th>\n",
       "      <td>1998-01-15 01:00:00</td>\n",
       "      <td>160.0</td>\n",
       "      <td>female</td>\n",
       "      <td>0000f645-78c3-4c1e-b170-56a0fe33f39a</td>\n",
       "      <td>1998</td>\n",
       "    </tr>\n",
       "    <tr>\n",
       "      <th>4</th>\n",
       "      <td>1954-03-06 00:00:00</td>\n",
       "      <td>163.0</td>\n",
       "      <td>female</td>\n",
       "      <td>00011407-dce4-4332-ab28-dc0a13969fab</td>\n",
       "      <td>1954</td>\n",
       "    </tr>\n",
       "  </tbody>\n",
       "</table>\n",
       "</div>"
      ],
      "text/plain": [
       "              birthday  height     sex                               user_id  \\\n",
       "0  1964-11-08 01:00:00   163.0  female  00003941-eab1-4c08-8e57-96612cb7094d   \n",
       "1  1967-08-05 01:00:00   187.0    male  0000767c-089c-415f-a3ea-10a83eff7115   \n",
       "2  2000-05-27 02:00:00   172.0    male  0000f27e-7b4e-4cb0-875d-6d067e078291   \n",
       "3  1998-01-15 01:00:00   160.0  female  0000f645-78c3-4c1e-b170-56a0fe33f39a   \n",
       "4  1954-03-06 00:00:00   163.0  female  00011407-dce4-4332-ab28-dc0a13969fab   \n",
       "\n",
       "   birthyear  \n",
       "0       1964  \n",
       "1       1967  \n",
       "2       2000  \n",
       "3       1998  \n",
       "4       1954  "
      ]
     },
     "execution_count": 6,
     "metadata": {},
     "output_type": "execute_result"
    }
   ],
   "source": [
    "users.head()"
   ]
  },
  {
   "cell_type": "code",
   "execution_count": 7,
   "metadata": {},
   "outputs": [
    {
     "data": {
      "text/markdown": [
       "**Total number of users:** 253313"
      ],
      "text/plain": [
       "<IPython.core.display.Markdown object>"
      ]
     },
     "metadata": {},
     "output_type": "display_data"
    }
   ],
   "source": [
    "printmd('**Total number of users:** {}'.format(len(users)))"
   ]
  },
  {
   "cell_type": "markdown",
   "metadata": {},
   "source": [
    "## Weight data"
   ]
  },
  {
   "cell_type": "code",
   "execution_count": 8,
   "metadata": {},
   "outputs": [
    {
     "data": {
      "text/html": [
       "<div>\n",
       "<style>\n",
       "    .dataframe thead tr:only-child th {\n",
       "        text-align: right;\n",
       "    }\n",
       "\n",
       "    .dataframe thead th {\n",
       "        text-align: left;\n",
       "    }\n",
       "\n",
       "    .dataframe tbody tr th {\n",
       "        vertical-align: top;\n",
       "    }\n",
       "</style>\n",
       "<table border=\"1\" class=\"dataframe\">\n",
       "  <thead>\n",
       "    <tr style=\"text-align: right;\">\n",
       "      <th></th>\n",
       "      <th>bmi</th>\n",
       "      <th>body_fat</th>\n",
       "      <th>body_weight</th>\n",
       "      <th>muscle_mass</th>\n",
       "      <th>updated_date</th>\n",
       "      <th>user_id</th>\n",
       "    </tr>\n",
       "  </thead>\n",
       "  <tbody>\n",
       "    <tr>\n",
       "      <th>0</th>\n",
       "      <td>28.9685</td>\n",
       "      <td>26.6</td>\n",
       "      <td>101.3</td>\n",
       "      <td>33.2</td>\n",
       "      <td>2017-03-26 14:59:31</td>\n",
       "      <td>0000767c-089c-415f-a3ea-10a83eff7115</td>\n",
       "    </tr>\n",
       "    <tr>\n",
       "      <th>1</th>\n",
       "      <td>29.0257</td>\n",
       "      <td>26.6</td>\n",
       "      <td>101.5</td>\n",
       "      <td>33.2</td>\n",
       "      <td>2017-03-26 14:59:53</td>\n",
       "      <td>0000767c-089c-415f-a3ea-10a83eff7115</td>\n",
       "    </tr>\n",
       "    <tr>\n",
       "      <th>2</th>\n",
       "      <td>20.1122</td>\n",
       "      <td>10.5</td>\n",
       "      <td>59.5</td>\n",
       "      <td>51.8</td>\n",
       "      <td>2017-03-02 19:29:13</td>\n",
       "      <td>0000f27e-7b4e-4cb0-875d-6d067e078291</td>\n",
       "    </tr>\n",
       "    <tr>\n",
       "      <th>3</th>\n",
       "      <td>20.1798</td>\n",
       "      <td>10.5</td>\n",
       "      <td>59.7</td>\n",
       "      <td>51.8</td>\n",
       "      <td>2017-03-02 19:29:13</td>\n",
       "      <td>0000f27e-7b4e-4cb0-875d-6d067e078291</td>\n",
       "    </tr>\n",
       "    <tr>\n",
       "      <th>4</th>\n",
       "      <td>20.3488</td>\n",
       "      <td>10.3</td>\n",
       "      <td>60.2</td>\n",
       "      <td>52.0</td>\n",
       "      <td>2017-03-02 19:29:13</td>\n",
       "      <td>0000f27e-7b4e-4cb0-875d-6d067e078291</td>\n",
       "    </tr>\n",
       "  </tbody>\n",
       "</table>\n",
       "</div>"
      ],
      "text/plain": [
       "       bmi  body_fat  body_weight  muscle_mass        updated_date  \\\n",
       "0  28.9685      26.6        101.3         33.2 2017-03-26 14:59:31   \n",
       "1  29.0257      26.6        101.5         33.2 2017-03-26 14:59:53   \n",
       "2  20.1122      10.5         59.5         51.8 2017-03-02 19:29:13   \n",
       "3  20.1798      10.5         59.7         51.8 2017-03-02 19:29:13   \n",
       "4  20.3488      10.3         60.2         52.0 2017-03-02 19:29:13   \n",
       "\n",
       "                                user_id  \n",
       "0  0000767c-089c-415f-a3ea-10a83eff7115  \n",
       "1  0000767c-089c-415f-a3ea-10a83eff7115  \n",
       "2  0000f27e-7b4e-4cb0-875d-6d067e078291  \n",
       "3  0000f27e-7b4e-4cb0-875d-6d067e078291  \n",
       "4  0000f27e-7b4e-4cb0-875d-6d067e078291  "
      ]
     },
     "execution_count": 8,
     "metadata": {},
     "output_type": "execute_result"
    }
   ],
   "source": [
    "weights.head()"
   ]
  },
  {
   "cell_type": "code",
   "execution_count": 9,
   "metadata": {},
   "outputs": [
    {
     "data": {
      "text/markdown": [
       "**Number of weight entries:** 3092900"
      ],
      "text/plain": [
       "<IPython.core.display.Markdown object>"
      ]
     },
     "metadata": {},
     "output_type": "display_data"
    },
    {
     "data": {
      "text/markdown": [
       "**Number of users with at least one weight entry:** 97693"
      ],
      "text/plain": [
       "<IPython.core.display.Markdown object>"
      ]
     },
     "metadata": {},
     "output_type": "display_data"
    }
   ],
   "source": [
    "printmd('**Number of weight entries:** {}'.format(len(weights)))\n",
    "printmd('**Number of users with at least one weight entry:** {}'.format(\n",
    "    len(weights['user_id'].unique())))"
   ]
  },
  {
   "cell_type": "markdown",
   "metadata": {},
   "source": [
    "## Unit measures"
   ]
  },
  {
   "cell_type": "code",
   "execution_count": 10,
   "metadata": {},
   "outputs": [
    {
     "data": {
      "text/html": [
       "<div>\n",
       "<style>\n",
       "    .dataframe thead tr:only-child th {\n",
       "        text-align: right;\n",
       "    }\n",
       "\n",
       "    .dataframe thead th {\n",
       "        text-align: left;\n",
       "    }\n",
       "\n",
       "    .dataframe tbody tr th {\n",
       "        vertical-align: top;\n",
       "    }\n",
       "</style>\n",
       "<table border=\"1\" class=\"dataframe\">\n",
       "  <thead>\n",
       "    <tr style=\"text-align: right;\">\n",
       "      <th></th>\n",
       "      <th>measure_unit</th>\n",
       "      <th>user_id</th>\n",
       "    </tr>\n",
       "  </thead>\n",
       "  <tbody>\n",
       "    <tr>\n",
       "      <th>0</th>\n",
       "      <td>kilos</td>\n",
       "      <td>720d79be-b7b5-47bf-94c2-f78544a44475</td>\n",
       "    </tr>\n",
       "    <tr>\n",
       "      <th>1</th>\n",
       "      <td>kilos</td>\n",
       "      <td>bff303ce-f2c8-4bba-9caf-45a41d0c710c</td>\n",
       "    </tr>\n",
       "    <tr>\n",
       "      <th>2</th>\n",
       "      <td>kilos</td>\n",
       "      <td>c9606d51-e9b7-4810-82f2-a325d32f4cad</td>\n",
       "    </tr>\n",
       "    <tr>\n",
       "      <th>3</th>\n",
       "      <td>kilos</td>\n",
       "      <td>8fd79cf9-668d-4da1-950d-96b20bc4ff97</td>\n",
       "    </tr>\n",
       "    <tr>\n",
       "      <th>4</th>\n",
       "      <td>kilos</td>\n",
       "      <td>204d30ed-eb85-42e4-992b-3eb6e723dcc1</td>\n",
       "    </tr>\n",
       "  </tbody>\n",
       "</table>\n",
       "</div>"
      ],
      "text/plain": [
       "  measure_unit                               user_id\n",
       "0        kilos  720d79be-b7b5-47bf-94c2-f78544a44475\n",
       "1        kilos  bff303ce-f2c8-4bba-9caf-45a41d0c710c\n",
       "2        kilos  c9606d51-e9b7-4810-82f2-a325d32f4cad\n",
       "3        kilos  8fd79cf9-668d-4da1-950d-96b20bc4ff97\n",
       "4        kilos  204d30ed-eb85-42e4-992b-3eb6e723dcc1"
      ]
     },
     "execution_count": 10,
     "metadata": {},
     "output_type": "execute_result"
    }
   ],
   "source": [
    "units.head()"
   ]
  },
  {
   "cell_type": "code",
   "execution_count": 11,
   "metadata": {},
   "outputs": [
    {
     "data": {
      "text/markdown": [
       "**Number of unit measure entries:** 128955"
      ],
      "text/plain": [
       "<IPython.core.display.Markdown object>"
      ]
     },
     "metadata": {},
     "output_type": "display_data"
    },
    {
     "data": {
      "text/markdown": [
       "**Number of users with at least one unit measure registered:** 128946"
      ],
      "text/plain": [
       "<IPython.core.display.Markdown object>"
      ]
     },
     "metadata": {},
     "output_type": "display_data"
    }
   ],
   "source": [
    "printmd('**Number of unit measure entries:** {}'.format(len(units)))\n",
    "printmd('**Number of users with at least one unit measure registered:** {}'.format(\n",
    "    len(units['user_id'].unique())))"
   ]
  },
  {
   "cell_type": "markdown",
   "metadata": {},
   "source": [
    "## Filter user unit metrics"
   ]
  },
  {
   "cell_type": "code",
   "execution_count": 12,
   "metadata": {},
   "outputs": [
    {
     "data": {
      "text/markdown": [
       "**Unit metrics found: **['pounds' 'kilos' 'stones']"
      ],
      "text/plain": [
       "<IPython.core.display.Markdown object>"
      ]
     },
     "metadata": {},
     "output_type": "display_data"
    },
    {
     "data": {
      "text/markdown": [
       "**Number of users with metrics different from 'kilos': **123"
      ],
      "text/plain": [
       "<IPython.core.display.Markdown object>"
      ]
     },
     "metadata": {},
     "output_type": "display_data"
    },
    {
     "data": {
      "text/markdown": [
       "**Remove user with metrics different from 'kilos'**"
      ],
      "text/plain": [
       "<IPython.core.display.Markdown object>"
      ]
     },
     "metadata": {},
     "output_type": "display_data"
    },
    {
     "data": {
      "text/markdown": [
       "* Number of entries removed: 123"
      ],
      "text/plain": [
       "<IPython.core.display.Markdown object>"
      ]
     },
     "metadata": {},
     "output_type": "display_data"
    },
    {
     "data": {
      "text/markdown": [
       "* Number of remaining entries: 128832"
      ],
      "text/plain": [
       "<IPython.core.display.Markdown object>"
      ]
     },
     "metadata": {},
     "output_type": "display_data"
    },
    {
     "data": {
      "text/markdown": [
       "**Are there null values in the units table?** False"
      ],
      "text/plain": [
       "<IPython.core.display.Markdown object>"
      ]
     },
     "metadata": {},
     "output_type": "display_data"
    }
   ],
   "source": [
    "# Count measures other than kilos\n",
    "not_unit_kilos = units.groupby('user_id')['measure_unit'].agg(lambda x: any(x != 'kilos'))\n",
    "not_unit_kilos = not_unit_kilos[not_unit_kilos==True]\n",
    "printmd('**Unit metrics found: **{}'.format(\n",
    "    units['measure_unit'].loc[units.user_id.isin(not_unit_kilos.index)].unique()))\n",
    "printmd('**Number of users with metrics different from \\'kilos\\': **{}'.format(\n",
    "    len(units[units.user_id.isin(not_unit_kilos.index)])))\n",
    "\n",
    "# Remove metrics other than kilos\n",
    "printmd('**Remove user with metrics different from \\'kilos\\'**')\n",
    "\n",
    "len_before = len(units)\n",
    "units = units[-units.user_id.isin(not_unit_kilos.index)]\n",
    "printmd('* Number of entries removed: {}'.format(len_before - len(units)))\n",
    "printmd('* Number of remaining entries: {}'.format(len(units)))\n",
    "\n",
    "printmd('**Are there null values in the units table?** {}'.format(\n",
    "    units.isnull().values.any()))\n"
   ]
  },
  {
   "cell_type": "markdown",
   "metadata": {},
   "source": [
    "## Filter user weights"
   ]
  },
  {
   "cell_type": "code",
   "execution_count": 40,
   "metadata": {},
   "outputs": [
    {
     "data": {
      "text/markdown": [
       "**Remove weight entries not in kilos**"
      ],
      "text/plain": [
       "<IPython.core.display.Markdown object>"
      ]
     },
     "metadata": {},
     "output_type": "display_data"
    },
    {
     "data": {
      "text/markdown": [
       "* Number of weight entries removed: 44598"
      ],
      "text/plain": [
       "<IPython.core.display.Markdown object>"
      ]
     },
     "metadata": {},
     "output_type": "display_data"
    },
    {
     "data": {
      "text/markdown": [
       "* Number of remaining weight entries: 3048302"
      ],
      "text/plain": [
       "<IPython.core.display.Markdown object>"
      ]
     },
     "metadata": {},
     "output_type": "display_data"
    }
   ],
   "source": [
    "# Filter weight entries in kilos\n",
    "printmd('**Remove weight entries not in kilos**')\n",
    "len_before = len(weights)\n",
    "weights_filter = weights[weights.user_id.isin(units['user_id'])]\n",
    "printmd('* Number of weight entries removed: {}'.format(len_before - len(weights_filter)))\n",
    "printmd('* Number of remaining weight entries: {}'.format(len(weights_filter)))"
   ]
  },
  {
   "cell_type": "code",
   "execution_count": 41,
   "metadata": {},
   "outputs": [
    {
     "data": {
      "text/markdown": [
       "**Keep only columns of interest: ** [user_id, updated_date, body_weight, bmi]"
      ],
      "text/plain": [
       "<IPython.core.display.Markdown object>"
      ]
     },
     "metadata": {},
     "output_type": "display_data"
    },
    {
     "data": {
      "text/markdown": [
       "* Number of body_weight null values: 0"
      ],
      "text/plain": [
       "<IPython.core.display.Markdown object>"
      ]
     },
     "metadata": {},
     "output_type": "display_data"
    },
    {
     "data": {
      "text/markdown": [
       "* Number of updated_date null values: 0"
      ],
      "text/plain": [
       "<IPython.core.display.Markdown object>"
      ]
     },
     "metadata": {},
     "output_type": "display_data"
    },
    {
     "data": {
      "text/markdown": [
       "* Number of bmi null values: 5993"
      ],
      "text/plain": [
       "<IPython.core.display.Markdown object>"
      ]
     },
     "metadata": {},
     "output_type": "display_data"
    }
   ],
   "source": [
    "# Filter columns and count entries with null values \n",
    "printmd('**Keep only columns of interest: ** [user_id, updated_date, body_weight, bmi]')\n",
    "# weights_filter = weights_filter[['user_id', 'updated_date', 'body_weight', 'bmi']]\n",
    "printmd('* Number of body_weight null values: {}'.format(\n",
    "    weights_filter['body_weight'].isnull().values.sum()))\n",
    "printmd('* Number of updated_date null values: {}'.format(\n",
    "    weights_filter['updated_date'].isnull().values.sum()))\n",
    "printmd('* Number of bmi null values: {}'.format(\n",
    "    weights_filter['bmi'].isnull().values.sum()))"
   ]
  },
  {
   "cell_type": "markdown",
   "metadata": {},
   "source": [
    "### Statistical profile of weight data"
   ]
  },
  {
   "cell_type": "code",
   "execution_count": 42,
   "metadata": {},
   "outputs": [
    {
     "data": {
      "text/markdown": [
       "**Original Data:**"
      ],
      "text/plain": [
       "<IPython.core.display.Markdown object>"
      ]
     },
     "metadata": {},
     "output_type": "display_data"
    },
    {
     "data": {
      "text/markdown": [
       "* _Max Weight:_ 1000.0"
      ],
      "text/plain": [
       "<IPython.core.display.Markdown object>"
      ]
     },
     "metadata": {},
     "output_type": "display_data"
    },
    {
     "data": {
      "text/markdown": [
       "* _Min Weight:_ 0.0"
      ],
      "text/plain": [
       "<IPython.core.display.Markdown object>"
      ]
     },
     "metadata": {},
     "output_type": "display_data"
    },
    {
     "data": {
      "text/markdown": [
       "* _Mean Weight:_ 83.96830606868139"
      ],
      "text/plain": [
       "<IPython.core.display.Markdown object>"
      ]
     },
     "metadata": {},
     "output_type": "display_data"
    },
    {
     "data": {
      "text/markdown": [
       "* _Standard Deviation:_ 38.095848237797014 "
      ],
      "text/plain": [
       "<IPython.core.display.Markdown object>"
      ]
     },
     "metadata": {},
     "output_type": "display_data"
    },
    {
     "data": {
      "image/png": "[encoded data removed]",
      "text/plain": [
       "<matplotlib.figure.Figure at 0x1957edf98>"
      ]
     },
     "metadata": {},
     "output_type": "display_data"
    },
    {
     "data": {
      "text/markdown": [
       "**Remove weight outliers**"
      ],
      "text/plain": [
       "<IPython.core.display.Markdown object>"
      ]
     },
     "metadata": {},
     "output_type": "display_data"
    },
    {
     "data": {
      "text/markdown": [
       "* Number of outliers removed: 95039"
      ],
      "text/plain": [
       "<IPython.core.display.Markdown object>"
      ]
     },
     "metadata": {},
     "output_type": "display_data"
    },
    {
     "data": {
      "text/markdown": [
       "* Number of remaining weights entried: 2953263"
      ],
      "text/plain": [
       "<IPython.core.display.Markdown object>"
      ]
     },
     "metadata": {},
     "output_type": "display_data"
    },
    {
     "data": {
      "text/markdown": [
       "**Filtered Data:**"
      ],
      "text/plain": [
       "<IPython.core.display.Markdown object>"
      ]
     },
     "metadata": {},
     "output_type": "display_data"
    },
    {
     "data": {
      "text/markdown": [
       "* _Max Weight:_ 127.647"
      ],
      "text/plain": [
       "<IPython.core.display.Markdown object>"
      ]
     },
     "metadata": {},
     "output_type": "display_data"
    },
    {
     "data": {
      "text/markdown": [
       "* _Min Weight:_ 36.853"
      ],
      "text/plain": [
       "<IPython.core.display.Markdown object>"
      ]
     },
     "metadata": {},
     "output_type": "display_data"
    },
    {
     "data": {
      "text/markdown": [
       "* _Mean Weight:_ 82.31156580463532"
      ],
      "text/plain": [
       "<IPython.core.display.Markdown object>"
      ]
     },
     "metadata": {},
     "output_type": "display_data"
    },
    {
     "data": {
      "text/markdown": [
       "* _Standard Deviation:_ 16.015538419492994 "
      ],
      "text/plain": [
       "<IPython.core.display.Markdown object>"
      ]
     },
     "metadata": {},
     "output_type": "display_data"
    },
    {
     "data": {
      "image/png": "[encoded data removed]",
      "text/plain": [
       "<matplotlib.figure.Figure at 0x12d1b0048>"
      ]
     },
     "metadata": {},
     "output_type": "display_data"
    }
   ],
   "source": [
    "printmd('**Original Data:**')\n",
    "printmd('* _Max Weight:_ {}'.format(weights_filter['body_weight'].max()))\n",
    "printmd('* _Min Weight:_ {}'.format(weights_filter['body_weight'].min()))\n",
    "printmd('* _Mean Weight:_ {}'.format(weights_filter['body_weight'].mean()))\n",
    "printmd('* _Standard Deviation:_ {} '.format(weights_filter['body_weight'].std()))\n",
    "\n",
    "box = plt.boxplot(weights_filter['body_weight'], 0)\n",
    "plt.show()\n",
    "\n",
    "outliers = box[\"fliers\"][0].get_data()[1]\n",
    "\n",
    "printmd('**Remove weight outliers**')\n",
    "len_before = len(weights_filter)\n",
    "weights_filter = weights_filter[-weights_filter.body_weight.isin(outliers)]\n",
    "printmd('* Number of outliers removed: {}'.format(len_before - len(weights_filter)))\n",
    "printmd('* Number of remaining weights entried: {}'.format(len(weights_filter)))\n",
    "\n",
    "printmd('**Filtered Data:**')\n",
    "printmd('* _Max Weight:_ {}'.format(weights_filter['body_weight'].max()))\n",
    "printmd('* _Min Weight:_ {}'.format(weights_filter['body_weight'].min()))\n",
    "printmd('* _Mean Weight:_ {}'.format(weights_filter['body_weight'].mean()))\n",
    "printmd('* _Standard Deviation:_ {} '.format(weights_filter['body_weight'].std()))\n",
    "\n",
    "box = plt.boxplot(weights_filter['body_weight'], 0)\n",
    "plt.show()\n"
   ]
  },
  {
   "cell_type": "markdown",
   "metadata": {},
   "source": [
    "### Handle multiple wieght entries for same user and same timestamp"
   ]
  },
  {
   "cell_type": "code",
   "execution_count": 43,
   "metadata": {
    "collapsed": true
   },
   "outputs": [],
   "source": [
    "# Compute standard deviation of multiple wieght entries for same user and same timestamp\n",
    "measure_date_std = weights_filter.groupby(\n",
    "        ['user_id', 'updated_date'])['body_weight'].transform('std')\n",
    "measure_date_std = measure_date_std.dropna()"
   ]
  },
  {
   "cell_type": "code",
   "execution_count": 44,
   "metadata": {},
   "outputs": [
    {
     "data": {
      "text/markdown": [
       "**Visualize variation of multiple measures**"
      ],
      "text/plain": [
       "<IPython.core.display.Markdown object>"
      ]
     },
     "metadata": {},
     "output_type": "display_data"
    },
    {
     "data": {
      "image/png": "[encoded data removed]",
      "text/plain": [
       "<matplotlib.figure.Figure at 0x12d0fa4a8>"
      ]
     },
     "metadata": {},
     "output_type": "display_data"
    },
    {
     "data": {
      "text/markdown": [
       "**Sample noisy data**"
      ],
      "text/plain": [
       "<IPython.core.display.Markdown object>"
      ]
     },
     "metadata": {},
     "output_type": "display_data"
    },
    {
     "data": {
      "text/html": [
       "<div>\n",
       "<style>\n",
       "    .dataframe thead tr:only-child th {\n",
       "        text-align: right;\n",
       "    }\n",
       "\n",
       "    .dataframe thead th {\n",
       "        text-align: left;\n",
       "    }\n",
       "\n",
       "    .dataframe tbody tr th {\n",
       "        vertical-align: top;\n",
       "    }\n",
       "</style>\n",
       "<table border=\"1\" class=\"dataframe\">\n",
       "  <thead>\n",
       "    <tr style=\"text-align: right;\">\n",
       "      <th></th>\n",
       "      <th>bmi</th>\n",
       "      <th>body_fat</th>\n",
       "      <th>body_weight</th>\n",
       "      <th>muscle_mass</th>\n",
       "      <th>updated_date</th>\n",
       "      <th>user_id</th>\n",
       "    </tr>\n",
       "  </thead>\n",
       "  <tbody>\n",
       "    <tr>\n",
       "      <th>176</th>\n",
       "      <td>29.5062</td>\n",
       "      <td>30.6</td>\n",
       "      <td>95.6</td>\n",
       "      <td>25.0</td>\n",
       "      <td>2016-09-17 08:46:20</td>\n",
       "      <td>00070076-fbb3-4f7a-9b11-d067693acc04</td>\n",
       "    </tr>\n",
       "    <tr>\n",
       "      <th>177</th>\n",
       "      <td>29.5062</td>\n",
       "      <td>30.7</td>\n",
       "      <td>95.6</td>\n",
       "      <td>25.0</td>\n",
       "      <td>2016-09-17 08:46:20</td>\n",
       "      <td>00070076-fbb3-4f7a-9b11-d067693acc04</td>\n",
       "    </tr>\n",
       "    <tr>\n",
       "      <th>241</th>\n",
       "      <td>29.7840</td>\n",
       "      <td>31.0</td>\n",
       "      <td>96.5</td>\n",
       "      <td>25.0</td>\n",
       "      <td>2017-02-25 12:23:29</td>\n",
       "      <td>00070076-fbb3-4f7a-9b11-d067693acc04</td>\n",
       "    </tr>\n",
       "    <tr>\n",
       "      <th>242</th>\n",
       "      <td>29.7840</td>\n",
       "      <td>31.1</td>\n",
       "      <td>96.5</td>\n",
       "      <td>25.0</td>\n",
       "      <td>2017-02-25 12:23:29</td>\n",
       "      <td>00070076-fbb3-4f7a-9b11-d067693acc04</td>\n",
       "    </tr>\n",
       "    <tr>\n",
       "      <th>301</th>\n",
       "      <td>29.5955</td>\n",
       "      <td>35.6</td>\n",
       "      <td>79.6</td>\n",
       "      <td>29.0</td>\n",
       "      <td>2016-01-03 22:55:22</td>\n",
       "      <td>0008848a-d4c4-473f-bf73-9ac35bc2fc4e</td>\n",
       "    </tr>\n",
       "  </tbody>\n",
       "</table>\n",
       "</div>"
      ],
      "text/plain": [
       "         bmi  body_fat  body_weight  muscle_mass        updated_date  \\\n",
       "176  29.5062      30.6         95.6         25.0 2016-09-17 08:46:20   \n",
       "177  29.5062      30.7         95.6         25.0 2016-09-17 08:46:20   \n",
       "241  29.7840      31.0         96.5         25.0 2017-02-25 12:23:29   \n",
       "242  29.7840      31.1         96.5         25.0 2017-02-25 12:23:29   \n",
       "301  29.5955      35.6         79.6         29.0 2016-01-03 22:55:22   \n",
       "\n",
       "                                  user_id  \n",
       "176  00070076-fbb3-4f7a-9b11-d067693acc04  \n",
       "177  00070076-fbb3-4f7a-9b11-d067693acc04  \n",
       "241  00070076-fbb3-4f7a-9b11-d067693acc04  \n",
       "242  00070076-fbb3-4f7a-9b11-d067693acc04  \n",
       "301  0008848a-d4c4-473f-bf73-9ac35bc2fc4e  "
      ]
     },
     "metadata": {},
     "output_type": "display_data"
    },
    {
     "data": {
      "text/markdown": [
       "**Sample non-noisy data**"
      ],
      "text/plain": [
       "<IPython.core.display.Markdown object>"
      ]
     },
     "metadata": {},
     "output_type": "display_data"
    },
    {
     "data": {
      "text/html": [
       "<div>\n",
       "<style>\n",
       "    .dataframe thead tr:only-child th {\n",
       "        text-align: right;\n",
       "    }\n",
       "\n",
       "    .dataframe thead th {\n",
       "        text-align: left;\n",
       "    }\n",
       "\n",
       "    .dataframe tbody tr th {\n",
       "        vertical-align: top;\n",
       "    }\n",
       "</style>\n",
       "<table border=\"1\" class=\"dataframe\">\n",
       "  <thead>\n",
       "    <tr style=\"text-align: right;\">\n",
       "      <th></th>\n",
       "      <th>bmi</th>\n",
       "      <th>body_fat</th>\n",
       "      <th>body_weight</th>\n",
       "      <th>muscle_mass</th>\n",
       "      <th>updated_date</th>\n",
       "      <th>user_id</th>\n",
       "    </tr>\n",
       "  </thead>\n",
       "  <tbody>\n",
       "    <tr>\n",
       "      <th>2</th>\n",
       "      <td>20.1122</td>\n",
       "      <td>10.5</td>\n",
       "      <td>59.5</td>\n",
       "      <td>51.8</td>\n",
       "      <td>2017-03-02 19:29:13</td>\n",
       "      <td>0000f27e-7b4e-4cb0-875d-6d067e078291</td>\n",
       "    </tr>\n",
       "    <tr>\n",
       "      <th>3</th>\n",
       "      <td>20.1798</td>\n",
       "      <td>10.5</td>\n",
       "      <td>59.7</td>\n",
       "      <td>51.8</td>\n",
       "      <td>2017-03-02 19:29:13</td>\n",
       "      <td>0000f27e-7b4e-4cb0-875d-6d067e078291</td>\n",
       "    </tr>\n",
       "    <tr>\n",
       "      <th>4</th>\n",
       "      <td>20.3488</td>\n",
       "      <td>10.3</td>\n",
       "      <td>60.2</td>\n",
       "      <td>52.0</td>\n",
       "      <td>2017-03-02 19:29:13</td>\n",
       "      <td>0000f27e-7b4e-4cb0-875d-6d067e078291</td>\n",
       "    </tr>\n",
       "    <tr>\n",
       "      <th>5</th>\n",
       "      <td>20.3488</td>\n",
       "      <td>10.7</td>\n",
       "      <td>60.2</td>\n",
       "      <td>51.7</td>\n",
       "      <td>2017-03-02 19:29:13</td>\n",
       "      <td>0000f27e-7b4e-4cb0-875d-6d067e078291</td>\n",
       "    </tr>\n",
       "    <tr>\n",
       "      <th>10</th>\n",
       "      <td>20.3150</td>\n",
       "      <td>10.5</td>\n",
       "      <td>60.1</td>\n",
       "      <td>51.9</td>\n",
       "      <td>2017-03-22 17:39:15</td>\n",
       "      <td>0000f27e-7b4e-4cb0-875d-6d067e078291</td>\n",
       "    </tr>\n",
       "  </tbody>\n",
       "</table>\n",
       "</div>"
      ],
      "text/plain": [
       "        bmi  body_fat  body_weight  muscle_mass        updated_date  \\\n",
       "2   20.1122      10.5         59.5         51.8 2017-03-02 19:29:13   \n",
       "3   20.1798      10.5         59.7         51.8 2017-03-02 19:29:13   \n",
       "4   20.3488      10.3         60.2         52.0 2017-03-02 19:29:13   \n",
       "5   20.3488      10.7         60.2         51.7 2017-03-02 19:29:13   \n",
       "10  20.3150      10.5         60.1         51.9 2017-03-22 17:39:15   \n",
       "\n",
       "                                 user_id  \n",
       "2   0000f27e-7b4e-4cb0-875d-6d067e078291  \n",
       "3   0000f27e-7b4e-4cb0-875d-6d067e078291  \n",
       "4   0000f27e-7b4e-4cb0-875d-6d067e078291  \n",
       "5   0000f27e-7b4e-4cb0-875d-6d067e078291  \n",
       "10  0000f27e-7b4e-4cb0-875d-6d067e078291  "
      ]
     },
     "metadata": {},
     "output_type": "display_data"
    },
    {
     "data": {
      "text/markdown": [
       "**Remove noisy multiple measures**"
      ],
      "text/plain": [
       "<IPython.core.display.Markdown object>"
      ]
     },
     "metadata": {},
     "output_type": "display_data"
    },
    {
     "data": {
      "text/markdown": [
       "* Number of noisy measures removed: 152030"
      ],
      "text/plain": [
       "<IPython.core.display.Markdown object>"
      ]
     },
     "metadata": {},
     "output_type": "display_data"
    },
    {
     "data": {
      "text/markdown": [
       "**Visualize variation of multiple measures after noise filtering**"
      ],
      "text/plain": [
       "<IPython.core.display.Markdown object>"
      ]
     },
     "metadata": {},
     "output_type": "display_data"
    },
    {
     "data": {
      "image/png": "[encoded data removed]",
      "text/plain": [
       "<matplotlib.figure.Figure at 0x12e037ba8>"
      ]
     },
     "metadata": {},
     "output_type": "display_data"
    },
    {
     "data": {
      "text/markdown": [
       "**Maximum standard deviation admited in multiple measures:** 2.1156634893101534"
      ],
      "text/plain": [
       "<IPython.core.display.Markdown object>"
      ]
     },
     "metadata": {},
     "output_type": "display_data"
    }
   ],
   "source": [
    "printmd('**Visualize variation of multiple measures**')\n",
    "box = plt.boxplot(list(measure_date_std), 0)\n",
    "plt.show()\n",
    "\n",
    "printmd('**Sample noisy data**')\n",
    "di.display(weights_filter.loc[\n",
    "    measure_date_std[measure_date_std.isin(outliers)].index].head())\n",
    "\n",
    "printmd('**Sample non-noisy data**')\n",
    "di.display(weights_filter.loc[\n",
    "    measure_date_std[-measure_date_std.isin(outliers)].index].head())\n",
    "\n",
    "printmd('**Remove noisy multiple measures**')\n",
    "len_before = len(weights_filter)\n",
    "outliers = box[\"fliers\"][0].get_data()[1]\n",
    "weights_filter = weights_filter.drop(\n",
    "    measure_date_std[measure_date_std.isin(outliers)].index)\n",
    "\n",
    "printmd('* Number of noisy measures removed: {}'.format(\n",
    "    len_before - len(weights_filter)))\n",
    "\n",
    "printmd('**Visualize variation of multiple measures after noise filtering**')\n",
    "measure_date_std = weights_filter.groupby(\n",
    "        ['user_id', 'updated_date'])['body_weight'].transform('std')\n",
    "measure_date_std = measure_date_std.dropna()\n",
    "box = plt.boxplot(list(measure_date_std), 0)\n",
    "plt.show()\n",
    "\n",
    "printmd('**Maximum standard deviation admited in multiple measures:** {}'.format(\n",
    "    max(list(measure_date_std))))\n"
   ]
  },
  {
   "cell_type": "code",
   "execution_count": 35,
   "metadata": {},
   "outputs": [
    {
     "data": {
      "text/markdown": [
       "***take the average of multiple measures***"
      ],
      "text/plain": [
       "<IPython.core.display.Markdown object>"
      ]
     },
     "metadata": {},
     "output_type": "display_data"
    },
    {
     "data": {
      "text/markdown": [
       "* Number of duplicated entries after averagind multiple measures: 90915"
      ],
      "text/plain": [
       "<IPython.core.display.Markdown object>"
      ]
     },
     "metadata": {},
     "output_type": "display_data"
    }
   ],
   "source": [
    "printmd('***take the average of multiple measures***')\n",
    "weights_filter['body_weight'] = weights_filter.groupby(\n",
    "        ['user_id', 'updated_date'])['body_weight'].transform('mean')\n",
    "printmd('* Number of duplicated entries after averagind multiple measures: {}'.format(\n",
    " weights_filter.duplicated().sum()))"
   ]
  },
  {
   "cell_type": "code",
   "execution_count": 196,
   "metadata": {},
   "outputs": [
    {
     "name": "stdout",
     "output_type": "stream",
     "text": [
      "328101\n",
      "328101\n",
      "0\n"
     ]
    }
   ],
   "source": [
    "# Recompute bmi (this will also fill nulls)\n",
    "\n",
    "# Keep only entries where user data is available\n",
    "weights_filter = weights_filter[\n",
    "    weights_filter.user_id.isin(users.user_id)]\n",
    "\n",
    "print(weights_filter.duplicated().sum())\n",
    "# Get height for users tables\n",
    "weights_filter = weights_filter.merge(users[['user_id', 'height']], on='user_id')\n",
    "print(weights_filter.duplicated().sum())\n",
    "\n",
    "# Compute bmi\n",
    "weights_filter['bmi'] = weights_filter['body_weight']/pow(\n",
    "    (weights_filter['height']/100),2)\n",
    "\n",
    "# Check there are no null values for bmi\n",
    "print(weights_filter['bmi'].isnull().values.sum())\n",
    "\n",
    "# Drop duplicates (introduced when taking mean value per user, timestamp)\n",
    "weights_filter = weights_filter.drop_duplicates()"
   ]
  },
  {
   "cell_type": "code",
   "execution_count": 198,
   "metadata": {},
   "outputs": [
    {
     "data": {
      "text/plain": [
       "0"
      ]
     },
     "execution_count": 198,
     "metadata": {},
     "output_type": "execute_result"
    }
   ],
   "source": [
    "weights_filter.duplicated().sum()"
   ]
  },
  {
   "cell_type": "code",
   "execution_count": 199,
   "metadata": {},
   "outputs": [
    {
     "data": {
      "image/png": "[encoded data removed]",
      "text/plain": [
       "<matplotlib.figure.Figure at 0x13996fda0>"
      ]
     },
     "metadata": {},
     "output_type": "display_data"
    }
   ],
   "source": [
    "# Bmi Histogram\n",
    "n, bins, patches = plt.hist(\n",
    "    list(weights_filter['bmi'].values), bins = 10)\n",
    "plt.show()"
   ]
  },
  {
   "cell_type": "code",
   "execution_count": 200,
   "metadata": {},
   "outputs": [
    {
     "name": "stdout",
     "output_type": "stream",
     "text": [
      "58.10856816326172\n",
      "11.370505267011097\n"
     ]
    }
   ],
   "source": [
    "print(weights_filter['bmi'].quantile(0.9999))\n",
    "print(weights_filter['bmi'].quantile(0.0002))\n",
    "weights_filter = weights_filter[\n",
    "    (weights_filter.bmi > 13) &\n",
    "    (weights_filter.bmi < 60)\n",
    "]"
   ]
  },
  {
   "cell_type": "code",
   "execution_count": 201,
   "metadata": {},
   "outputs": [
    {
     "data": {
      "text/plain": [
       "0"
      ]
     },
     "execution_count": 201,
     "metadata": {},
     "output_type": "execute_result"
    }
   ],
   "source": [
    "weights_filter.duplicated().sum()"
   ]
  },
  {
   "cell_type": "code",
   "execution_count": 202,
   "metadata": {},
   "outputs": [
    {
     "data": {
      "image/png": "[encoded data removed]",
      "text/plain": [
       "<matplotlib.figure.Figure at 0x11d85bb70>"
      ]
     },
     "metadata": {},
     "output_type": "display_data"
    }
   ],
   "source": [
    "# Bmi Histogram\n",
    "n, bins, patches = plt.hist(\n",
    "    list(weights_filter['bmi'].values), bins = 10)\n",
    "plt.show()"
   ]
  },
  {
   "cell_type": "code",
   "execution_count": null,
   "metadata": {
    "collapsed": true
   },
   "outputs": [],
   "source": [
    "# Weight Histogram\n",
    "n, bins, patches = plt.hist(\n",
    "    list(weights_filter['body_weight'].values), bins = 10)\n",
    "plt.show()"
   ]
  },
  {
   "cell_type": "code",
   "execution_count": 204,
   "metadata": {
    "collapsed": true
   },
   "outputs": [],
   "source": [
    "with open('weights_filter.pickle', 'wb') as f:\n",
    "    pickle.dump(weights_filter, f)"
   ]
  }
 ],
 "metadata": {
  "kernelspec": {
   "display_name": "Python 3",
   "language": "python",
   "name": "python3"
  },
  "language_info": {
   "codemirror_mode": {
    "name": "ipython",
    "version": 3
   },
   "file_extension": ".py",
   "mimetype": "text/x-python",
   "name": "python",
   "nbconvert_exporter": "python",
   "pygments_lexer": "ipython3",
   "version": "3.6.1"
  }
 },
 "nbformat": 4,
 "nbformat_minor": 2
}
