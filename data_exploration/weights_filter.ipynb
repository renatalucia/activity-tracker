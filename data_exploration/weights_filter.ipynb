{
 "cells": [
  {
   "cell_type": "code",
   "execution_count": 27,
   "metadata": {
    "collapsed": true
   },
   "outputs": [],
   "source": [
    "import pickle\n",
    "import pandas as pd\n",
    "import numpy as np\n",
    "import matplotlib.pyplot as plt"
   ]
  },
  {
   "cell_type": "code",
   "execution_count": 28,
   "metadata": {},
   "outputs": [
    {
     "data": {
      "text/html": [
       "<script>jQuery(function() {if (jQuery(\"body.notebook_app\").length == 0) { jQuery(\".input_area\").toggle(); jQuery(\".prompt\").toggle();}});</script>"
      ]
     },
     "metadata": {},
     "output_type": "display_data"
    },
    {
     "data": {
      "text/html": [
       "<button onclick=\"jQuery('.input_area').toggle(); jQuery('.prompt').toggle();\">Toggle code</button>"
      ]
     },
     "metadata": {},
     "output_type": "display_data"
    }
   ],
   "source": [
    "import IPython.core.display as di\n",
    "\n",
    "# This line will hide code by default when the notebook is exported as HTML\n",
    "di.display_html('<script>jQuery(function() {if (jQuery(\"body.notebook_app\").length == 0) { jQuery(\".input_area\").toggle(); jQuery(\".prompt\").toggle();}});</script>', raw=True)\n",
    "\n",
    "# This line will add a button to toggle visibility of code blocks, for use with the HTML export version\n",
    "di.display_html('''<button onclick=\"jQuery('.input_area').toggle(); jQuery('.prompt').toggle();\">Toggle code</button>''', raw=True)"
   ]
  },
  {
   "cell_type": "code",
   "execution_count": 29,
   "metadata": {
    "collapsed": true
   },
   "outputs": [],
   "source": [
    "from IPython.display import Markdown, display\n",
    "def printmd(string):\n",
    "    display(Markdown(string))"
   ]
  },
  {
   "cell_type": "code",
   "execution_count": 30,
   "metadata": {
    "collapsed": true
   },
   "outputs": [],
   "source": [
    "# Read weight data\n",
    "with open('../data/all_weight.pickle', 'rb') as f:\n",
    "    weights = pd.DataFrame(pickle.load(f))\n",
    "\n",
    "# Read measure units\n",
    "with open('../data/all_unit.pickle', 'rb') as f:\n",
    "    units = pd.DataFrame(pickle.load(f))\n",
    "\n",
    "# Read user data (need hight for bmi computation)\n",
    "with open('../data/filtered/users_filter.pickle', 'rb') as f:\n",
    "    users = pd.DataFrame(pickle.load(f))\n",
    "\n"
   ]
  },
  {
   "cell_type": "code",
   "execution_count": 31,
   "metadata": {
    "collapsed": true
   },
   "outputs": [],
   "source": [
    "#Decode measure units\n",
    "\n",
    "# select str columns\n",
    "str_df = units.select_dtypes([np.object])\n",
    "# convert them all\n",
    "str_df = str_df.stack().str.decode('utf-8').unstack()\n",
    "# swap converted with original columns\n",
    "for col in str_df:\n",
    "    units[col] = str_df[col]\n",
    "    \n",
    "units = units.drop_duplicates()"
   ]
  },
  {
   "cell_type": "markdown",
   "metadata": {},
   "source": [
    "# Data overview"
   ]
  },
  {
   "cell_type": "markdown",
   "metadata": {},
   "source": [
    "## Users Data (filtered)"
   ]
  },
  {
   "cell_type": "code",
   "execution_count": 32,
   "metadata": {},
   "outputs": [
    {
     "data": {
      "text/html": [
       "<div>\n",
       "<style>\n",
       "    .dataframe thead tr:only-child th {\n",
       "        text-align: right;\n",
       "    }\n",
       "\n",
       "    .dataframe thead th {\n",
       "        text-align: left;\n",
       "    }\n",
       "\n",
       "    .dataframe tbody tr th {\n",
       "        vertical-align: top;\n",
       "    }\n",
       "</style>\n",
       "<table border=\"1\" class=\"dataframe\">\n",
       "  <thead>\n",
       "    <tr style=\"text-align: right;\">\n",
       "      <th></th>\n",
       "      <th>birthday</th>\n",
       "      <th>height</th>\n",
       "      <th>sex</th>\n",
       "      <th>user_id</th>\n",
       "      <th>birthyear</th>\n",
       "    </tr>\n",
       "  </thead>\n",
       "  <tbody>\n",
       "    <tr>\n",
       "      <th>0</th>\n",
       "      <td>1962-01-29 01:00:00</td>\n",
       "      <td>170.0</td>\n",
       "      <td>female</td>\n",
       "      <td>000025b9-60ab-44ec-9589-edd906cbf564</td>\n",
       "      <td>1962</td>\n",
       "    </tr>\n",
       "    <tr>\n",
       "      <th>1</th>\n",
       "      <td>1964-11-08 01:00:00</td>\n",
       "      <td>163.0</td>\n",
       "      <td>female</td>\n",
       "      <td>00003941-eab1-4c08-8e57-96612cb7094d</td>\n",
       "      <td>1964</td>\n",
       "    </tr>\n",
       "    <tr>\n",
       "      <th>2</th>\n",
       "      <td>1960-04-19 01:00:00</td>\n",
       "      <td>172.0</td>\n",
       "      <td>male</td>\n",
       "      <td>00004dca-f8ca-4536-ad74-46202452e032</td>\n",
       "      <td>1960</td>\n",
       "    </tr>\n",
       "    <tr>\n",
       "      <th>3</th>\n",
       "      <td>1967-08-05 01:00:00</td>\n",
       "      <td>187.0</td>\n",
       "      <td>male</td>\n",
       "      <td>0000767c-089c-415f-a3ea-10a83eff7115</td>\n",
       "      <td>1967</td>\n",
       "    </tr>\n",
       "    <tr>\n",
       "      <th>4</th>\n",
       "      <td>2000-05-27 02:00:00</td>\n",
       "      <td>172.0</td>\n",
       "      <td>male</td>\n",
       "      <td>0000f27e-7b4e-4cb0-875d-6d067e078291</td>\n",
       "      <td>2000</td>\n",
       "    </tr>\n",
       "  </tbody>\n",
       "</table>\n",
       "</div>"
      ],
      "text/plain": [
       "              birthday  height     sex                               user_id  \\\n",
       "0  1962-01-29 01:00:00   170.0  female  000025b9-60ab-44ec-9589-edd906cbf564   \n",
       "1  1964-11-08 01:00:00   163.0  female  00003941-eab1-4c08-8e57-96612cb7094d   \n",
       "2  1960-04-19 01:00:00   172.0    male  00004dca-f8ca-4536-ad74-46202452e032   \n",
       "3  1967-08-05 01:00:00   187.0    male  0000767c-089c-415f-a3ea-10a83eff7115   \n",
       "4  2000-05-27 02:00:00   172.0    male  0000f27e-7b4e-4cb0-875d-6d067e078291   \n",
       "\n",
       "   birthyear  \n",
       "0       1962  \n",
       "1       1964  \n",
       "2       1960  \n",
       "3       1967  \n",
       "4       2000  "
      ]
     },
     "execution_count": 32,
     "metadata": {},
     "output_type": "execute_result"
    }
   ],
   "source": [
    "users.head()"
   ]
  },
  {
   "cell_type": "code",
   "execution_count": 33,
   "metadata": {},
   "outputs": [
    {
     "data": {
      "text/markdown": [
       "**Total number of users:** 378472"
      ],
      "text/plain": [
       "<IPython.core.display.Markdown object>"
      ]
     },
     "metadata": {},
     "output_type": "display_data"
    }
   ],
   "source": [
    "printmd('**Total number of users:** {}'.format(len(users)))"
   ]
  },
  {
   "cell_type": "markdown",
   "metadata": {},
   "source": [
    "## Weight data"
   ]
  },
  {
   "cell_type": "code",
   "execution_count": 34,
   "metadata": {},
   "outputs": [
    {
     "data": {
      "text/html": [
       "<div>\n",
       "<style>\n",
       "    .dataframe thead tr:only-child th {\n",
       "        text-align: right;\n",
       "    }\n",
       "\n",
       "    .dataframe thead th {\n",
       "        text-align: left;\n",
       "    }\n",
       "\n",
       "    .dataframe tbody tr th {\n",
       "        vertical-align: top;\n",
       "    }\n",
       "</style>\n",
       "<table border=\"1\" class=\"dataframe\">\n",
       "  <thead>\n",
       "    <tr style=\"text-align: right;\">\n",
       "      <th></th>\n",
       "      <th>bmi</th>\n",
       "      <th>body_weight</th>\n",
       "      <th>measurement_date</th>\n",
       "      <th>user_id</th>\n",
       "    </tr>\n",
       "  </thead>\n",
       "  <tbody>\n",
       "    <tr>\n",
       "      <th>0</th>\n",
       "      <td>28.90080</td>\n",
       "      <td>85.5</td>\n",
       "      <td>2017-01-07 17:37:12</td>\n",
       "      <td>00004dca-f8ca-4536-ad74-46202452e032</td>\n",
       "    </tr>\n",
       "    <tr>\n",
       "      <th>1</th>\n",
       "      <td>9.46458</td>\n",
       "      <td>28.0</td>\n",
       "      <td>2017-01-07 18:08:06</td>\n",
       "      <td>00004dca-f8ca-4536-ad74-46202452e032</td>\n",
       "    </tr>\n",
       "    <tr>\n",
       "      <th>2</th>\n",
       "      <td>7.06463</td>\n",
       "      <td>20.9</td>\n",
       "      <td>2017-01-07 18:09:18</td>\n",
       "      <td>00004dca-f8ca-4536-ad74-46202452e032</td>\n",
       "    </tr>\n",
       "    <tr>\n",
       "      <th>3</th>\n",
       "      <td>27.71770</td>\n",
       "      <td>82.0</td>\n",
       "      <td>2017-01-07 18:10:48</td>\n",
       "      <td>00004dca-f8ca-4536-ad74-46202452e032</td>\n",
       "    </tr>\n",
       "    <tr>\n",
       "      <th>4</th>\n",
       "      <td>28.86700</td>\n",
       "      <td>85.4</td>\n",
       "      <td>2017-01-07 18:12:19</td>\n",
       "      <td>00004dca-f8ca-4536-ad74-46202452e032</td>\n",
       "    </tr>\n",
       "  </tbody>\n",
       "</table>\n",
       "</div>"
      ],
      "text/plain": [
       "        bmi  body_weight     measurement_date  \\\n",
       "0  28.90080         85.5  2017-01-07 17:37:12   \n",
       "1   9.46458         28.0  2017-01-07 18:08:06   \n",
       "2   7.06463         20.9  2017-01-07 18:09:18   \n",
       "3  27.71770         82.0  2017-01-07 18:10:48   \n",
       "4  28.86700         85.4  2017-01-07 18:12:19   \n",
       "\n",
       "                                user_id  \n",
       "0  00004dca-f8ca-4536-ad74-46202452e032  \n",
       "1  00004dca-f8ca-4536-ad74-46202452e032  \n",
       "2  00004dca-f8ca-4536-ad74-46202452e032  \n",
       "3  00004dca-f8ca-4536-ad74-46202452e032  \n",
       "4  00004dca-f8ca-4536-ad74-46202452e032  "
      ]
     },
     "execution_count": 34,
     "metadata": {},
     "output_type": "execute_result"
    }
   ],
   "source": [
    "weights.head()"
   ]
  },
  {
   "cell_type": "code",
   "execution_count": 35,
   "metadata": {},
   "outputs": [
    {
     "data": {
      "text/markdown": [
       "**Number of weight entries:** 9993364"
      ],
      "text/plain": [
       "<IPython.core.display.Markdown object>"
      ]
     },
     "metadata": {},
     "output_type": "display_data"
    },
    {
     "data": {
      "text/markdown": [
       "**Number of users with at least one weight entry:** 183236"
      ],
      "text/plain": [
       "<IPython.core.display.Markdown object>"
      ]
     },
     "metadata": {},
     "output_type": "display_data"
    }
   ],
   "source": [
    "printmd('**Number of weight entries:** {}'.format(len(weights)))\n",
    "printmd('**Number of users with at least one weight entry:** {}'.format(\n",
    "    len(weights['user_id'].unique())))"
   ]
  },
  {
   "cell_type": "markdown",
   "metadata": {},
   "source": [
    "## Unit measures"
   ]
  },
  {
   "cell_type": "code",
   "execution_count": 36,
   "metadata": {},
   "outputs": [
    {
     "data": {
      "text/html": [
       "<div>\n",
       "<style>\n",
       "    .dataframe thead tr:only-child th {\n",
       "        text-align: right;\n",
       "    }\n",
       "\n",
       "    .dataframe thead th {\n",
       "        text-align: left;\n",
       "    }\n",
       "\n",
       "    .dataframe tbody tr th {\n",
       "        vertical-align: top;\n",
       "    }\n",
       "</style>\n",
       "<table border=\"1\" class=\"dataframe\">\n",
       "  <thead>\n",
       "    <tr style=\"text-align: right;\">\n",
       "      <th></th>\n",
       "      <th>measure_unit</th>\n",
       "      <th>user_id</th>\n",
       "    </tr>\n",
       "  </thead>\n",
       "  <tbody>\n",
       "    <tr>\n",
       "      <th>0</th>\n",
       "      <td>kilos</td>\n",
       "      <td>00004dca-f8ca-4536-ad74-46202452e032</td>\n",
       "    </tr>\n",
       "    <tr>\n",
       "      <th>1</th>\n",
       "      <td>kilos</td>\n",
       "      <td>0000767c-089c-415f-a3ea-10a83eff7115</td>\n",
       "    </tr>\n",
       "    <tr>\n",
       "      <th>2</th>\n",
       "      <td>kilos</td>\n",
       "      <td>0000f27e-7b4e-4cb0-875d-6d067e078291</td>\n",
       "    </tr>\n",
       "    <tr>\n",
       "      <th>3</th>\n",
       "      <td>kilos</td>\n",
       "      <td>000114c3-4880-4128-9eac-19d7f2c6896d</td>\n",
       "    </tr>\n",
       "    <tr>\n",
       "      <th>4</th>\n",
       "      <td>kilos</td>\n",
       "      <td>00019ba2-befe-419c-9009-77c8feb4095d</td>\n",
       "    </tr>\n",
       "  </tbody>\n",
       "</table>\n",
       "</div>"
      ],
      "text/plain": [
       "  measure_unit                               user_id\n",
       "0        kilos  00004dca-f8ca-4536-ad74-46202452e032\n",
       "1        kilos  0000767c-089c-415f-a3ea-10a83eff7115\n",
       "2        kilos  0000f27e-7b4e-4cb0-875d-6d067e078291\n",
       "3        kilos  000114c3-4880-4128-9eac-19d7f2c6896d\n",
       "4        kilos  00019ba2-befe-419c-9009-77c8feb4095d"
      ]
     },
     "execution_count": 36,
     "metadata": {},
     "output_type": "execute_result"
    }
   ],
   "source": [
    "units.head()"
   ]
  },
  {
   "cell_type": "code",
   "execution_count": 37,
   "metadata": {},
   "outputs": [
    {
     "data": {
      "text/markdown": [
       "**Number of unit measure entries:** 229696"
      ],
      "text/plain": [
       "<IPython.core.display.Markdown object>"
      ]
     },
     "metadata": {},
     "output_type": "display_data"
    },
    {
     "data": {
      "text/markdown": [
       "**Number of users with at least one unit measure registered:** 229677"
      ],
      "text/plain": [
       "<IPython.core.display.Markdown object>"
      ]
     },
     "metadata": {},
     "output_type": "display_data"
    }
   ],
   "source": [
    "printmd('**Number of unit measure entries:** {}'.format(len(units)))\n",
    "printmd('**Number of users with at least one unit measure registered:** {}'.format(\n",
    "    len(units['user_id'].unique())))"
   ]
  },
  {
   "cell_type": "markdown",
   "metadata": {},
   "source": [
    "# Data Exploration and Processing"
   ]
  },
  {
   "cell_type": "markdown",
   "metadata": {},
   "source": [
    "## Filter user unit metrics"
   ]
  },
  {
   "cell_type": "code",
   "execution_count": 38,
   "metadata": {},
   "outputs": [
    {
     "data": {
      "text/markdown": [
       "**Unit metrics found: **['stones' 'kilos' 'pounds']"
      ],
      "text/plain": [
       "<IPython.core.display.Markdown object>"
      ]
     },
     "metadata": {},
     "output_type": "display_data"
    },
    {
     "data": {
      "text/markdown": [
       "**Number of users with metrics different from 'kilos': **169"
      ],
      "text/plain": [
       "<IPython.core.display.Markdown object>"
      ]
     },
     "metadata": {},
     "output_type": "display_data"
    },
    {
     "data": {
      "text/markdown": [
       "**Remove user with metrics different from 'kilos'**"
      ],
      "text/plain": [
       "<IPython.core.display.Markdown object>"
      ]
     },
     "metadata": {},
     "output_type": "display_data"
    },
    {
     "data": {
      "text/markdown": [
       "* Number of entries removed: 169"
      ],
      "text/plain": [
       "<IPython.core.display.Markdown object>"
      ]
     },
     "metadata": {},
     "output_type": "display_data"
    },
    {
     "data": {
      "text/markdown": [
       "* Number of remaining entries: 229527"
      ],
      "text/plain": [
       "<IPython.core.display.Markdown object>"
      ]
     },
     "metadata": {},
     "output_type": "display_data"
    },
    {
     "data": {
      "text/markdown": [
       "**Are there null values in the units table?** False"
      ],
      "text/plain": [
       "<IPython.core.display.Markdown object>"
      ]
     },
     "metadata": {},
     "output_type": "display_data"
    }
   ],
   "source": [
    "# Count measures other than kilos\n",
    "not_unit_kilos = units.groupby('user_id')['measure_unit'].agg(lambda x: any(x != 'kilos'))\n",
    "not_unit_kilos = not_unit_kilos[not_unit_kilos==True]\n",
    "printmd('**Unit metrics found: **{}'.format(\n",
    "    units['measure_unit'].loc[units.user_id.isin(not_unit_kilos.index)].unique()))\n",
    "printmd('**Number of users with metrics different from \\'kilos\\': **{}'.format(\n",
    "    len(units[units.user_id.isin(not_unit_kilos.index)])))\n",
    "\n",
    "# Remove metrics other than kilos\n",
    "printmd('**Remove user with metrics different from \\'kilos\\'**')\n",
    "\n",
    "len_before = len(units)\n",
    "units = units[-units.user_id.isin(not_unit_kilos.index)]\n",
    "printmd('* Number of entries removed: {}'.format(len_before - len(units)))\n",
    "printmd('* Number of remaining entries: {}'.format(len(units)))\n",
    "\n",
    "printmd('**Are there null values in the units table?** {}'.format(\n",
    "    units.isnull().values.any()))\n"
   ]
  },
  {
   "cell_type": "markdown",
   "metadata": {},
   "source": [
    "## Filter user weights"
   ]
  },
  {
   "cell_type": "code",
   "execution_count": 39,
   "metadata": {},
   "outputs": [
    {
     "data": {
      "text/markdown": [
       "**Remove weight entries not in kilos**"
      ],
      "text/plain": [
       "<IPython.core.display.Markdown object>"
      ]
     },
     "metadata": {},
     "output_type": "display_data"
    },
    {
     "data": {
      "text/markdown": [
       "* Number of weight entries removed: 202736"
      ],
      "text/plain": [
       "<IPython.core.display.Markdown object>"
      ]
     },
     "metadata": {},
     "output_type": "display_data"
    },
    {
     "data": {
      "text/markdown": [
       "* Number of remaining weight entries: 9790628"
      ],
      "text/plain": [
       "<IPython.core.display.Markdown object>"
      ]
     },
     "metadata": {},
     "output_type": "display_data"
    }
   ],
   "source": [
    "# Filter weight entries in kilos\n",
    "printmd('**Remove weight entries not in kilos**')\n",
    "len_before = len(weights)\n",
    "weights_filter = weights[weights.user_id.isin(units['user_id'])]\n",
    "printmd('* Number of weight entries removed: {}'.format(len_before - len(weights_filter)))\n",
    "printmd('* Number of remaining weight entries: {}'.format(len(weights_filter)))"
   ]
  },
  {
   "cell_type": "code",
   "execution_count": 40,
   "metadata": {},
   "outputs": [
    {
     "data": {
      "text/markdown": [
       "**Keep only columns of interest: ** [user_id, measurement_date, body_weight, bmi]"
      ],
      "text/plain": [
       "<IPython.core.display.Markdown object>"
      ]
     },
     "metadata": {},
     "output_type": "display_data"
    },
    {
     "data": {
      "text/markdown": [
       "* Number of body_weight null values: 0"
      ],
      "text/plain": [
       "<IPython.core.display.Markdown object>"
      ]
     },
     "metadata": {},
     "output_type": "display_data"
    },
    {
     "data": {
      "text/markdown": [
       "* Number of measurement_date null values: 0"
      ],
      "text/plain": [
       "<IPython.core.display.Markdown object>"
      ]
     },
     "metadata": {},
     "output_type": "display_data"
    },
    {
     "data": {
      "text/markdown": [
       "* Number of bmi null values: 14376"
      ],
      "text/plain": [
       "<IPython.core.display.Markdown object>"
      ]
     },
     "metadata": {},
     "output_type": "display_data"
    }
   ],
   "source": [
    "# Filter columns and count entries with null values \n",
    "printmd('**Keep only columns of interest: ** [user_id, measurement_date, body_weight, bmi]')\n",
    "# weights_filter = weights_filter[['user_id', 'updated_date', 'body_weight', 'bmi']]\n",
    "printmd('* Number of body_weight null values: {}'.format(\n",
    "    weights_filter['body_weight'].isnull().values.sum()))\n",
    "printmd('* Number of measurement_date null values: {}'.format(\n",
    "    weights_filter['measurement_date'].isnull().values.sum()))\n",
    "printmd('* Number of bmi null values: {}'.format(\n",
    "    weights_filter['bmi'].isnull().values.sum()))"
   ]
  },
  {
   "cell_type": "markdown",
   "metadata": {},
   "source": [
    "## Statistical profile of weight data"
   ]
  },
  {
   "cell_type": "code",
   "execution_count": 41,
   "metadata": {},
   "outputs": [
    {
     "data": {
      "text/markdown": [
       "**Original Data:**"
      ],
      "text/plain": [
       "<IPython.core.display.Markdown object>"
      ]
     },
     "metadata": {},
     "output_type": "display_data"
    },
    {
     "data": {
      "text/markdown": [
       "* _Max Weight:_ 1000.0"
      ],
      "text/plain": [
       "<IPython.core.display.Markdown object>"
      ]
     },
     "metadata": {},
     "output_type": "display_data"
    },
    {
     "data": {
      "text/markdown": [
       "* _Min Weight:_ 0.0"
      ],
      "text/plain": [
       "<IPython.core.display.Markdown object>"
      ]
     },
     "metadata": {},
     "output_type": "display_data"
    },
    {
     "data": {
      "text/markdown": [
       "* _Mean Weight:_ 84.19095566386495"
      ],
      "text/plain": [
       "<IPython.core.display.Markdown object>"
      ]
     },
     "metadata": {},
     "output_type": "display_data"
    },
    {
     "data": {
      "text/markdown": [
       "* _Standard Deviation:_ 38.686839276739974 "
      ],
      "text/plain": [
       "<IPython.core.display.Markdown object>"
      ]
     },
     "metadata": {},
     "output_type": "display_data"
    },
    {
     "data": {
      "image/png": "[encoded data removed]",
      "text/plain": [
       "<matplotlib.figure.Figure at 0x21ffdb668>"
      ]
     },
     "metadata": {},
     "output_type": "display_data"
    },
    {
     "data": {
      "text/markdown": [
       "**Remove weight outliers**"
      ],
      "text/plain": [
       "<IPython.core.display.Markdown object>"
      ]
     },
     "metadata": {},
     "output_type": "display_data"
    },
    {
     "data": {
      "text/markdown": [
       "* Number of outliers removed: 318430"
      ],
      "text/plain": [
       "<IPython.core.display.Markdown object>"
      ]
     },
     "metadata": {},
     "output_type": "display_data"
    },
    {
     "data": {
      "text/markdown": [
       "* Number of remaining weights entries: 9472198"
      ],
      "text/plain": [
       "<IPython.core.display.Markdown object>"
      ]
     },
     "metadata": {},
     "output_type": "display_data"
    },
    {
     "data": {
      "text/markdown": [
       "**Filtered Data:**"
      ],
      "text/plain": [
       "<IPython.core.display.Markdown object>"
      ]
     },
     "metadata": {},
     "output_type": "display_data"
    },
    {
     "data": {
      "text/markdown": [
       "* _Max Weight:_ 126.3"
      ],
      "text/plain": [
       "<IPython.core.display.Markdown object>"
      ]
     },
     "metadata": {},
     "output_type": "display_data"
    },
    {
     "data": {
      "text/markdown": [
       "* _Min Weight:_ 38.3"
      ],
      "text/plain": [
       "<IPython.core.display.Markdown object>"
      ]
     },
     "metadata": {},
     "output_type": "display_data"
    },
    {
     "data": {
      "text/markdown": [
       "* _Mean Weight:_ 82.37795206904559"
      ],
      "text/plain": [
       "<IPython.core.display.Markdown object>"
      ]
     },
     "metadata": {},
     "output_type": "display_data"
    },
    {
     "data": {
      "text/markdown": [
       "* _Standard Deviation:_ 15.633760682063514 "
      ],
      "text/plain": [
       "<IPython.core.display.Markdown object>"
      ]
     },
     "metadata": {},
     "output_type": "display_data"
    },
    {
     "data": {
      "image/png": "[encoded data removed]",
      "text/plain": [
       "<matplotlib.figure.Figure at 0x21ffbfa58>"
      ]
     },
     "metadata": {},
     "output_type": "display_data"
    }
   ],
   "source": [
    "printmd('**Original Data:**')\n",
    "printmd('* _Max Weight:_ {}'.format(weights_filter['body_weight'].max()))\n",
    "printmd('* _Min Weight:_ {}'.format(weights_filter['body_weight'].min()))\n",
    "printmd('* _Mean Weight:_ {}'.format(weights_filter['body_weight'].mean()))\n",
    "printmd('* _Standard Deviation:_ {} '.format(weights_filter['body_weight'].std()))\n",
    "\n",
    "box = plt.boxplot(weights_filter['body_weight'], 0)\n",
    "plt.show()\n",
    "\n",
    "outliers = box[\"fliers\"][0].get_data()[1]\n",
    "\n",
    "printmd('**Remove weight outliers**')\n",
    "len_before = len(weights_filter)\n",
    "weights_filter = weights_filter[-weights_filter.body_weight.isin(outliers)]\n",
    "printmd('* Number of outliers removed: {}'.format(len_before - len(weights_filter)))\n",
    "printmd('* Number of remaining weights entries: {}'.format(len(weights_filter)))\n",
    "\n",
    "printmd('**Filtered Data:**')\n",
    "printmd('* _Max Weight:_ {}'.format(weights_filter['body_weight'].max()))\n",
    "printmd('* _Min Weight:_ {}'.format(weights_filter['body_weight'].min()))\n",
    "printmd('* _Mean Weight:_ {}'.format(weights_filter['body_weight'].mean()))\n",
    "printmd('* _Standard Deviation:_ {} '.format(weights_filter['body_weight'].std()))\n",
    "\n",
    "box = plt.boxplot(weights_filter['body_weight'], 0)\n",
    "plt.show()\n"
   ]
  },
  {
   "cell_type": "markdown",
   "metadata": {},
   "source": [
    "## Handle multiple wieght entries for same user and same timestamp"
   ]
  },
  {
   "cell_type": "code",
   "execution_count": 42,
   "metadata": {},
   "outputs": [],
   "source": [
    "# Compute standard deviation of multiple wieght entries for same user and same timestamp\n",
    "measure_date_std = weights_filter.groupby(\n",
    "        ['user_id', 'measurement_date'])['body_weight'].transform('std')\n",
    "measure_date_std = measure_date_std.dropna()"
   ]
  },
  {
   "cell_type": "code",
   "execution_count": 43,
   "metadata": {},
   "outputs": [
    {
     "data": {
      "text/markdown": [
       "**Visualize variation of multiple measures**"
      ],
      "text/plain": [
       "<IPython.core.display.Markdown object>"
      ]
     },
     "metadata": {},
     "output_type": "display_data"
    },
    {
     "data": {
      "image/png": "[encoded data removed]",
      "text/plain": [
       "<matplotlib.figure.Figure at 0x21f13d668>"
      ]
     },
     "metadata": {},
     "output_type": "display_data"
    },
    {
     "data": {
      "text/markdown": [
       "**Sample noisy data**"
      ],
      "text/plain": [
       "<IPython.core.display.Markdown object>"
      ]
     },
     "metadata": {},
     "output_type": "display_data"
    },
    {
     "data": {
      "text/html": [
       "<div>\n",
       "<style>\n",
       "    .dataframe thead tr:only-child th {\n",
       "        text-align: right;\n",
       "    }\n",
       "\n",
       "    .dataframe thead th {\n",
       "        text-align: left;\n",
       "    }\n",
       "\n",
       "    .dataframe tbody tr th {\n",
       "        vertical-align: top;\n",
       "    }\n",
       "</style>\n",
       "<table border=\"1\" class=\"dataframe\">\n",
       "  <thead>\n",
       "    <tr style=\"text-align: right;\">\n",
       "      <th></th>\n",
       "      <th>bmi</th>\n",
       "      <th>body_weight</th>\n",
       "      <th>measurement_date</th>\n",
       "      <th>user_id</th>\n",
       "    </tr>\n",
       "  </thead>\n",
       "  <tbody>\n",
       "    <tr>\n",
       "      <th>57724</th>\n",
       "      <td>32.1298</td>\n",
       "      <td>101.7</td>\n",
       "      <td>2014-07-31 15:24:01</td>\n",
       "      <td>015c0b66-e460-42ae-bffe-5696e30a711d</td>\n",
       "    </tr>\n",
       "    <tr>\n",
       "      <th>57725</th>\n",
       "      <td>32.1298</td>\n",
       "      <td>101.8</td>\n",
       "      <td>2014-07-31 15:24:01</td>\n",
       "      <td>015c0b66-e460-42ae-bffe-5696e30a711d</td>\n",
       "    </tr>\n",
       "    <tr>\n",
       "      <th>140157</th>\n",
       "      <td>30.4938</td>\n",
       "      <td>98.7</td>\n",
       "      <td>2014-07-14 09:51:58</td>\n",
       "      <td>0379fb26-ca5d-47a6-a50c-538351acdcde</td>\n",
       "    </tr>\n",
       "    <tr>\n",
       "      <th>140158</th>\n",
       "      <td>30.4938</td>\n",
       "      <td>98.8</td>\n",
       "      <td>2014-07-14 09:51:58</td>\n",
       "      <td>0379fb26-ca5d-47a6-a50c-538351acdcde</td>\n",
       "    </tr>\n",
       "    <tr>\n",
       "      <th>140165</th>\n",
       "      <td>30.1852</td>\n",
       "      <td>97.7</td>\n",
       "      <td>2014-07-22 13:26:33</td>\n",
       "      <td>0379fb26-ca5d-47a6-a50c-538351acdcde</td>\n",
       "    </tr>\n",
       "  </tbody>\n",
       "</table>\n",
       "</div>"
      ],
      "text/plain": [
       "            bmi  body_weight     measurement_date  \\\n",
       "57724   32.1298        101.7  2014-07-31 15:24:01   \n",
       "57725   32.1298        101.8  2014-07-31 15:24:01   \n",
       "140157  30.4938         98.7  2014-07-14 09:51:58   \n",
       "140158  30.4938         98.8  2014-07-14 09:51:58   \n",
       "140165  30.1852         97.7  2014-07-22 13:26:33   \n",
       "\n",
       "                                     user_id  \n",
       "57724   015c0b66-e460-42ae-bffe-5696e30a711d  \n",
       "57725   015c0b66-e460-42ae-bffe-5696e30a711d  \n",
       "140157  0379fb26-ca5d-47a6-a50c-538351acdcde  \n",
       "140158  0379fb26-ca5d-47a6-a50c-538351acdcde  \n",
       "140165  0379fb26-ca5d-47a6-a50c-538351acdcde  "
      ]
     },
     "metadata": {},
     "output_type": "display_data"
    },
    {
     "data": {
      "text/markdown": [
       "**Sample non-noisy data**"
      ],
      "text/plain": [
       "<IPython.core.display.Markdown object>"
      ]
     },
     "metadata": {},
     "output_type": "display_data"
    },
    {
     "data": {
      "text/html": [
       "<div>\n",
       "<style>\n",
       "    .dataframe thead tr:only-child th {\n",
       "        text-align: right;\n",
       "    }\n",
       "\n",
       "    .dataframe thead th {\n",
       "        text-align: left;\n",
       "    }\n",
       "\n",
       "    .dataframe tbody tr th {\n",
       "        vertical-align: top;\n",
       "    }\n",
       "</style>\n",
       "<table border=\"1\" class=\"dataframe\">\n",
       "  <thead>\n",
       "    <tr style=\"text-align: right;\">\n",
       "      <th></th>\n",
       "      <th>bmi</th>\n",
       "      <th>body_weight</th>\n",
       "      <th>measurement_date</th>\n",
       "      <th>user_id</th>\n",
       "    </tr>\n",
       "  </thead>\n",
       "  <tbody>\n",
       "    <tr>\n",
       "      <th>21421</th>\n",
       "      <td>0.0000</td>\n",
       "      <td>82.5</td>\n",
       "      <td>2015-01-07 14:02:59</td>\n",
       "      <td>00923bef-eebf-4c11-8f5a-12bf1f248a35</td>\n",
       "    </tr>\n",
       "    <tr>\n",
       "      <th>21422</th>\n",
       "      <td>26.9388</td>\n",
       "      <td>82.5</td>\n",
       "      <td>2015-01-07 14:02:59</td>\n",
       "      <td>00923bef-eebf-4c11-8f5a-12bf1f248a35</td>\n",
       "    </tr>\n",
       "    <tr>\n",
       "      <th>21423</th>\n",
       "      <td>32.2266</td>\n",
       "      <td>82.5</td>\n",
       "      <td>2015-01-07 14:02:59</td>\n",
       "      <td>00923bef-eebf-4c11-8f5a-12bf1f248a35</td>\n",
       "    </tr>\n",
       "    <tr>\n",
       "      <th>30768</th>\n",
       "      <td>34.4877</td>\n",
       "      <td>120.6</td>\n",
       "      <td>2014-12-31 08:20:05</td>\n",
       "      <td>00bc8897-34c5-41bb-b9af-a068fbd40616</td>\n",
       "    </tr>\n",
       "    <tr>\n",
       "      <th>30769</th>\n",
       "      <td>34.8595</td>\n",
       "      <td>120.6</td>\n",
       "      <td>2014-12-31 08:20:05</td>\n",
       "      <td>00bc8897-34c5-41bb-b9af-a068fbd40616</td>\n",
       "    </tr>\n",
       "  </tbody>\n",
       "</table>\n",
       "</div>"
      ],
      "text/plain": [
       "           bmi  body_weight     measurement_date  \\\n",
       "21421   0.0000         82.5  2015-01-07 14:02:59   \n",
       "21422  26.9388         82.5  2015-01-07 14:02:59   \n",
       "21423  32.2266         82.5  2015-01-07 14:02:59   \n",
       "30768  34.4877        120.6  2014-12-31 08:20:05   \n",
       "30769  34.8595        120.6  2014-12-31 08:20:05   \n",
       "\n",
       "                                    user_id  \n",
       "21421  00923bef-eebf-4c11-8f5a-12bf1f248a35  \n",
       "21422  00923bef-eebf-4c11-8f5a-12bf1f248a35  \n",
       "21423  00923bef-eebf-4c11-8f5a-12bf1f248a35  \n",
       "30768  00bc8897-34c5-41bb-b9af-a068fbd40616  \n",
       "30769  00bc8897-34c5-41bb-b9af-a068fbd40616  "
      ]
     },
     "metadata": {},
     "output_type": "display_data"
    },
    {
     "data": {
      "text/markdown": [
       "**Remove noisy multiple measures**"
      ],
      "text/plain": [
       "<IPython.core.display.Markdown object>"
      ]
     },
     "metadata": {},
     "output_type": "display_data"
    },
    {
     "data": {
      "text/markdown": [
       "* Number of noisy measures removed: 1083"
      ],
      "text/plain": [
       "<IPython.core.display.Markdown object>"
      ]
     },
     "metadata": {},
     "output_type": "display_data"
    },
    {
     "data": {
      "text/markdown": [
       "* Number of remaining weight measures: 9471115"
      ],
      "text/plain": [
       "<IPython.core.display.Markdown object>"
      ]
     },
     "metadata": {},
     "output_type": "display_data"
    },
    {
     "data": {
      "text/markdown": [
       "**Visualize variation of multiple measures after noise filtering**"
      ],
      "text/plain": [
       "<IPython.core.display.Markdown object>"
      ]
     },
     "metadata": {},
     "output_type": "display_data"
    },
    {
     "data": {
      "image/png": "[encoded data removed]",
      "text/plain": [
       "<matplotlib.figure.Figure at 0x21d4ff6d8>"
      ]
     },
     "metadata": {},
     "output_type": "display_data"
    },
    {
     "data": {
      "text/markdown": [
       "**Maximum standard deviation admited in multiple measures:** 0.0"
      ],
      "text/plain": [
       "<IPython.core.display.Markdown object>"
      ]
     },
     "metadata": {},
     "output_type": "display_data"
    }
   ],
   "source": [
    "printmd('**Visualize variation of multiple measures**')\n",
    "box = plt.boxplot(list(measure_date_std), 0)\n",
    "plt.show()\n",
    "outliers = box[\"fliers\"][0].get_data()[1]\n",
    "\n",
    "printmd('**Sample noisy data**')\n",
    "di.display(weights_filter.loc[\n",
    "    measure_date_std[measure_date_std.isin(outliers)].index].head())\n",
    "\n",
    "printmd('**Sample non-noisy data**')\n",
    "di.display(weights_filter.loc[\n",
    "    measure_date_std[-measure_date_std.isin(outliers)].index].head())\n",
    "\n",
    "printmd('**Remove noisy multiple measures**')\n",
    "len_before = len(weights_filter)\n",
    "\n",
    "weights_filter = weights_filter.drop(\n",
    "    measure_date_std[measure_date_std.isin(outliers)].index)\n",
    "\n",
    "printmd('* Number of noisy measures removed: {}'.format(\n",
    "    len_before - len(weights_filter)))\n",
    "printmd('* Number of remaining weight measures: {}'.format(len(weights_filter)))\n",
    "\n",
    "printmd('**Visualize variation of multiple measures after noise filtering**')\n",
    "measure_date_std = weights_filter.groupby(\n",
    "        ['user_id', 'measurement_date'])['body_weight'].transform('std')\n",
    "measure_date_std = measure_date_std.dropna()\n",
    "box = plt.boxplot(list(measure_date_std), 0)\n",
    "plt.show()\n",
    "\n",
    "printmd('**Maximum standard deviation admited in multiple measures:** {}'.format(\n",
    "    max(list(measure_date_std))))\n"
   ]
  },
  {
   "cell_type": "code",
   "execution_count": 44,
   "metadata": {},
   "outputs": [
    {
     "data": {
      "text/markdown": [
       "* Number of remaining weight measures: 9471115"
      ],
      "text/plain": [
       "<IPython.core.display.Markdown object>"
      ]
     },
     "metadata": {},
     "output_type": "display_data"
    }
   ],
   "source": [
    "printmd('* Number of remaining weight measures: {}'.format(len(weights_filter)))"
   ]
  },
  {
   "cell_type": "code",
   "execution_count": 45,
   "metadata": {},
   "outputs": [
    {
     "data": {
      "text/markdown": [
       "***take the average of multiple measures***"
      ],
      "text/plain": [
       "<IPython.core.display.Markdown object>"
      ]
     },
     "metadata": {},
     "output_type": "display_data"
    },
    {
     "data": {
      "text/markdown": [
       "* Number of duplicated entries after averagind multiple measures: 175"
      ],
      "text/plain": [
       "<IPython.core.display.Markdown object>"
      ]
     },
     "metadata": {},
     "output_type": "display_data"
    }
   ],
   "source": [
    "printmd('***take the average of multiple measures***')\n",
    "weights_filter['body_weight'] = weights_filter.groupby(\n",
    "        ['user_id', 'measurement_date'])['body_weight'].transform('mean')\n",
    "printmd('* Number of duplicated entries after averagind multiple measures: {}'.format(\n",
    " weights_filter.duplicated().sum()))"
   ]
  },
  {
   "cell_type": "markdown",
   "metadata": {},
   "source": [
    "## Compute bmi"
   ]
  },
  {
   "cell_type": "code",
   "execution_count": 46,
   "metadata": {},
   "outputs": [
    {
     "data": {
      "text/markdown": [
       "**Remove weights entry if corresponding user data is not available**"
      ],
      "text/plain": [
       "<IPython.core.display.Markdown object>"
      ]
     },
     "metadata": {},
     "output_type": "display_data"
    },
    {
     "data": {
      "text/markdown": [
       "* Number of entries removed: 384502"
      ],
      "text/plain": [
       "<IPython.core.display.Markdown object>"
      ]
     },
     "metadata": {},
     "output_type": "display_data"
    },
    {
     "data": {
      "text/markdown": [
       "**Compute bmi**"
      ],
      "text/plain": [
       "<IPython.core.display.Markdown object>"
      ]
     },
     "metadata": {},
     "output_type": "display_data"
    },
    {
     "data": {
      "text/markdown": [
       "* Number of null bmi values: 0"
      ],
      "text/plain": [
       "<IPython.core.display.Markdown object>"
      ]
     },
     "metadata": {},
     "output_type": "display_data"
    },
    {
     "data": {
      "text/markdown": [
       "**Number of duplicated weight entries:** 59806"
      ],
      "text/plain": [
       "<IPython.core.display.Markdown object>"
      ]
     },
     "metadata": {},
     "output_type": "display_data"
    },
    {
     "data": {
      "text/markdown": [
       "**Remove duplicated entries**"
      ],
      "text/plain": [
       "<IPython.core.display.Markdown object>"
      ]
     },
     "metadata": {},
     "output_type": "display_data"
    },
    {
     "data": {
      "text/markdown": [
       "* Number of entries removed: 59806"
      ],
      "text/plain": [
       "<IPython.core.display.Markdown object>"
      ]
     },
     "metadata": {},
     "output_type": "display_data"
    },
    {
     "data": {
      "text/markdown": [
       "* Number of remaining entries: 9084564"
      ],
      "text/plain": [
       "<IPython.core.display.Markdown object>"
      ]
     },
     "metadata": {},
     "output_type": "display_data"
    }
   ],
   "source": [
    "# Recompute bmi (this will also fill nulls)\n",
    "\n",
    "# Keep only entries where user data is available\n",
    "printmd('**Remove weights entry if corresponding user data is not available**')\n",
    "len_before = len(weights_filter)\n",
    "weights_filter = weights_filter[\n",
    "    weights_filter.user_id.isin(users.user_id)]\n",
    "printmd('* Number of entries removed: {}'.format(len_before - len(weights_filter)))\n",
    "\n",
    "\n",
    "# Get height for users tables\n",
    "weights_filter = weights_filter.merge(users[['user_id', 'height']], on='user_id')\n",
    "\n",
    "# Compute bmi\n",
    "printmd('**Compute bmi**')\n",
    "weights_filter['bmi'] = weights_filter['body_weight']/pow(\n",
    "    (weights_filter['height']/100),2)\n",
    "\n",
    "# Check there are no null values for bmi\n",
    "printmd('* Number of null bmi values: {}'.format(\n",
    "    weights_filter['bmi'].isnull().values.sum()))\n",
    "        \n",
    "printmd('**Number of duplicated weight entries:** {}'.format(\n",
    "    weights_filter.duplicated().sum()))\n",
    "\n",
    "# Drop duplicates (introduced when taking mean value per user, timestamp)\n",
    "printmd('**Remove duplicated entries**')\n",
    "len_before = len(weights_filter)\n",
    "weights_filter = weights_filter.drop_duplicates()\n",
    "printmd('* Number of entries removed: {}'.format(len_before-len(weights_filter)))\n",
    "printmd('* Number of remaining entries: {}'.format(len(weights_filter)))"
   ]
  },
  {
   "cell_type": "markdown",
   "metadata": {},
   "source": [
    "## Histograms of processed data"
   ]
  },
  {
   "cell_type": "code",
   "execution_count": 47,
   "metadata": {},
   "outputs": [
    {
     "data": {
      "text/markdown": [
       "**Body weight**"
      ],
      "text/plain": [
       "<IPython.core.display.Markdown object>"
      ]
     },
     "metadata": {},
     "output_type": "display_data"
    },
    {
     "data": {
      "image/png": "[encoded data removed]",
      "text/plain": [
       "<matplotlib.figure.Figure at 0x1247a24e0>"
      ]
     },
     "metadata": {},
     "output_type": "display_data"
    }
   ],
   "source": [
    "# Weight Histogram\n",
    "printmd('**Body weight**')\n",
    "n, bins, patches = plt.hist(\n",
    "    list(weights_filter['body_weight'].values), bins = 10)\n",
    "plt.show()"
   ]
  },
  {
   "cell_type": "code",
   "execution_count": 48,
   "metadata": {},
   "outputs": [
    {
     "data": {
      "text/markdown": [
       "**Bmi**"
      ],
      "text/plain": [
       "<IPython.core.display.Markdown object>"
      ]
     },
     "metadata": {},
     "output_type": "display_data"
    },
    {
     "data": {
      "image/png": "[encoded data removed]",
      "text/plain": [
       "<matplotlib.figure.Figure at 0x21df94f28>"
      ]
     },
     "metadata": {},
     "output_type": "display_data"
    }
   ],
   "source": [
    "# Bmi Histogram\n",
    "printmd('**Bmi**')\n",
    "n, bins, patches = plt.hist(\n",
    "    list(weights_filter['bmi'].values), bins = 10)\n",
    "plt.show()"
   ]
  },
  {
   "cell_type": "code",
   "execution_count": 49,
   "metadata": {},
   "outputs": [
    {
     "data": {
      "text/markdown": [
       "**Number of weight entried per user**"
      ],
      "text/plain": [
       "<IPython.core.display.Markdown object>"
      ]
     },
     "metadata": {},
     "output_type": "display_data"
    },
    {
     "data": {
      "text/markdown": [
       "* _Max number of entries_: 3708"
      ],
      "text/plain": [
       "<IPython.core.display.Markdown object>"
      ]
     },
     "metadata": {},
     "output_type": "display_data"
    },
    {
     "data": {
      "text/markdown": [
       "* _Min number of entries_: 1"
      ],
      "text/plain": [
       "<IPython.core.display.Markdown object>"
      ]
     },
     "metadata": {},
     "output_type": "display_data"
    },
    {
     "data": {
      "text/markdown": [
       "* _Median number of entries_: 18.0"
      ],
      "text/plain": [
       "<IPython.core.display.Markdown object>"
      ]
     },
     "metadata": {},
     "output_type": "display_data"
    },
    {
     "data": {
      "text/markdown": [
       "* _Mean number of entries_: 54.60261095350291"
      ],
      "text/plain": [
       "<IPython.core.display.Markdown object>"
      ]
     },
     "metadata": {},
     "output_type": "display_data"
    },
    {
     "data": {
      "text/markdown": [
       "* _Standard deviation_: 119.55992509537995"
      ],
      "text/plain": [
       "<IPython.core.display.Markdown object>"
      ]
     },
     "metadata": {},
     "output_type": "display_data"
    },
    {
     "data": {
      "image/png": "[encoded data removed]",
      "text/plain": [
       "<matplotlib.figure.Figure at 0x21cd94f98>"
      ]
     },
     "metadata": {},
     "output_type": "display_data"
    }
   ],
   "source": [
    "# Number of weight entries per user\n",
    "printmd('**Number of weight entried per user**')\n",
    "user_weights = weights_filter.groupby('user_id').apply(lambda g: len(g))\n",
    "printmd('* _Max number of entries_: {}'.format(max(user_weights)))\n",
    "printmd('* _Min number of entries_: {}'.format(min(user_weights)))\n",
    "printmd('* _Median number of entries_: {}'.format(user_weights.median()))\n",
    "printmd('* _Mean number of entries_: {}'.format(user_weights.mean()))\n",
    "printmd('* _Standard deviation_: {}'.format(user_weights.std()))\n",
    "quant = user_weights.quantile(0.9)\n",
    "n, bins, patches = plt.hist(\n",
    "    user_weights, bins = 10, range=(0,quant))\n",
    "plt.show()\n"
   ]
  },
  {
   "cell_type": "code",
   "execution_count": 50,
   "metadata": {
    "collapsed": true
   },
   "outputs": [],
   "source": [
    "with open('../data/filtered/weights_filter.pickle', 'wb') as f:\n",
    "    pickle.dump(weights_filter, f)"
   ]
  },
  {
   "cell_type": "code",
   "execution_count": null,
   "metadata": {
    "collapsed": true
   },
   "outputs": [],
   "source": []
  }
 ],
 "metadata": {
  "kernelspec": {
   "display_name": "Python 3",
   "language": "python",
   "name": "python3"
  },
  "language_info": {
   "codemirror_mode": {
    "name": "ipython",
    "version": 3
   },
   "file_extension": ".py",
   "mimetype": "text/x-python",
   "name": "python",
   "nbconvert_exporter": "python",
   "pygments_lexer": "ipython3",
   "version": "3.6.1"
  }
 },
 "nbformat": 4,
 "nbformat_minor": 2
}
