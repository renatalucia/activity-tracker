{
 "cells": [
  {
   "cell_type": "code",
   "execution_count": 1,
   "metadata": {
    "collapsed": true
   },
   "outputs": [],
   "source": [
    "import pickle\n",
    "import pandas as pd\n",
    "import numpy as np\n",
    "import matplotlib.pyplot as plt"
   ]
  },
  {
   "cell_type": "code",
   "execution_count": 2,
   "metadata": {},
   "outputs": [
    {
     "data": {
      "text/html": [
       "<script>jQuery(function() {if (jQuery(\"body.notebook_app\").length == 0) { jQuery(\".input_area\").toggle(); jQuery(\".prompt\").toggle();}});</script>"
      ]
     },
     "metadata": {},
     "output_type": "display_data"
    },
    {
     "data": {
      "text/html": [
       "<button onclick=\"jQuery('.input_area').toggle(); jQuery('.prompt').toggle();\">Toggle code</button>"
      ]
     },
     "metadata": {},
     "output_type": "display_data"
    }
   ],
   "source": [
    "import IPython.core.display as di\n",
    "\n",
    "# This line will hide code by default when the notebook is exported as HTML\n",
    "di.display_html('<script>jQuery(function() {if (jQuery(\"body.notebook_app\").length == 0) { jQuery(\".input_area\").toggle(); jQuery(\".prompt\").toggle();}});</script>', raw=True)\n",
    "\n",
    "# This line will add a button to toggle visibility of code blocks, for use with the HTML export version\n",
    "di.display_html('''<button onclick=\"jQuery('.input_area').toggle(); jQuery('.prompt').toggle();\">Toggle code</button>''', raw=True)"
   ]
  },
  {
   "cell_type": "code",
   "execution_count": 3,
   "metadata": {
    "collapsed": true
   },
   "outputs": [],
   "source": [
    "from IPython.display import Markdown, display\n",
    "def printmd(string):\n",
    "    display(Markdown(string))"
   ]
  },
  {
   "cell_type": "code",
   "execution_count": 33,
   "metadata": {
    "collapsed": true
   },
   "outputs": [],
   "source": [
    "with open('../data/filtered/bmi_steps.pickle', 'rb') as f:\n",
    "    steps_bmi = pd.DataFrame(pickle.load(f))"
   ]
  },
  {
   "cell_type": "code",
   "execution_count": 34,
   "metadata": {},
   "outputs": [
    {
     "data": {
      "text/markdown": [
       "**Data Overview**"
      ],
      "text/plain": [
       "<IPython.core.display.Markdown object>"
      ]
     },
     "metadata": {},
     "output_type": "display_data"
    },
    {
     "data": {
      "text/html": [
       "<div>\n",
       "<style>\n",
       "    .dataframe thead tr:only-child th {\n",
       "        text-align: right;\n",
       "    }\n",
       "\n",
       "    .dataframe thead th {\n",
       "        text-align: left;\n",
       "    }\n",
       "\n",
       "    .dataframe tbody tr th {\n",
       "        vertical-align: top;\n",
       "    }\n",
       "</style>\n",
       "<table border=\"1\" class=\"dataframe\">\n",
       "  <thead>\n",
       "    <tr style=\"text-align: right;\">\n",
       "      <th></th>\n",
       "      <th>user_id</th>\n",
       "      <th>year</th>\n",
       "      <th>month</th>\n",
       "      <th>day</th>\n",
       "      <th>steps</th>\n",
       "      <th>bmi</th>\n",
       "    </tr>\n",
       "  </thead>\n",
       "  <tbody>\n",
       "    <tr>\n",
       "      <th>41</th>\n",
       "      <td>000d49c2-9b5d-4718-94bc-78b90ed48290</td>\n",
       "      <td>2016</td>\n",
       "      <td>10</td>\n",
       "      <td>28</td>\n",
       "      <td>1135</td>\n",
       "      <td>22.938962</td>\n",
       "    </tr>\n",
       "    <tr>\n",
       "      <th>42</th>\n",
       "      <td>000d49c2-9b5d-4718-94bc-78b90ed48290</td>\n",
       "      <td>2016</td>\n",
       "      <td>10</td>\n",
       "      <td>29</td>\n",
       "      <td>4029</td>\n",
       "      <td>22.938962</td>\n",
       "    </tr>\n",
       "    <tr>\n",
       "      <th>43</th>\n",
       "      <td>000d49c2-9b5d-4718-94bc-78b90ed48290</td>\n",
       "      <td>2016</td>\n",
       "      <td>10</td>\n",
       "      <td>30</td>\n",
       "      <td>14596</td>\n",
       "      <td>22.938962</td>\n",
       "    </tr>\n",
       "    <tr>\n",
       "      <th>44</th>\n",
       "      <td>000d49c2-9b5d-4718-94bc-78b90ed48290</td>\n",
       "      <td>2016</td>\n",
       "      <td>10</td>\n",
       "      <td>31</td>\n",
       "      <td>18017</td>\n",
       "      <td>22.938962</td>\n",
       "    </tr>\n",
       "    <tr>\n",
       "      <th>45</th>\n",
       "      <td>000d49c2-9b5d-4718-94bc-78b90ed48290</td>\n",
       "      <td>2016</td>\n",
       "      <td>11</td>\n",
       "      <td>1</td>\n",
       "      <td>11165</td>\n",
       "      <td>22.938962</td>\n",
       "    </tr>\n",
       "  </tbody>\n",
       "</table>\n",
       "</div>"
      ],
      "text/plain": [
       "                                 user_id  year  month  day  steps        bmi\n",
       "41  000d49c2-9b5d-4718-94bc-78b90ed48290  2016     10   28   1135  22.938962\n",
       "42  000d49c2-9b5d-4718-94bc-78b90ed48290  2016     10   29   4029  22.938962\n",
       "43  000d49c2-9b5d-4718-94bc-78b90ed48290  2016     10   30  14596  22.938962\n",
       "44  000d49c2-9b5d-4718-94bc-78b90ed48290  2016     10   31  18017  22.938962\n",
       "45  000d49c2-9b5d-4718-94bc-78b90ed48290  2016     11    1  11165  22.938962"
      ]
     },
     "execution_count": 34,
     "metadata": {},
     "output_type": "execute_result"
    }
   ],
   "source": [
    "printmd('**Data Overview**')\n",
    "steps_bmi.head()"
   ]
  },
  {
   "cell_type": "code",
   "execution_count": 35,
   "metadata": {},
   "outputs": [
    {
     "data": {
      "text/markdown": [
       "**Global bmi, steps correlation**"
      ],
      "text/plain": [
       "<IPython.core.display.Markdown object>"
      ]
     },
     "metadata": {},
     "output_type": "display_data"
    },
    {
     "data": {
      "text/html": [
       "<div>\n",
       "<style>\n",
       "    .dataframe thead tr:only-child th {\n",
       "        text-align: right;\n",
       "    }\n",
       "\n",
       "    .dataframe thead th {\n",
       "        text-align: left;\n",
       "    }\n",
       "\n",
       "    .dataframe tbody tr th {\n",
       "        vertical-align: top;\n",
       "    }\n",
       "</style>\n",
       "<table border=\"1\" class=\"dataframe\">\n",
       "  <thead>\n",
       "    <tr style=\"text-align: right;\">\n",
       "      <th></th>\n",
       "      <th>steps</th>\n",
       "      <th>bmi</th>\n",
       "    </tr>\n",
       "  </thead>\n",
       "  <tbody>\n",
       "    <tr>\n",
       "      <th>steps</th>\n",
       "      <td>1.000000</td>\n",
       "      <td>-0.150802</td>\n",
       "    </tr>\n",
       "    <tr>\n",
       "      <th>bmi</th>\n",
       "      <td>-0.150802</td>\n",
       "      <td>1.000000</td>\n",
       "    </tr>\n",
       "  </tbody>\n",
       "</table>\n",
       "</div>"
      ],
      "text/plain": [
       "          steps       bmi\n",
       "steps  1.000000 -0.150802\n",
       "bmi   -0.150802  1.000000"
      ]
     },
     "execution_count": 35,
     "metadata": {},
     "output_type": "execute_result"
    }
   ],
   "source": [
    "printmd('**Global bmi, steps correlation**')\n",
    "steps_bmi[['steps','bmi']].corr()"
   ]
  },
  {
   "cell_type": "code",
   "execution_count": 81,
   "metadata": {},
   "outputs": [],
   "source": [
    "# Individual bmi, steps correlation\n",
    "user_ids = steps_bmi.user_id.unique()\n",
    "steps_bmi_user_corr = []\n",
    "for user in user_ids:\n",
    "    steps_bmi_user = steps_bmi[steps_bmi.user_id==user]\n",
    "    corr = steps_bmi_user[['steps','bmi']].corr()['steps']['bmi']\n",
    "    steps_bmi_user_corr.append(corr)"
   ]
  },
  {
   "cell_type": "code",
   "execution_count": 93,
   "metadata": {},
   "outputs": [
    {
     "data": {
      "text/markdown": [
       "**Individual bmi, steps correlation**"
      ],
      "text/plain": [
       "<IPython.core.display.Markdown object>"
      ]
     },
     "metadata": {},
     "output_type": "display_data"
    },
    {
     "data": {
      "text/markdown": [
       "* _Best correlation:_ -1.0000000000000002"
      ],
      "text/plain": [
       "<IPython.core.display.Markdown object>"
      ]
     },
     "metadata": {},
     "output_type": "display_data"
    },
    {
     "data": {
      "text/markdown": [
       "* _Worse correlation:_ 1.0000000000000002"
      ],
      "text/plain": [
       "<IPython.core.display.Markdown object>"
      ]
     },
     "metadata": {},
     "output_type": "display_data"
    },
    {
     "data": {
      "text/markdown": [
       "* _Mean correlation:_ -0.05716623057492115"
      ],
      "text/plain": [
       "<IPython.core.display.Markdown object>"
      ]
     },
     "metadata": {},
     "output_type": "display_data"
    },
    {
     "data": {
      "text/markdown": [
       "* _Standard Deviation:_ 0.4631324396301748 "
      ],
      "text/plain": [
       "<IPython.core.display.Markdown object>"
      ]
     },
     "metadata": {},
     "output_type": "display_data"
    },
    {
     "data": {
      "image/png": "[encoded data removed]",
      "text/plain": [
       "<matplotlib.figure.Figure at 0x119a9a588>"
      ]
     },
     "metadata": {},
     "output_type": "display_data"
    }
   ],
   "source": [
    "printmd('**Individual bmi, steps correlation**')\n",
    "steps_bmi_user_corr = np.array(steps_bmi_user_corr)\n",
    "printmd('* _Best correlation:_ {}'.format(np.nanmin(steps_bmi_user_corr)))\n",
    "printmd('* _Worse correlation:_ {}'.format(np.nanmax(steps_bmi_user_corr)))\n",
    "printmd('* _Mean correlation:_ {}'.format(np.nanmean(steps_bmi_user_corr)))\n",
    "printmd('* _Standard Deviation:_ {} '.format(np.nanstd(steps_bmi_user_corr)))\n",
    "indexes = ~np.isnan(steps_bmi_user_corr)\n",
    "plt.clf()\n",
    "plt.boxplot(steps_bmi_user_corr[indexes], 0)\n",
    "plt.show()"
   ]
  },
  {
   "cell_type": "code",
   "execution_count": 99,
   "metadata": {},
   "outputs": [
    {
     "data": {
      "text/markdown": [
       "**Visualize user data with negative steps, bmi correlation**"
      ],
      "text/plain": [
       "<IPython.core.display.Markdown object>"
      ]
     },
     "metadata": {},
     "output_type": "display_data"
    },
    {
     "data": {
      "text/markdown": [
       "* Number of users with negative steps, bmi correlation (<=0.7): 199 (4.81%)"
      ],
      "text/plain": [
       "<IPython.core.display.Markdown object>"
      ]
     },
     "metadata": {},
     "output_type": "display_data"
    },
    {
     "data": {
      "image/png": "[encoded data removed]",
      "text/plain": [
       "<matplotlib.figure.Figure at 0x11aa54cf8>"
      ]
     },
     "metadata": {},
     "output_type": "display_data"
    },
    {
     "data": {
      "text/plain": [
       "<matplotlib.figure.Figure at 0x11ab15780>"
      ]
     },
     "execution_count": 99,
     "metadata": {},
     "output_type": "execute_result"
    }
   ],
   "source": [
    "printmd('**Visualize user data with negative steps, bmi correlation**')\n",
    "indexes = ~np.isnan(steps_bmi_user_corr)\n",
    "user_idx = np.where( steps_bmi_user_corr[indexes] <= -0.7) [0]\n",
    "len_users = len(steps_bmi_user_corr)\n",
    "printmd('* Number of users with negative steps, bmi correlation (<=0.7): {} ({}%)'.format(\n",
    "    len(user_idx), \"%.2f\" % ( (len(user_idx)/len_users)*100)))\n",
    "\n",
    "max_entries = 0\n",
    "user_id = -1\n",
    "for idx in user_idx:\n",
    "    user_id_tmp = user_ids[idx]\n",
    "    steps_bmi_user = steps_bmi[steps_bmi.user_id==user_id_tmp]\n",
    "    if len(steps_bmi_user) > max_entries:\n",
    "        max_entries = len(steps_bmi_user)\n",
    "        user_id = user_id_tmp\n",
    "\n",
    "steps_bmi_user = steps_bmi[steps_bmi.user_id==user_id]\n",
    "plt.scatter(steps_bmi_user['steps'], steps_bmi_user['bmi'], \n",
    "marker='.', facecolors='none', edgecolors='r')\n",
    "plt.show()\n",
    "plt.figure(figsize=(5, 4), dpi=100)"
   ]
  },
  {
   "cell_type": "code",
   "execution_count": 100,
   "metadata": {},
   "outputs": [
    {
     "data": {
      "text/markdown": [
       "**Visualize user data with positive steps, bmi correlation**"
      ],
      "text/plain": [
       "<IPython.core.display.Markdown object>"
      ]
     },
     "metadata": {},
     "output_type": "display_data"
    },
    {
     "data": {
      "text/markdown": [
       "* Number of users with positive steps, bmi correlation (>=0.7): 146 (3.53%)"
      ],
      "text/plain": [
       "<IPython.core.display.Markdown object>"
      ]
     },
     "metadata": {},
     "output_type": "display_data"
    },
    {
     "data": {
      "image/png": "[encoded data removed]",
      "text/plain": [
       "<matplotlib.figure.Figure at 0x11ab15780>"
      ]
     },
     "metadata": {},
     "output_type": "display_data"
    },
    {
     "data": {
      "text/plain": [
       "<matplotlib.figure.Figure at 0x11afd3ac8>"
      ]
     },
     "execution_count": 100,
     "metadata": {},
     "output_type": "execute_result"
    }
   ],
   "source": [
    "printmd('**Visualize user data with positive steps, bmi correlation**')\n",
    "user_idx = np.where( steps_bmi_user_corr[indexes] >= 0.7) [0]\n",
    "printmd('* Number of users with positive steps, bmi correlation (>=0.7): {} ({}%)'.format(\n",
    "    len(user_idx), \"%.2f\" % ( (len(user_idx)/len_users)*100)))\n",
    "\n",
    "max_entries = 0\n",
    "user_id = -1\n",
    "for idx in user_idx:\n",
    "    user_id_tmp = user_ids[idx]\n",
    "    steps_bmi_user = steps_bmi[steps_bmi.user_id==user_id_tmp]\n",
    "    if len(steps_bmi_user) > max_entries:\n",
    "        max_entries = len(steps_bmi_user)\n",
    "        user_id = user_id_tmp\n",
    "\n",
    "steps_bmi_user = steps_bmi[steps_bmi.user_id==user_id]\n",
    "plt.scatter(steps_bmi_user['steps'], steps_bmi_user['bmi'], \n",
    "marker='.', facecolors='none', edgecolors='r')\n",
    "plt.show()\n",
    "plt.figure(figsize=(5, 4), dpi=100)"
   ]
  },
  {
   "cell_type": "code",
   "execution_count": null,
   "metadata": {
    "collapsed": true
   },
   "outputs": [],
   "source": []
  }
 ],
 "metadata": {
  "kernelspec": {
   "display_name": "Python 3",
   "language": "python",
   "name": "python3"
  },
  "language_info": {
   "codemirror_mode": {
    "name": "ipython",
    "version": 3
   },
   "file_extension": ".py",
   "mimetype": "text/x-python",
   "name": "python",
   "nbconvert_exporter": "python",
   "pygments_lexer": "ipython3",
   "version": "3.6.1"
  }
 },
 "nbformat": 4,
 "nbformat_minor": 2
}
