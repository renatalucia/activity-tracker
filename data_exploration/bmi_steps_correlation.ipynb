{
 "cells": [
  {
   "cell_type": "code",
   "execution_count": 446,
   "metadata": {
    "collapsed": true
   },
   "outputs": [],
   "source": [
    "import pickle\n",
    "import pandas as pd\n",
    "import numpy as np\n",
    "import matplotlib.pyplot as plt\n",
    "import seaborn as sns\n",
    "import statsmodels.formula.api as smf"
   ]
  },
  {
   "cell_type": "code",
   "execution_count": 447,
   "metadata": {},
   "outputs": [
    {
     "data": {
      "text/html": [
       "<script>jQuery(function() {if (jQuery(\"body.notebook_app\").length == 0) { jQuery(\".input_area\").toggle(); jQuery(\".prompt\").toggle();}});</script>"
      ]
     },
     "metadata": {},
     "output_type": "display_data"
    },
    {
     "data": {
      "text/html": [
       "<button onclick=\"jQuery('.input_area').toggle(); jQuery('.prompt').toggle();\">Toggle code</button>"
      ]
     },
     "metadata": {},
     "output_type": "display_data"
    }
   ],
   "source": [
    "import IPython.core.display as di\n",
    "\n",
    "# This line will hide code by default when the notebook is exported as HTML\n",
    "di.display_html('<script>jQuery(function() {if (jQuery(\"body.notebook_app\").length == 0) { jQuery(\".input_area\").toggle(); jQuery(\".prompt\").toggle();}});</script>', raw=True)\n",
    "\n",
    "# This line will add a button to toggle visibility of code blocks, for use with the HTML export version\n",
    "di.display_html('''<button onclick=\"jQuery('.input_area').toggle(); jQuery('.prompt').toggle();\">Toggle code</button>''', raw=True)"
   ]
  },
  {
   "cell_type": "code",
   "execution_count": 448,
   "metadata": {
    "collapsed": true
   },
   "outputs": [],
   "source": [
    "from IPython.display import Markdown, display\n",
    "def printmd(string):\n",
    "    display(Markdown(string))"
   ]
  },
  {
   "cell_type": "code",
   "execution_count": 449,
   "metadata": {
    "collapsed": true
   },
   "outputs": [],
   "source": [
    "with open('../data/filtered/bmi_steps.pickle', 'rb') as f:\n",
    "    steps_bmi = pd.DataFrame(pickle.load(f))"
   ]
  },
  {
   "cell_type": "code",
   "execution_count": 450,
   "metadata": {},
   "outputs": [
    {
     "data": {
      "text/markdown": [
       "**Data Overview**"
      ],
      "text/plain": [
       "<IPython.core.display.Markdown object>"
      ]
     },
     "metadata": {},
     "output_type": "display_data"
    },
    {
     "data": {
      "text/html": [
       "<div>\n",
       "<style>\n",
       "    .dataframe thead tr:only-child th {\n",
       "        text-align: right;\n",
       "    }\n",
       "\n",
       "    .dataframe thead th {\n",
       "        text-align: left;\n",
       "    }\n",
       "\n",
       "    .dataframe tbody tr th {\n",
       "        vertical-align: top;\n",
       "    }\n",
       "</style>\n",
       "<table border=\"1\" class=\"dataframe\">\n",
       "  <thead>\n",
       "    <tr style=\"text-align: right;\">\n",
       "      <th></th>\n",
       "      <th>user_id</th>\n",
       "      <th>year</th>\n",
       "      <th>month</th>\n",
       "      <th>day</th>\n",
       "      <th>steps</th>\n",
       "      <th>bmi</th>\n",
       "    </tr>\n",
       "  </thead>\n",
       "  <tbody>\n",
       "    <tr>\n",
       "      <th>241</th>\n",
       "      <td>0009ccb4-7436-4ccd-b8e1-30fdbcee5a52</td>\n",
       "      <td>2015</td>\n",
       "      <td>3</td>\n",
       "      <td>9</td>\n",
       "      <td>10008</td>\n",
       "      <td>32.109325</td>\n",
       "    </tr>\n",
       "    <tr>\n",
       "      <th>242</th>\n",
       "      <td>0009ccb4-7436-4ccd-b8e1-30fdbcee5a52</td>\n",
       "      <td>2015</td>\n",
       "      <td>4</td>\n",
       "      <td>13</td>\n",
       "      <td>10270</td>\n",
       "      <td>32.109325</td>\n",
       "    </tr>\n",
       "    <tr>\n",
       "      <th>243</th>\n",
       "      <td>0009ccb4-7436-4ccd-b8e1-30fdbcee5a52</td>\n",
       "      <td>2015</td>\n",
       "      <td>4</td>\n",
       "      <td>14</td>\n",
       "      <td>7285</td>\n",
       "      <td>31.942263</td>\n",
       "    </tr>\n",
       "    <tr>\n",
       "      <th>244</th>\n",
       "      <td>0009ccb4-7436-4ccd-b8e1-30fdbcee5a52</td>\n",
       "      <td>2015</td>\n",
       "      <td>4</td>\n",
       "      <td>15</td>\n",
       "      <td>21367</td>\n",
       "      <td>32.109325</td>\n",
       "    </tr>\n",
       "    <tr>\n",
       "      <th>245</th>\n",
       "      <td>0009ccb4-7436-4ccd-b8e1-30fdbcee5a52</td>\n",
       "      <td>2015</td>\n",
       "      <td>4</td>\n",
       "      <td>16</td>\n",
       "      <td>6943</td>\n",
       "      <td>31.975676</td>\n",
       "    </tr>\n",
       "  </tbody>\n",
       "</table>\n",
       "</div>"
      ],
      "text/plain": [
       "                                  user_id  year  month  day  steps        bmi\n",
       "241  0009ccb4-7436-4ccd-b8e1-30fdbcee5a52  2015      3    9  10008  32.109325\n",
       "242  0009ccb4-7436-4ccd-b8e1-30fdbcee5a52  2015      4   13  10270  32.109325\n",
       "243  0009ccb4-7436-4ccd-b8e1-30fdbcee5a52  2015      4   14   7285  31.942263\n",
       "244  0009ccb4-7436-4ccd-b8e1-30fdbcee5a52  2015      4   15  21367  32.109325\n",
       "245  0009ccb4-7436-4ccd-b8e1-30fdbcee5a52  2015      4   16   6943  31.975676"
      ]
     },
     "execution_count": 450,
     "metadata": {},
     "output_type": "execute_result"
    }
   ],
   "source": [
    "printmd('**Data Overview**')\n",
    "steps_bmi.head()"
   ]
  },
  {
   "cell_type": "code",
   "execution_count": 451,
   "metadata": {
    "collapsed": true
   },
   "outputs": [],
   "source": [
    "min_entries = 60 # minimum number of bmi/steps required to compute correlations."
   ]
  },
  {
   "cell_type": "markdown",
   "metadata": {},
   "source": [
    "# Pearson Correlation"
   ]
  },
  {
   "cell_type": "code",
   "execution_count": 452,
   "metadata": {},
   "outputs": [
    {
     "data": {
      "text/markdown": [
       "**Global bmi, steps correlation**"
      ],
      "text/plain": [
       "<IPython.core.display.Markdown object>"
      ]
     },
     "metadata": {},
     "output_type": "display_data"
    },
    {
     "data": {
      "text/html": [
       "<div>\n",
       "<style>\n",
       "    .dataframe thead tr:only-child th {\n",
       "        text-align: right;\n",
       "    }\n",
       "\n",
       "    .dataframe thead th {\n",
       "        text-align: left;\n",
       "    }\n",
       "\n",
       "    .dataframe tbody tr th {\n",
       "        vertical-align: top;\n",
       "    }\n",
       "</style>\n",
       "<table border=\"1\" class=\"dataframe\">\n",
       "  <thead>\n",
       "    <tr style=\"text-align: right;\">\n",
       "      <th></th>\n",
       "      <th>steps</th>\n",
       "      <th>bmi</th>\n",
       "    </tr>\n",
       "  </thead>\n",
       "  <tbody>\n",
       "    <tr>\n",
       "      <th>steps</th>\n",
       "      <td>1.000000</td>\n",
       "      <td>-0.106789</td>\n",
       "    </tr>\n",
       "    <tr>\n",
       "      <th>bmi</th>\n",
       "      <td>-0.106789</td>\n",
       "      <td>1.000000</td>\n",
       "    </tr>\n",
       "  </tbody>\n",
       "</table>\n",
       "</div>"
      ],
      "text/plain": [
       "          steps       bmi\n",
       "steps  1.000000 -0.106789\n",
       "bmi   -0.106789  1.000000"
      ]
     },
     "execution_count": 452,
     "metadata": {},
     "output_type": "execute_result"
    }
   ],
   "source": [
    "printmd('**Global bmi, steps correlation**')\n",
    "steps_bmi[['steps','bmi']].corr()"
   ]
  },
  {
   "cell_type": "markdown",
   "metadata": {},
   "source": [
    "# Regression Analysis"
   ]
  },
  {
   "cell_type": "code",
   "execution_count": 567,
   "metadata": {
    "collapsed": true
   },
   "outputs": [],
   "source": [
    "def regression_analysis(steps_bmi_user, print_description = False):\n",
    "    # create a fitted model\n",
    "    lm1 = smf.ols(formula='bmi ~ steps', data=steps_bmi_user[['bmi', 'steps']]).fit()\n",
    "    # print the coefficients\n",
    "    if print_description:\n",
    "        printmd('** The regression model is defined as: **bmi = _a_ + _b_ steps')\n",
    "    \n",
    "    printmd('** Linear regression coefficients: **') \n",
    "    printmd('* _a_ = {}'.format(lm1.params['Intercept']))\n",
    "    printmd('* _b_ = {}'.format(lm1.params['steps']))\n",
    "    \n",
    "    printmd('** Linear regression predictions: **')\n",
    "    X_new = pd.DataFrame({'steps': [2000]})\n",
    "    printmd('* Steps: 2000, Bmi_pred: {}'.format(lm1.predict(X_new)[0]))\n",
    "    X_new = pd.DataFrame({'steps': [5000]})\n",
    "    printmd('* Steps: 5000, Bmi_pred: {}'.format(lm1.predict(X_new)[0]))\n",
    "    X_new = pd.DataFrame({'steps': [10000]})\n",
    "    printmd('* Steps: 10000, Bmi_pred: {}'.format(lm1.predict(X_new)[0]))\n",
    "    \n",
    "    printmd('**Plot the Least Squares Line**')\n",
    "    sns.pairplot(steps_bmi_user[['steps', 'bmi']], x_vars='steps', y_vars='bmi', size=5, aspect=1.5, kind='reg')\n",
    "    plt.show()\n",
    "    \n",
    "    printmd('** 95% confidence intervals for the model coefficients **')\n",
    "    print(lm1.conf_int())\n",
    "    \n",
    "    if print_description:\n",
    "        printmd('** Confidence interval interpretation: **If the population from which this sample was drawn \\\n",
    "        was sampled 100 times, approximately 95 of those confidence intervals would contain the \\\"true\\\" coefficient.')\n",
    "    \n",
    "    if print_description:\n",
    "        printmd('### Hypothesis Test')\n",
    "        printmd('** Conventional hypothesis **')\n",
    "        printmd('* Null Hypothesis: There is no relationship bewteen bmi and steps (_b_ = 0)')\n",
    "        printmd('* Alternative Hypothesis: There is a relationship bewteen bmi and steps (_b_ != 0)')\n",
    "        printmd('** Testing hypotesis **')\n",
    "        printmd('The null hypotesis is rejected if:')\n",
    "        printmd('* the 95% confidence interval does not include zero')\n",
    "        printmd('The null hypotesis is not rejected if:')\n",
    "        printmd('* the 95% confidence interval includes zero')\n",
    "        printmd('** Interpretation **')\n",
    "        printmd('* Rejecting the null hypotesis means that there is a relationship bewteen bmi and steps')\n",
    "        printmd('** pvalue **')\n",
    "        printmd('* Represents the probability that the coefficient is actually zero')\n",
    "        printmd('* If the 95% confidence interval does not include zero, p-value will be less than 0.05')\n",
    "    \n",
    "    printmd('** Compute pvalues **')\n",
    "    pv = lm1.pvalues\n",
    "    printmd('* _a_: {}'.format(pv['Intercept']))\n",
    "    printmd('* _b_: {}'.format(pv['steps']))\n",
    "    printmd('** Conclusion **')\n",
    "    if pv['steps'] <= 0.05:\n",
    "        printmd('pvalue for _b_ is less or equal to 0.05, which means the probability that the \\\n",
    "        coefficient is actually zero is low, and consequently the null hypothesis is rejected, \\\n",
    "        indicating a relationship bewteen bmi and steps.')\n",
    "    else:\n",
    "        printmd('pvalue for _b_ is greater than 0.05, and consequently the null hypothesis is not rejected, \\\n",
    "        indicating that there is no relationship bewteen bmi and steps.')"
   ]
  },
  {
   "cell_type": "code",
   "execution_count": 568,
   "metadata": {},
   "outputs": [
    {
     "data": {
      "text/markdown": [
       "** The regression model is defined as: **bmi = _a_ + _b_ steps"
      ],
      "text/plain": [
       "<IPython.core.display.Markdown object>"
      ]
     },
     "metadata": {},
     "output_type": "display_data"
    },
    {
     "data": {
      "text/markdown": [
       "** Linear regression coefficients: **"
      ],
      "text/plain": [
       "<IPython.core.display.Markdown object>"
      ]
     },
     "metadata": {},
     "output_type": "display_data"
    },
    {
     "data": {
      "text/markdown": [
       "* _a_ = 28.519636774578796"
      ],
      "text/plain": [
       "<IPython.core.display.Markdown object>"
      ]
     },
     "metadata": {},
     "output_type": "display_data"
    },
    {
     "data": {
      "text/markdown": [
       "* _b_ = -8.306141309042409e-05"
      ],
      "text/plain": [
       "<IPython.core.display.Markdown object>"
      ]
     },
     "metadata": {},
     "output_type": "display_data"
    },
    {
     "data": {
      "text/markdown": [
       "** Linear regression predictions: **"
      ],
      "text/plain": [
       "<IPython.core.display.Markdown object>"
      ]
     },
     "metadata": {},
     "output_type": "display_data"
    },
    {
     "data": {
      "text/markdown": [
       "* Steps: 2000, Bmi_pred: 28.353513948397946"
      ],
      "text/plain": [
       "<IPython.core.display.Markdown object>"
      ]
     },
     "metadata": {},
     "output_type": "display_data"
    },
    {
     "data": {
      "text/markdown": [
       "* Steps: 5000, Bmi_pred: 28.104329709126677"
      ],
      "text/plain": [
       "<IPython.core.display.Markdown object>"
      ]
     },
     "metadata": {},
     "output_type": "display_data"
    },
    {
     "data": {
      "text/markdown": [
       "* Steps: 10000, Bmi_pred: 27.689022643674555"
      ],
      "text/plain": [
       "<IPython.core.display.Markdown object>"
      ]
     },
     "metadata": {},
     "output_type": "display_data"
    },
    {
     "data": {
      "text/markdown": [
       "**Plot the Least Squares Line**"
      ],
      "text/plain": [
       "<IPython.core.display.Markdown object>"
      ]
     },
     "metadata": {},
     "output_type": "display_data"
    },
    {
     "data": {
      "image/png": "[encoded data removed]",
      "text/plain": [
       "<matplotlib.figure.Figure at 0x13d981518>"
      ]
     },
     "metadata": {},
     "output_type": "display_data"
    },
    {
     "data": {
      "text/markdown": [
       "** 95% confidence intervals for the model coefficients **"
      ],
      "text/plain": [
       "<IPython.core.display.Markdown object>"
      ]
     },
     "metadata": {},
     "output_type": "display_data"
    },
    {
     "name": "stdout",
     "output_type": "stream",
     "text": [
      "                   0          1\n",
      "Intercept  28.505117  28.534157\n",
      "steps      -0.000085  -0.000082\n"
     ]
    },
    {
     "data": {
      "text/markdown": [
       "** Confidence interval interpretation: **If the population from which this sample was drawn         was sampled 100 times, approximately 95 of those confidence intervals would contain the \"true\" coefficient."
      ],
      "text/plain": [
       "<IPython.core.display.Markdown object>"
      ]
     },
     "metadata": {},
     "output_type": "display_data"
    },
    {
     "data": {
      "text/markdown": [
       "### Hypothesis Test"
      ],
      "text/plain": [
       "<IPython.core.display.Markdown object>"
      ]
     },
     "metadata": {},
     "output_type": "display_data"
    },
    {
     "data": {
      "text/markdown": [
       "** Conventional hypothesis **"
      ],
      "text/plain": [
       "<IPython.core.display.Markdown object>"
      ]
     },
     "metadata": {},
     "output_type": "display_data"
    },
    {
     "data": {
      "text/markdown": [
       "* Null Hypothesis: There is no relationship bewteen bmi and steps (_b_ = 0)"
      ],
      "text/plain": [
       "<IPython.core.display.Markdown object>"
      ]
     },
     "metadata": {},
     "output_type": "display_data"
    },
    {
     "data": {
      "text/markdown": [
       "* Alternative Hypothesis: There is a relationship bewteen bmi and steps (_b_ != 0)"
      ],
      "text/plain": [
       "<IPython.core.display.Markdown object>"
      ]
     },
     "metadata": {},
     "output_type": "display_data"
    },
    {
     "data": {
      "text/markdown": [
       "** Testing hypotesis **"
      ],
      "text/plain": [
       "<IPython.core.display.Markdown object>"
      ]
     },
     "metadata": {},
     "output_type": "display_data"
    },
    {
     "data": {
      "text/markdown": [
       "The null hypotesis is rejected if:"
      ],
      "text/plain": [
       "<IPython.core.display.Markdown object>"
      ]
     },
     "metadata": {},
     "output_type": "display_data"
    },
    {
     "data": {
      "text/markdown": [
       "* the 95% confidence interval does not include zero"
      ],
      "text/plain": [
       "<IPython.core.display.Markdown object>"
      ]
     },
     "metadata": {},
     "output_type": "display_data"
    },
    {
     "data": {
      "text/markdown": [
       "The null hypotesis is not rejected if:"
      ],
      "text/plain": [
       "<IPython.core.display.Markdown object>"
      ]
     },
     "metadata": {},
     "output_type": "display_data"
    },
    {
     "data": {
      "text/markdown": [
       "* the 95% confidence interval includes zero"
      ],
      "text/plain": [
       "<IPython.core.display.Markdown object>"
      ]
     },
     "metadata": {},
     "output_type": "display_data"
    },
    {
     "data": {
      "text/markdown": [
       "** Interpretation **"
      ],
      "text/plain": [
       "<IPython.core.display.Markdown object>"
      ]
     },
     "metadata": {},
     "output_type": "display_data"
    },
    {
     "data": {
      "text/markdown": [
       "* Rejecting the null hypotesis means that there is a relationship bewteen bmi and steps"
      ],
      "text/plain": [
       "<IPython.core.display.Markdown object>"
      ]
     },
     "metadata": {},
     "output_type": "display_data"
    },
    {
     "data": {
      "text/markdown": [
       "** pvalue **"
      ],
      "text/plain": [
       "<IPython.core.display.Markdown object>"
      ]
     },
     "metadata": {},
     "output_type": "display_data"
    },
    {
     "data": {
      "text/markdown": [
       "* Represents the probability that the coefficient is actually zero"
      ],
      "text/plain": [
       "<IPython.core.display.Markdown object>"
      ]
     },
     "metadata": {},
     "output_type": "display_data"
    },
    {
     "data": {
      "text/markdown": [
       "* If the 95% confidence interval does not include zero, p-value will be less than 0.05"
      ],
      "text/plain": [
       "<IPython.core.display.Markdown object>"
      ]
     },
     "metadata": {},
     "output_type": "display_data"
    },
    {
     "data": {
      "text/markdown": [
       "** Compute pvalues **"
      ],
      "text/plain": [
       "<IPython.core.display.Markdown object>"
      ]
     },
     "metadata": {},
     "output_type": "display_data"
    },
    {
     "data": {
      "text/markdown": [
       "* _a_: 0.0"
      ],
      "text/plain": [
       "<IPython.core.display.Markdown object>"
      ]
     },
     "metadata": {},
     "output_type": "display_data"
    },
    {
     "data": {
      "text/markdown": [
       "* _b_: 0.0"
      ],
      "text/plain": [
       "<IPython.core.display.Markdown object>"
      ]
     },
     "metadata": {},
     "output_type": "display_data"
    },
    {
     "data": {
      "text/markdown": [
       "** Conclusion **"
      ],
      "text/plain": [
       "<IPython.core.display.Markdown object>"
      ]
     },
     "metadata": {},
     "output_type": "display_data"
    },
    {
     "data": {
      "text/markdown": [
       "pvalue for _b_ is less or equal to 0.05, which means the probability that the         coefficient is actually zero is low, and consequently the null hypothesis is rejected,         indicating a relationship bewteen bmi and steps."
      ],
      "text/plain": [
       "<IPython.core.display.Markdown object>"
      ]
     },
     "metadata": {},
     "output_type": "display_data"
    }
   ],
   "source": [
    "regression_analysis(steps_bmi, True)"
   ]
  },
  {
   "cell_type": "code",
   "execution_count": 453,
   "metadata": {},
   "outputs": [],
   "source": [
    "# Individual bmi, steps correlation\n",
    "user_ids = steps_bmi.user_id.unique()\n",
    "steps_bmi_user_corr = {}\n",
    "i = 0\n",
    "for user in user_ids:\n",
    "    #i = i+1\n",
    "    #if i%1000 == 0:\n",
    "    #    print(i)\n",
    "    steps_bmi_user = steps_bmi[steps_bmi.user_id==user]\n",
    "    if(len(steps_bmi_user) < min_entries):\n",
    "        continue\n",
    "    corr = steps_bmi_user[['steps','bmi']].corr()['steps']['bmi']\n",
    "    steps_bmi_user_corr[user] = corr"
   ]
  },
  {
   "cell_type": "code",
   "execution_count": 496,
   "metadata": {},
   "outputs": [
    {
     "data": {
      "text/markdown": [
       "# Individual bmi, steps correlation"
      ],
      "text/plain": [
       "<IPython.core.display.Markdown object>"
      ]
     },
     "metadata": {},
     "output_type": "display_data"
    },
    {
     "data": {
      "text/markdown": [
       "* _Best correlation:_ -0.7388699729214743"
      ],
      "text/plain": [
       "<IPython.core.display.Markdown object>"
      ]
     },
     "metadata": {},
     "output_type": "display_data"
    },
    {
     "data": {
      "text/markdown": [
       "* _Worse correlation:_ 0.7989711031674039"
      ],
      "text/plain": [
       "<IPython.core.display.Markdown object>"
      ]
     },
     "metadata": {},
     "output_type": "display_data"
    },
    {
     "data": {
      "text/markdown": [
       "* _Median correlation:_ -0.0026589877982293236"
      ],
      "text/plain": [
       "<IPython.core.display.Markdown object>"
      ]
     },
     "metadata": {},
     "output_type": "display_data"
    },
    {
     "data": {
      "text/markdown": [
       "* _Mean correlation:_ -0.017419850481748187"
      ],
      "text/plain": [
       "<IPython.core.display.Markdown object>"
      ]
     },
     "metadata": {},
     "output_type": "display_data"
    },
    {
     "data": {
      "text/markdown": [
       "* _Standard Deviation:_ 0.17629748472718454 "
      ],
      "text/plain": [
       "<IPython.core.display.Markdown object>"
      ]
     },
     "metadata": {},
     "output_type": "display_data"
    },
    {
     "data": {
      "image/png": "[encoded data removed]",
      "text/plain": [
       "<matplotlib.figure.Figure at 0x12bee1f28>"
      ]
     },
     "metadata": {},
     "output_type": "display_data"
    }
   ],
   "source": [
    "printmd('# Individual bmi, steps correlation')\n",
    "steps_bmi_user_corr_values = np.array([v for k,v in steps_bmi_user_corr.items()])\n",
    "printmd('* _Best correlation:_ {}'.format(np.nanmin(steps_bmi_user_corr_values)))\n",
    "printmd('* _Worse correlation:_ {}'.format(np.nanmax(steps_bmi_user_corr_values)))\n",
    "printmd('* _Median correlation:_ {}'.format(np.nanmedian(steps_bmi_user_corr_values)))\n",
    "printmd('* _Mean correlation:_ {}'.format(np.nanmean(steps_bmi_user_corr_values)))\n",
    "printmd('* _Standard Deviation:_ {} '.format(np.nanstd(steps_bmi_user_corr_values)))\n",
    "indexes = ~np.isnan(steps_bmi_user_corr_values)\n",
    "plt.clf()\n",
    "box = plt.boxplot(steps_bmi_user_corr_values[indexes], sym='k.')\n",
    "plt.show()"
   ]
  },
  {
   "cell_type": "code",
   "execution_count": 506,
   "metadata": {},
   "outputs": [
    {
     "data": {
      "text/markdown": [
       "* 25% of the users has correlation smaller or equals to -0.1188595903228214"
      ],
      "text/plain": [
       "<IPython.core.display.Markdown object>"
      ]
     },
     "metadata": {},
     "output_type": "display_data"
    },
    {
     "data": {
      "text/markdown": [
       "* The highest negative correlation excluding outliers is -0.4160440671978539"
      ],
      "text/plain": [
       "<IPython.core.display.Markdown object>"
      ]
     },
     "metadata": {},
     "output_type": "display_data"
    },
    {
     "data": {
      "text/markdown": [
       "* 25% of the users has correlation greater or equals to 0.08088151340560322"
      ],
      "text/plain": [
       "<IPython.core.display.Markdown object>"
      ]
     },
     "metadata": {},
     "output_type": "display_data"
    },
    {
     "data": {
      "text/markdown": [
       "* The highest positive correlation excluding outliers is 0.37774178369385725"
      ],
      "text/plain": [
       "<IPython.core.display.Markdown object>"
      ]
     },
     "metadata": {},
     "output_type": "display_data"
    }
   ],
   "source": [
    "whiskers = [item.get_ydata() for item in box['whiskers']]\n",
    "printmd('* 25% of the users has correlation smaller or equals to {}'.format(whiskers[0][0]))\n",
    "printmd('* The highest negative correlation excluding outliers is {}'.format(whiskers[0][1]))\n",
    "printmd('* 25% of the users has correlation greater or equals to {}'.format(whiskers[1][0]))\n",
    "printmd('* The highest positive correlation excluding outliers is {}'.format(whiskers[1][1]))"
   ]
  },
  {
   "cell_type": "code",
   "execution_count": 456,
   "metadata": {},
   "outputs": [
    {
     "data": {
      "text/markdown": [
       "**Number of users with a strong (<=-0.7) negative correlation between steps and bmi: **3 (0.08%)"
      ],
      "text/plain": [
       "<IPython.core.display.Markdown object>"
      ]
     },
     "metadata": {},
     "output_type": "display_data"
    }
   ],
   "source": [
    "indexes = ~np.isnan(steps_bmi_user_corr_values)\n",
    "user_idx = np.where( steps_bmi_user_corr_values[indexes] <= -0.7) [0]\n",
    "len_users = len(steps_bmi_user_corr_values)\n",
    "printmd('**Number of users with a strong (<=-0.7) negative correlation between steps and bmi: **{} ({}%)'.format(\n",
    "    len(user_idx), \"%.2f\" % ( (len(user_idx)/len_users)*100)))\n"
   ]
  },
  {
   "cell_type": "code",
   "execution_count": 457,
   "metadata": {},
   "outputs": [
    {
     "data": {
      "text/markdown": [
       "**Number of users with a strong (<=-0.7) positive correlation between steps and bmi: **2 (0.05%)"
      ],
      "text/plain": [
       "<IPython.core.display.Markdown object>"
      ]
     },
     "metadata": {},
     "output_type": "display_data"
    }
   ],
   "source": [
    "user_idx = np.where( steps_bmi_user_corr_values[indexes] >= 0.7) [0]\n",
    "printmd('**Number of users with a strong (<=-0.7) positive correlation between steps and bmi: **{} ({}%)'.format(\n",
    "    len(user_idx), \"%.2f\" % ( (len(user_idx)/len_users)*100)))\n"
   ]
  },
  {
   "cell_type": "code",
   "execution_count": 478,
   "metadata": {},
   "outputs": [
    {
     "data": {
      "text/markdown": [
       "**Number of users with a strong (-0.7<corr<=-0.3) positive correlation between steps and bmi: **206 (5.63%)"
      ],
      "text/plain": [
       "<IPython.core.display.Markdown object>"
      ]
     },
     "metadata": {},
     "output_type": "display_data"
    }
   ],
   "source": [
    "user_idx = np.where( (steps_bmi_user_corr_values[indexes] > -0.7) & \n",
    "                    (steps_bmi_user_corr_values[indexes] <= -0.3))[0]\n",
    "printmd('**Number of users with a medium (-0.7<corr<=-0.3) positive correlation between steps and bmi: **{} ({}%)'.format(\n",
    "    len(user_idx), \"%.2f\" % ( (len(user_idx)/len_users)*100)))\n"
   ]
  },
  {
   "cell_type": "code",
   "execution_count": 508,
   "metadata": {},
   "outputs": [
    {
     "data": {
      "text/markdown": [
       "**Number of users with a medium (0.3<=corr<0.7) positive correlation between steps and bmi: **144 (3.94%)"
      ],
      "text/plain": [
       "<IPython.core.display.Markdown object>"
      ]
     },
     "metadata": {},
     "output_type": "display_data"
    }
   ],
   "source": [
    "user_idx = np.where( (steps_bmi_user_corr_values[indexes] >= 0.3) & \n",
    "                    (steps_bmi_user_corr_values[indexes] < 0.7))[0]\n",
    "printmd('**Number of users with a medium (0.3<=corr<0.7) positive correlation between steps and bmi: **{} ({}%)'.format(\n",
    "    len(user_idx), \"%.2f\" % ( (len(user_idx)/len_users)*100)))\n"
   ]
  },
  {
   "cell_type": "code",
   "execution_count": 570,
   "metadata": {},
   "outputs": [
    {
     "data": {
      "text/markdown": [
       "## Visualize best case of bmi vs steps correlation"
      ],
      "text/plain": [
       "<IPython.core.display.Markdown object>"
      ]
     },
     "metadata": {},
     "output_type": "display_data"
    },
    {
     "data": {
      "text/markdown": [
       "**User: **d7a96a4f-cfdb-4042-8abe-a304fcd8a40b"
      ],
      "text/plain": [
       "<IPython.core.display.Markdown object>"
      ]
     },
     "metadata": {},
     "output_type": "display_data"
    },
    {
     "data": {
      "text/markdown": [
       "** Min Correlation: **: -0.7388699729214743"
      ],
      "text/plain": [
       "<IPython.core.display.Markdown object>"
      ]
     },
     "metadata": {},
     "output_type": "display_data"
    },
    {
     "data": {
      "text/markdown": [
       "** Scatter plot: **"
      ],
      "text/plain": [
       "<IPython.core.display.Markdown object>"
      ]
     },
     "metadata": {},
     "output_type": "display_data"
    },
    {
     "data": {
      "image/png": "[encoded data removed]",
      "text/plain": [
       "<matplotlib.figure.Figure at 0x13b08ae10>"
      ]
     },
     "metadata": {},
     "output_type": "display_data"
    }
   ],
   "source": [
    "printmd('## Visualize best case of bmi vs steps correlation')\n",
    "user_id = min(steps_bmi_user_corr, key=steps_bmi_user_corr.get)\n",
    "printmd('**User: **{}'.format(user_id))\n",
    "steps_bmi_user = steps_bmi[steps_bmi.user_id==user_id]\n",
    "printmd('** Min Correlation: **: {}'.format(steps_bmi_user_corr[user_id]))\n",
    "printmd('** Scatter plot: **')\n",
    "plt.scatter(steps_bmi_user['steps'],steps_bmi_user['bmi'])\n",
    "plt.show()\n"
   ]
  },
  {
   "cell_type": "markdown",
   "metadata": {},
   "source": [
    "## Regression Analysis"
   ]
  },
  {
   "cell_type": "code",
   "execution_count": 571,
   "metadata": {},
   "outputs": [
    {
     "data": {
      "text/markdown": [
       "** Linear regression coefficients: **"
      ],
      "text/plain": [
       "<IPython.core.display.Markdown object>"
      ]
     },
     "metadata": {},
     "output_type": "display_data"
    },
    {
     "data": {
      "text/markdown": [
       "* _a_ = 26.37469542889489"
      ],
      "text/plain": [
       "<IPython.core.display.Markdown object>"
      ]
     },
     "metadata": {},
     "output_type": "display_data"
    },
    {
     "data": {
      "text/markdown": [
       "* _b_ = -0.00023034311630593525"
      ],
      "text/plain": [
       "<IPython.core.display.Markdown object>"
      ]
     },
     "metadata": {},
     "output_type": "display_data"
    },
    {
     "data": {
      "text/markdown": [
       "** Linear regression predictions: **"
      ],
      "text/plain": [
       "<IPython.core.display.Markdown object>"
      ]
     },
     "metadata": {},
     "output_type": "display_data"
    },
    {
     "data": {
      "text/markdown": [
       "* Steps: 2000, Bmi_pred: 25.91400919628302"
      ],
      "text/plain": [
       "<IPython.core.display.Markdown object>"
      ]
     },
     "metadata": {},
     "output_type": "display_data"
    },
    {
     "data": {
      "text/markdown": [
       "* Steps: 5000, Bmi_pred: 25.222979847365213"
      ],
      "text/plain": [
       "<IPython.core.display.Markdown object>"
      ]
     },
     "metadata": {},
     "output_type": "display_data"
    },
    {
     "data": {
      "text/markdown": [
       "* Steps: 10000, Bmi_pred: 24.071264265835538"
      ],
      "text/plain": [
       "<IPython.core.display.Markdown object>"
      ]
     },
     "metadata": {},
     "output_type": "display_data"
    },
    {
     "data": {
      "text/markdown": [
       "**Plot the Least Squares Line**"
      ],
      "text/plain": [
       "<IPython.core.display.Markdown object>"
      ]
     },
     "metadata": {},
     "output_type": "display_data"
    },
    {
     "data": {
      "image/png": "[encoded data removed]",
      "text/plain": [
       "<matplotlib.figure.Figure at 0x127dfeb38>"
      ]
     },
     "metadata": {},
     "output_type": "display_data"
    },
    {
     "data": {
      "text/markdown": [
       "** 95% confidence intervals for the model coefficients **"
      ],
      "text/plain": [
       "<IPython.core.display.Markdown object>"
      ]
     },
     "metadata": {},
     "output_type": "display_data"
    },
    {
     "name": "stdout",
     "output_type": "stream",
     "text": [
      "                   0          1\n",
      "Intercept  26.267832  26.481559\n",
      "steps      -0.000246  -0.000214\n"
     ]
    },
    {
     "data": {
      "text/markdown": [
       "** Compute pvalues **"
      ],
      "text/plain": [
       "<IPython.core.display.Markdown object>"
      ]
     },
     "metadata": {},
     "output_type": "display_data"
    },
    {
     "data": {
      "text/markdown": [
       "* _a_: 0.0"
      ],
      "text/plain": [
       "<IPython.core.display.Markdown object>"
      ]
     },
     "metadata": {},
     "output_type": "display_data"
    },
    {
     "data": {
      "text/markdown": [
       "* _b_: 5.316092354334953e-118"
      ],
      "text/plain": [
       "<IPython.core.display.Markdown object>"
      ]
     },
     "metadata": {},
     "output_type": "display_data"
    },
    {
     "data": {
      "text/markdown": [
       "** Conclusion **"
      ],
      "text/plain": [
       "<IPython.core.display.Markdown object>"
      ]
     },
     "metadata": {},
     "output_type": "display_data"
    },
    {
     "data": {
      "text/markdown": [
       "pvalue for _b_ is less or equal to 0.05, which means the probability that the         coefficient is actually zero is low, and consequently the null hypothesis is rejected,         indicating a relationship bewteen bmi and steps."
      ],
      "text/plain": [
       "<IPython.core.display.Markdown object>"
      ]
     },
     "metadata": {},
     "output_type": "display_data"
    }
   ],
   "source": [
    "regression_analysis(steps_bmi_user)"
   ]
  },
  {
   "cell_type": "markdown",
   "metadata": {},
   "source": [
    "# Cross Correlation"
   ]
  },
  {
   "cell_type": "code",
   "execution_count": null,
   "metadata": {},
   "outputs": [],
   "source": [
    "max_lags = 10 \n",
    "user_ids = steps_bmi.user_id.unique()\n",
    "steps_bmi_user_ccorr = {}\n",
    "steps_bmi_user_lags = {}\n",
    "i = 0\n",
    "for user in user_ids:\n",
    "    i = i+1\n",
    "    if i%1000 == 0:\n",
    "        print(i)\n",
    "    steps_bmi_user = steps_bmi[steps_bmi.user_id==user]\n",
    "    if(len(steps_bmi_user) < min_entries):\n",
    "        continue\n",
    "    a = steps_bmi_user['steps']\n",
    "    v = steps_bmi_user['bmi']\n",
    "    a = (a - np.mean(a)) / (np.std(a) * len(a))\n",
    "    v = (v - np.mean(v)) /  np.std(v)\n",
    "    cross_corr = plt.xcorr(a, v, maxlags=10)\n",
    "    corr = cross_corr[1]\n",
    "    h = np.argmin(corr[:int(len(corr)/2)]) # we are not interested in positive lags.\n",
    "    steps_bmi_user_ccorr[user] = corr[h]\n",
    "    steps_bmi_user_lags[user] = abs(cross_corr[0][h])"
   ]
  },
  {
   "cell_type": "markdown",
   "metadata": {},
   "source": [
    "## Individual bmi, steps cross correlation"
   ]
  },
  {
   "cell_type": "code",
   "execution_count": 509,
   "metadata": {},
   "outputs": [
    {
     "data": {
      "text/markdown": [
       "* _Best correlation:_ -0.7883610391856528"
      ],
      "text/plain": [
       "<IPython.core.display.Markdown object>"
      ]
     },
     "metadata": {},
     "output_type": "display_data"
    },
    {
     "data": {
      "text/markdown": [
       "* _Worse correlation:_ 0.7362113761571644"
      ],
      "text/plain": [
       "<IPython.core.display.Markdown object>"
      ]
     },
     "metadata": {},
     "output_type": "display_data"
    },
    {
     "data": {
      "text/markdown": [
       "* _Median correlation:_ -0.06689516738163165"
      ],
      "text/plain": [
       "<IPython.core.display.Markdown object>"
      ]
     },
     "metadata": {},
     "output_type": "display_data"
    },
    {
     "data": {
      "text/markdown": [
       "* _Mean correlation:_ -0.07773805096241328"
      ],
      "text/plain": [
       "<IPython.core.display.Markdown object>"
      ]
     },
     "metadata": {},
     "output_type": "display_data"
    },
    {
     "data": {
      "text/markdown": [
       "* _Standard Deviation:_ 0.15917553749632693 "
      ],
      "text/plain": [
       "<IPython.core.display.Markdown object>"
      ]
     },
     "metadata": {},
     "output_type": "display_data"
    },
    {
     "data": {
      "image/png": "[encoded data removed]",
      "text/plain": [
       "<matplotlib.figure.Figure at 0x11b930f60>"
      ]
     },
     "metadata": {},
     "output_type": "display_data"
    }
   ],
   "source": [
    "steps_bmi_user_ccorr_values = np.array([v for k,v in steps_bmi_user_ccorr.items()])\n",
    "printmd('* _Best correlation:_ {}'.format(np.nanmin(steps_bmi_user_ccorr_values)))\n",
    "printmd('* _Worse correlation:_ {}'.format(np.nanmax(steps_bmi_user_ccorr_values)))\n",
    "printmd('* _Median correlation:_ {}'.format(np.nanmedian(steps_bmi_user_ccorr_values)))\n",
    "printmd('* _Mean correlation:_ {}'.format(np.nanmean(steps_bmi_user_ccorr_values)))\n",
    "printmd('* _Standard Deviation:_ {} '.format(np.nanstd(steps_bmi_user_ccorr_values)))\n",
    "indexes = ~np.isnan(steps_bmi_user_ccorr_values)\n",
    "plt.clf()\n",
    "# there is an issue with matplotlib boxplot fliers not showing up when seaborn is imported\n",
    "# see solutions at: https://stackoverflow.com/questions/28908003/matplotlib-box-plot-fliers-not-showing\n",
    "box = plt.boxplot(steps_bmi_user_ccorr_values[indexes], sym='k.')\n",
    "plt.show()"
   ]
  },
  {
   "cell_type": "code",
   "execution_count": 510,
   "metadata": {},
   "outputs": [
    {
     "data": {
      "text/markdown": [
       "* 25% of the users has correlation smaller or equals to -0.17039547506856711"
      ],
      "text/plain": [
       "<IPython.core.display.Markdown object>"
      ]
     },
     "metadata": {},
     "output_type": "display_data"
    },
    {
     "data": {
      "text/markdown": [
       "* The highest negative correlation excluding outliers is -0.4448984375588274"
      ],
      "text/plain": [
       "<IPython.core.display.Markdown object>"
      ]
     },
     "metadata": {},
     "output_type": "display_data"
    },
    {
     "data": {
      "text/markdown": [
       "* 25% of the users has correlation greater or equals to 0.013040238062308116"
      ],
      "text/plain": [
       "<IPython.core.display.Markdown object>"
      ]
     },
     "metadata": {},
     "output_type": "display_data"
    },
    {
     "data": {
      "text/markdown": [
       "* The highest positive correlation excluding outliers is 0.2879365518917516"
      ],
      "text/plain": [
       "<IPython.core.display.Markdown object>"
      ]
     },
     "metadata": {},
     "output_type": "display_data"
    }
   ],
   "source": [
    "whiskers = [item.get_ydata() for item in box['whiskers']]\n",
    "printmd('* 25% of the users has correlation smaller or equals to {}'.format(whiskers[0][0]))\n",
    "printmd('* The highest negative correlation excluding outliers is {}'.format(whiskers[0][1]))\n",
    "printmd('* 25% of the users has correlation greater or equals to {}'.format(whiskers[1][0]))\n",
    "printmd('* The highest positive correlation excluding outliers is {}'.format(whiskers[1][1]))"
   ]
  },
  {
   "cell_type": "code",
   "execution_count": 463,
   "metadata": {},
   "outputs": [
    {
     "data": {
      "text/markdown": [
       "**Number of users with a strong (<=-0.7) negative correlation between steps and bmi: **5 (0.14%)"
      ],
      "text/plain": [
       "<IPython.core.display.Markdown object>"
      ]
     },
     "metadata": {},
     "output_type": "display_data"
    }
   ],
   "source": [
    "user_idx = np.where(steps_bmi_user_ccorr_values[indexes] <= -0.7) [0]\n",
    "len_users = len(steps_bmi_user_ccorr_values)\n",
    "printmd('**Number of users with a strong (<=-0.7) negative correlation between steps and bmi: **{} ({}%)'.format(\n",
    "    len(user_idx), \"%.2f\" % ( (len(user_idx)/len_users)*100)))"
   ]
  },
  {
   "cell_type": "code",
   "execution_count": 464,
   "metadata": {},
   "outputs": [
    {
     "data": {
      "text/markdown": [
       "**Number of users with a strong (<=-0.7) positive correlation between steps and bmi: **1 (0.03%)"
      ],
      "text/plain": [
       "<IPython.core.display.Markdown object>"
      ]
     },
     "metadata": {},
     "output_type": "display_data"
    }
   ],
   "source": [
    "user_idx = np.where( steps_bmi_user_ccorr_values[indexes] >= 0.7) [0]\n",
    "printmd('**Number of users with a strong (<=-0.7) positive correlation between steps and bmi: **{} ({}%)'.format(\n",
    "    len(user_idx), \"%.2f\" % ( (len(user_idx)/len_users)*100)))\n"
   ]
  },
  {
   "cell_type": "code",
   "execution_count": 512,
   "metadata": {},
   "outputs": [
    {
     "data": {
      "text/markdown": [
       "**Number of users with a medium (-0.7<corr<=-0.3) positive correlation between steps and bmi: **299 (8.18%)"
      ],
      "text/plain": [
       "<IPython.core.display.Markdown object>"
      ]
     },
     "metadata": {},
     "output_type": "display_data"
    }
   ],
   "source": [
    "user_idx = np.where( (steps_bmi_user_ccorr_values[indexes] > -0.7) & \n",
    "                    (steps_bmi_user_ccorr_values[indexes] <= -0.3))[0]\n",
    "printmd('**Number of users with a medium (-0.7<corr<=-0.3) positive correlation between steps and bmi: **{} ({}%)'.format(\n",
    "    len(user_idx), \"%.2f\" % ( (len(user_idx)/len_users)*100)))\n"
   ]
  },
  {
   "cell_type": "code",
   "execution_count": 514,
   "metadata": {},
   "outputs": [
    {
     "data": {
      "text/markdown": [
       "**Number of users with a medium (0.3<=corr<0.7) positive correlation between steps and bmi: **43 (1.18%)"
      ],
      "text/plain": [
       "<IPython.core.display.Markdown object>"
      ]
     },
     "metadata": {},
     "output_type": "display_data"
    }
   ],
   "source": [
    "user_idx = np.where( (steps_bmi_user_ccorr_values[indexes] >= 0.3) & \n",
    "                    (steps_bmi_user_ccorr_values[indexes] < 0.7))[0]\n",
    "printmd('**Number of users with a medium (0.3<=corr<0.7) positive correlation between steps and bmi: **{} ({}%)'.format(\n",
    "    len(user_idx), \"%.2f\" % ( (len(user_idx)/len_users)*100)))\n"
   ]
  },
  {
   "cell_type": "code",
   "execution_count": 465,
   "metadata": {
    "collapsed": true
   },
   "outputs": [],
   "source": [
    "def scatter_lags(x, y, h):\n",
    "    x = x[:len(x)-h]\n",
    "    y = y[-(len(y)-h):]\n",
    "    plt.scatter(x,y)\n",
    "    plt.show()\n",
    "    \n",
    "def corr_lags(x, y, h):\n",
    "    x = x[:len(x)-h]\n",
    "    y = y[-(len(y)-h):]\n",
    "    print(np.corrcoef(x, y))"
   ]
  },
  {
   "cell_type": "code",
   "execution_count": 572,
   "metadata": {},
   "outputs": [
    {
     "data": {
      "text/markdown": [
       "## Visualize best case of bmi vs steps lagged correlation"
      ],
      "text/plain": [
       "<IPython.core.display.Markdown object>"
      ]
     },
     "metadata": {},
     "output_type": "display_data"
    },
    {
     "data": {
      "text/markdown": [
       "**User: **a27c468d-6fd8-4fba-9ca7-2b6f2c3221d8"
      ],
      "text/plain": [
       "<IPython.core.display.Markdown object>"
      ]
     },
     "metadata": {},
     "output_type": "display_data"
    },
    {
     "data": {
      "text/markdown": [
       "**Cross Correlations:**"
      ],
      "text/plain": [
       "<IPython.core.display.Markdown object>"
      ]
     },
     "metadata": {},
     "output_type": "display_data"
    },
    {
     "data": {
      "image/png": "[encoded data removed]",
      "text/plain": [
       "<matplotlib.figure.Figure at 0x1315ad780>"
      ]
     },
     "metadata": {},
     "output_type": "display_data"
    },
    {
     "data": {
      "text/markdown": [
       "** Min cross Correlation: **: -0.7883610391856528"
      ],
      "text/plain": [
       "<IPython.core.display.Markdown object>"
      ]
     },
     "metadata": {},
     "output_type": "display_data"
    },
    {
     "data": {
      "text/markdown": [
       "** Pearson Correlation matrix: **"
      ],
      "text/plain": [
       "<IPython.core.display.Markdown object>"
      ]
     },
     "metadata": {},
     "output_type": "display_data"
    },
    {
     "name": "stdout",
     "output_type": "stream",
     "text": [
      "[[ 1.         -0.80108585]\n",
      " [-0.80108585  1.        ]]\n"
     ]
    },
    {
     "data": {
      "text/markdown": [
       "**Lag: **: 6"
      ],
      "text/plain": [
       "<IPython.core.display.Markdown object>"
      ]
     },
     "metadata": {},
     "output_type": "display_data"
    },
    {
     "data": {
      "text/markdown": [
       "**Scatter plot: **"
      ],
      "text/plain": [
       "<IPython.core.display.Markdown object>"
      ]
     },
     "metadata": {},
     "output_type": "display_data"
    },
    {
     "data": {
      "image/png": "[encoded data removed]",
      "text/plain": [
       "<matplotlib.figure.Figure at 0x12c14c5c0>"
      ]
     },
     "metadata": {},
     "output_type": "display_data"
    }
   ],
   "source": [
    "printmd('## Visualize best case of bmi vs steps lagged correlation')\n",
    "user_id = min(steps_bmi_user_ccorr, key=steps_bmi_user_ccorr.get)\n",
    "printmd('**User: **{}'.format(user_id))\n",
    "steps_bmi_user = steps_bmi[steps_bmi.user_id==user_id]\n",
    "\n",
    "printmd('**Cross Correlations:**')\n",
    "a = steps_bmi_user['steps']\n",
    "v = steps_bmi_user['bmi']\n",
    "a = (a - np.mean(a)) / (np.std(a) * len(a))\n",
    "v = (v - np.mean(v)) /  np.std(v)\n",
    "cross_corr = plt.xcorr(a, v, maxlags=10)\n",
    "plt.show()\n",
    "\n",
    "printmd('** Min cross Correlation: **: {}'.format(steps_bmi_user_ccorr[user_id]))\n",
    "printmd('** Pearson Correlation matrix: **')\n",
    "x = steps_bmi_user['steps']\n",
    "y = steps_bmi_user['bmi']\n",
    "corr_lags(x, y, steps_bmi_user_lags[user_id])\n",
    "\n",
    "printmd('**Lag: **: {}'.format(steps_bmi_user_lags[user_id]))\n",
    "\n",
    "printmd('**Scatter plot: **')\n",
    "scatter_lags(x, y, steps_bmi_user_lags[user_id])"
   ]
  },
  {
   "cell_type": "markdown",
   "metadata": {},
   "source": [
    "## Regression Analysis"
   ]
  },
  {
   "cell_type": "code",
   "execution_count": 573,
   "metadata": {},
   "outputs": [
    {
     "data": {
      "text/markdown": [
       "** Linear regression coefficients: **"
      ],
      "text/plain": [
       "<IPython.core.display.Markdown object>"
      ]
     },
     "metadata": {},
     "output_type": "display_data"
    },
    {
     "data": {
      "text/markdown": [
       "* _a_ = 33.41413457431116"
      ],
      "text/plain": [
       "<IPython.core.display.Markdown object>"
      ]
     },
     "metadata": {},
     "output_type": "display_data"
    },
    {
     "data": {
      "text/markdown": [
       "* _b_ = -0.0002191540667318059"
      ],
      "text/plain": [
       "<IPython.core.display.Markdown object>"
      ]
     },
     "metadata": {},
     "output_type": "display_data"
    },
    {
     "data": {
      "text/markdown": [
       "** Linear regression predictions: **"
      ],
      "text/plain": [
       "<IPython.core.display.Markdown object>"
      ]
     },
     "metadata": {},
     "output_type": "display_data"
    },
    {
     "data": {
      "text/markdown": [
       "* Steps: 2000, Bmi_pred: 32.97582644084755"
      ],
      "text/plain": [
       "<IPython.core.display.Markdown object>"
      ]
     },
     "metadata": {},
     "output_type": "display_data"
    },
    {
     "data": {
      "text/markdown": [
       "* Steps: 5000, Bmi_pred: 32.31836424065213"
      ],
      "text/plain": [
       "<IPython.core.display.Markdown object>"
      ]
     },
     "metadata": {},
     "output_type": "display_data"
    },
    {
     "data": {
      "text/markdown": [
       "* Steps: 10000, Bmi_pred: 31.222593906993104"
      ],
      "text/plain": [
       "<IPython.core.display.Markdown object>"
      ]
     },
     "metadata": {},
     "output_type": "display_data"
    },
    {
     "data": {
      "text/markdown": [
       "**Plot the Least Squares Line**"
      ],
      "text/plain": [
       "<IPython.core.display.Markdown object>"
      ]
     },
     "metadata": {},
     "output_type": "display_data"
    },
    {
     "data": {
      "image/png": "[encoded data removed]",
      "text/plain": [
       "<matplotlib.figure.Figure at 0x12ca564a8>"
      ]
     },
     "metadata": {},
     "output_type": "display_data"
    },
    {
     "data": {
      "text/markdown": [
       "** 95% confidence intervals for the model coefficients **"
      ],
      "text/plain": [
       "<IPython.core.display.Markdown object>"
      ]
     },
     "metadata": {},
     "output_type": "display_data"
    },
    {
     "name": "stdout",
     "output_type": "stream",
     "text": [
      "                   0          1\n",
      "Intercept  33.149305  33.678965\n",
      "steps      -0.000251  -0.000187\n"
     ]
    },
    {
     "data": {
      "text/markdown": [
       "** Compute pvalues **"
      ],
      "text/plain": [
       "<IPython.core.display.Markdown object>"
      ]
     },
     "metadata": {},
     "output_type": "display_data"
    },
    {
     "data": {
      "text/markdown": [
       "* _a_: 1.9284891564512365e-263"
      ],
      "text/plain": [
       "<IPython.core.display.Markdown object>"
      ]
     },
     "metadata": {},
     "output_type": "display_data"
    },
    {
     "data": {
      "text/markdown": [
       "* _b_: 1.683768114427747e-30"
      ],
      "text/plain": [
       "<IPython.core.display.Markdown object>"
      ]
     },
     "metadata": {},
     "output_type": "display_data"
    },
    {
     "data": {
      "text/markdown": [
       "** Conclusion **"
      ],
      "text/plain": [
       "<IPython.core.display.Markdown object>"
      ]
     },
     "metadata": {},
     "output_type": "display_data"
    },
    {
     "data": {
      "text/markdown": [
       "pvalue for _b_ is less or equal to 0.05, which means the probability that the         coefficient is actually zero is low, and consequently the null hypothesis is rejected,         indicating a relationship bewteen bmi and steps."
      ],
      "text/plain": [
       "<IPython.core.display.Markdown object>"
      ]
     },
     "metadata": {},
     "output_type": "display_data"
    }
   ],
   "source": [
    "regression_analysis(steps_bmi_user)"
   ]
  },
  {
   "cell_type": "code",
   "execution_count": 576,
   "metadata": {},
   "outputs": [
    {
     "data": {
      "text/markdown": [
       "## Visualize case of weak negative bmi vs steps correlation"
      ],
      "text/plain": [
       "<IPython.core.display.Markdown object>"
      ]
     },
     "metadata": {},
     "output_type": "display_data"
    },
    {
     "data": {
      "text/markdown": [
       "**User: **fc1787f1-70e0-4cd0-a646-996dcae93fd0"
      ],
      "text/plain": [
       "<IPython.core.display.Markdown object>"
      ]
     },
     "metadata": {},
     "output_type": "display_data"
    },
    {
     "data": {
      "text/markdown": [
       "** Min Correlation: **: -0.29952232196475803"
      ],
      "text/plain": [
       "<IPython.core.display.Markdown object>"
      ]
     },
     "metadata": {},
     "output_type": "display_data"
    },
    {
     "data": {
      "text/markdown": [
       "** Scatter plot: **"
      ],
      "text/plain": [
       "<IPython.core.display.Markdown object>"
      ]
     },
     "metadata": {},
     "output_type": "display_data"
    },
    {
     "data": {
      "image/png": "[encoded data removed]",
      "text/plain": [
       "<matplotlib.figure.Figure at 0x137614fd0>"
      ]
     },
     "metadata": {},
     "output_type": "display_data"
    }
   ],
   "source": [
    "printmd('## Visualize case of weak negative bmi vs steps correlation')\n",
    "medium_ccorr = {k: v for k, v in steps_bmi_user_ccorr.items() if v > -0.3 and v < 0.0}\n",
    "user_id = min(medium_ccorr, key=steps_bmi_user_ccorr.get)\n",
    "printmd('**User: **{}'.format(user_id))\n",
    "steps_bmi_user = steps_bmi[steps_bmi.user_id==user_id]\n",
    "printmd('** Min Correlation: **: {}'.format(steps_bmi_user_ccorr[user_id]))\n",
    "printmd('** Scatter plot: **')\n",
    "plt.scatter(steps_bmi_user['steps'],steps_bmi_user['bmi'])\n",
    "plt.show()"
   ]
  },
  {
   "cell_type": "code",
   "execution_count": 577,
   "metadata": {},
   "outputs": [
    {
     "data": {
      "text/markdown": [
       "** Linear regression coefficients: **"
      ],
      "text/plain": [
       "<IPython.core.display.Markdown object>"
      ]
     },
     "metadata": {},
     "output_type": "display_data"
    },
    {
     "data": {
      "text/markdown": [
       "* _a_ = 30.944709906965507"
      ],
      "text/plain": [
       "<IPython.core.display.Markdown object>"
      ]
     },
     "metadata": {},
     "output_type": "display_data"
    },
    {
     "data": {
      "text/markdown": [
       "* _b_ = -5.089039730774651e-05"
      ],
      "text/plain": [
       "<IPython.core.display.Markdown object>"
      ]
     },
     "metadata": {},
     "output_type": "display_data"
    },
    {
     "data": {
      "text/markdown": [
       "** Linear regression predictions: **"
      ],
      "text/plain": [
       "<IPython.core.display.Markdown object>"
      ]
     },
     "metadata": {},
     "output_type": "display_data"
    },
    {
     "data": {
      "text/markdown": [
       "* Steps: 2000, Bmi_pred: 30.842929112350014"
      ],
      "text/plain": [
       "<IPython.core.display.Markdown object>"
      ]
     },
     "metadata": {},
     "output_type": "display_data"
    },
    {
     "data": {
      "text/markdown": [
       "* Steps: 5000, Bmi_pred: 30.690257920426774"
      ],
      "text/plain": [
       "<IPython.core.display.Markdown object>"
      ]
     },
     "metadata": {},
     "output_type": "display_data"
    },
    {
     "data": {
      "text/markdown": [
       "* Steps: 10000, Bmi_pred: 30.43580593388804"
      ],
      "text/plain": [
       "<IPython.core.display.Markdown object>"
      ]
     },
     "metadata": {},
     "output_type": "display_data"
    },
    {
     "data": {
      "text/markdown": [
       "**Plot the Least Squares Line**"
      ],
      "text/plain": [
       "<IPython.core.display.Markdown object>"
      ]
     },
     "metadata": {},
     "output_type": "display_data"
    },
    {
     "data": {
      "image/png": "[encoded data removed]",
      "text/plain": [
       "<matplotlib.figure.Figure at 0x12d123128>"
      ]
     },
     "metadata": {},
     "output_type": "display_data"
    },
    {
     "data": {
      "text/markdown": [
       "** 95% confidence intervals for the model coefficients **"
      ],
      "text/plain": [
       "<IPython.core.display.Markdown object>"
      ]
     },
     "metadata": {},
     "output_type": "display_data"
    },
    {
     "name": "stdout",
     "output_type": "stream",
     "text": [
      "                   0          1\n",
      "Intercept  30.748142  31.141277\n",
      "steps      -0.000067  -0.000035\n"
     ]
    },
    {
     "data": {
      "text/markdown": [
       "** Compute pvalues **"
      ],
      "text/plain": [
       "<IPython.core.display.Markdown object>"
      ]
     },
     "metadata": {},
     "output_type": "display_data"
    },
    {
     "data": {
      "text/markdown": [
       "* _a_: 0.0"
      ],
      "text/plain": [
       "<IPython.core.display.Markdown object>"
      ]
     },
     "metadata": {},
     "output_type": "display_data"
    },
    {
     "data": {
      "text/markdown": [
       "* _b_: 7.899257492789747e-10"
      ],
      "text/plain": [
       "<IPython.core.display.Markdown object>"
      ]
     },
     "metadata": {},
     "output_type": "display_data"
    },
    {
     "data": {
      "text/markdown": [
       "** Conclusion **"
      ],
      "text/plain": [
       "<IPython.core.display.Markdown object>"
      ]
     },
     "metadata": {},
     "output_type": "display_data"
    },
    {
     "data": {
      "text/markdown": [
       "pvalue for _b_ is less or equal to 0.05, which means the probability that the         coefficient is actually zero is low, and consequently the null hypothesis is rejected,         indicating a relationship bewteen bmi and steps."
      ],
      "text/plain": [
       "<IPython.core.display.Markdown object>"
      ]
     },
     "metadata": {},
     "output_type": "display_data"
    }
   ],
   "source": [
    "regression_analysis(steps_bmi_user)"
   ]
  },
  {
   "cell_type": "code",
   "execution_count": 582,
   "metadata": {},
   "outputs": [
    {
     "data": {
      "text/markdown": [
       "## Visualize case of very weak negative bmi vs steps correlation"
      ],
      "text/plain": [
       "<IPython.core.display.Markdown object>"
      ]
     },
     "metadata": {},
     "output_type": "display_data"
    },
    {
     "data": {
      "text/markdown": [
       "**User: **295f7dcd-8ba7-4677-8faf-02015512eff7"
      ],
      "text/plain": [
       "<IPython.core.display.Markdown object>"
      ]
     },
     "metadata": {},
     "output_type": "display_data"
    },
    {
     "data": {
      "text/markdown": [
       "** Min Correlation: **: -0.19982951455792713"
      ],
      "text/plain": [
       "<IPython.core.display.Markdown object>"
      ]
     },
     "metadata": {},
     "output_type": "display_data"
    },
    {
     "data": {
      "text/markdown": [
       "** Scatter plot: **"
      ],
      "text/plain": [
       "<IPython.core.display.Markdown object>"
      ]
     },
     "metadata": {},
     "output_type": "display_data"
    },
    {
     "data": {
      "image/png": "[encoded data removed]",
      "text/plain": [
       "<matplotlib.figure.Figure at 0x1319e4898>"
      ]
     },
     "metadata": {},
     "output_type": "display_data"
    }
   ],
   "source": [
    "printmd('## Visualize case of very weak negative bmi vs steps correlation')\n",
    "medium_ccorr = {k: v for k, v in steps_bmi_user_ccorr.items() if v >= -0.2 and v < 0}\n",
    "user_id = min(medium_ccorr, key=steps_bmi_user_ccorr.get)\n",
    "printmd('**User: **{}'.format(user_id))\n",
    "steps_bmi_user = steps_bmi[steps_bmi.user_id==user_id]\n",
    "printmd('** Min Correlation: **: {}'.format(steps_bmi_user_ccorr[user_id]))\n",
    "printmd('** Scatter plot: **')\n",
    "plt.scatter(steps_bmi_user['steps'],steps_bmi_user['bmi'])\n",
    "plt.show()"
   ]
  },
  {
   "cell_type": "code",
   "execution_count": 579,
   "metadata": {},
   "outputs": [
    {
     "data": {
      "text/markdown": [
       "** Linear regression coefficients: **"
      ],
      "text/plain": [
       "<IPython.core.display.Markdown object>"
      ]
     },
     "metadata": {},
     "output_type": "display_data"
    },
    {
     "data": {
      "text/markdown": [
       "* _a_ = 27.06279948964672"
      ],
      "text/plain": [
       "<IPython.core.display.Markdown object>"
      ]
     },
     "metadata": {},
     "output_type": "display_data"
    },
    {
     "data": {
      "text/markdown": [
       "* _b_ = -1.5089806345354884e-05"
      ],
      "text/plain": [
       "<IPython.core.display.Markdown object>"
      ]
     },
     "metadata": {},
     "output_type": "display_data"
    },
    {
     "data": {
      "text/markdown": [
       "** Linear regression predictions: **"
      ],
      "text/plain": [
       "<IPython.core.display.Markdown object>"
      ]
     },
     "metadata": {},
     "output_type": "display_data"
    },
    {
     "data": {
      "text/markdown": [
       "* Steps: 2000, Bmi_pred: 27.032619876956012"
      ],
      "text/plain": [
       "<IPython.core.display.Markdown object>"
      ]
     },
     "metadata": {},
     "output_type": "display_data"
    },
    {
     "data": {
      "text/markdown": [
       "* Steps: 5000, Bmi_pred: 26.98735045791995"
      ],
      "text/plain": [
       "<IPython.core.display.Markdown object>"
      ]
     },
     "metadata": {},
     "output_type": "display_data"
    },
    {
     "data": {
      "text/markdown": [
       "* Steps: 10000, Bmi_pred: 26.91190142619317"
      ],
      "text/plain": [
       "<IPython.core.display.Markdown object>"
      ]
     },
     "metadata": {},
     "output_type": "display_data"
    },
    {
     "data": {
      "text/markdown": [
       "**Plot the Least Squares Line**"
      ],
      "text/plain": [
       "<IPython.core.display.Markdown object>"
      ]
     },
     "metadata": {},
     "output_type": "display_data"
    },
    {
     "data": {
      "image/png": "[encoded data removed]",
      "text/plain": [
       "<matplotlib.figure.Figure at 0x12cea3898>"
      ]
     },
     "metadata": {},
     "output_type": "display_data"
    },
    {
     "data": {
      "text/markdown": [
       "** 95% confidence intervals for the model coefficients **"
      ],
      "text/plain": [
       "<IPython.core.display.Markdown object>"
      ]
     },
     "metadata": {},
     "output_type": "display_data"
    },
    {
     "name": "stdout",
     "output_type": "stream",
     "text": [
      "                   0          1\n",
      "Intercept  26.927254  27.198345\n",
      "steps      -0.000034   0.000004\n"
     ]
    },
    {
     "data": {
      "text/markdown": [
       "** Compute pvalues **"
      ],
      "text/plain": [
       "<IPython.core.display.Markdown object>"
      ]
     },
     "metadata": {},
     "output_type": "display_data"
    },
    {
     "data": {
      "text/markdown": [
       "* _a_: 5.529302240546085e-125"
      ],
      "text/plain": [
       "<IPython.core.display.Markdown object>"
      ]
     },
     "metadata": {},
     "output_type": "display_data"
    },
    {
     "data": {
      "text/markdown": [
       "* _b_: 0.11924721292420928"
      ],
      "text/plain": [
       "<IPython.core.display.Markdown object>"
      ]
     },
     "metadata": {},
     "output_type": "display_data"
    },
    {
     "data": {
      "text/markdown": [
       "** Conclusion **"
      ],
      "text/plain": [
       "<IPython.core.display.Markdown object>"
      ]
     },
     "metadata": {},
     "output_type": "display_data"
    },
    {
     "data": {
      "text/markdown": [
       "pvalue for _b_ is greater than 0.05, and consequently the null hypothesis is not rejected,         indicating that there is no relationship bewteen bmi and steps."
      ],
      "text/plain": [
       "<IPython.core.display.Markdown object>"
      ]
     },
     "metadata": {},
     "output_type": "display_data"
    }
   ],
   "source": [
    "regression_analysis(steps_bmi_user)"
   ]
  },
  {
   "cell_type": "code",
   "execution_count": 580,
   "metadata": {},
   "outputs": [
    {
     "data": {
      "text/markdown": [
       "## Visualize case of weak positive bmi vs steps correlation"
      ],
      "text/plain": [
       "<IPython.core.display.Markdown object>"
      ]
     },
     "metadata": {},
     "output_type": "display_data"
    },
    {
     "data": {
      "text/markdown": [
       "**User: **d09b4692-38e7-462c-91b7-792ce8342902"
      ],
      "text/plain": [
       "<IPython.core.display.Markdown object>"
      ]
     },
     "metadata": {},
     "output_type": "display_data"
    },
    {
     "data": {
      "text/markdown": [
       "** Min Correlation: **: 0.29926980732721203"
      ],
      "text/plain": [
       "<IPython.core.display.Markdown object>"
      ]
     },
     "metadata": {},
     "output_type": "display_data"
    },
    {
     "data": {
      "text/markdown": [
       "** Scatter plot: **"
      ],
      "text/plain": [
       "<IPython.core.display.Markdown object>"
      ]
     },
     "metadata": {},
     "output_type": "display_data"
    },
    {
     "data": {
      "image/png": "[encoded data removed]",
      "text/plain": [
       "<matplotlib.figure.Figure at 0x13159e6a0>"
      ]
     },
     "metadata": {},
     "output_type": "display_data"
    },
    {
     "data": {
      "text/markdown": [
       "** Linear regression coefficients: **"
      ],
      "text/plain": [
       "<IPython.core.display.Markdown object>"
      ]
     },
     "metadata": {},
     "output_type": "display_data"
    },
    {
     "data": {
      "text/markdown": [
       "* _a_ = 28.205927397448537"
      ],
      "text/plain": [
       "<IPython.core.display.Markdown object>"
      ]
     },
     "metadata": {},
     "output_type": "display_data"
    },
    {
     "data": {
      "text/markdown": [
       "* _b_ = 0.00011479458070890738"
      ],
      "text/plain": [
       "<IPython.core.display.Markdown object>"
      ]
     },
     "metadata": {},
     "output_type": "display_data"
    },
    {
     "data": {
      "text/markdown": [
       "** Linear regression predictions: **"
      ],
      "text/plain": [
       "<IPython.core.display.Markdown object>"
      ]
     },
     "metadata": {},
     "output_type": "display_data"
    },
    {
     "data": {
      "text/markdown": [
       "* Steps: 2000, Bmi_pred: 28.43551655886635"
      ],
      "text/plain": [
       "<IPython.core.display.Markdown object>"
      ]
     },
     "metadata": {},
     "output_type": "display_data"
    },
    {
     "data": {
      "text/markdown": [
       "* Steps: 5000, Bmi_pred: 28.779900300993074"
      ],
      "text/plain": [
       "<IPython.core.display.Markdown object>"
      ]
     },
     "metadata": {},
     "output_type": "display_data"
    },
    {
     "data": {
      "text/markdown": [
       "* Steps: 10000, Bmi_pred: 29.35387320453761"
      ],
      "text/plain": [
       "<IPython.core.display.Markdown object>"
      ]
     },
     "metadata": {},
     "output_type": "display_data"
    },
    {
     "data": {
      "text/markdown": [
       "**Plot the Least Squares Line**"
      ],
      "text/plain": [
       "<IPython.core.display.Markdown object>"
      ]
     },
     "metadata": {},
     "output_type": "display_data"
    },
    {
     "data": {
      "image/png": "[encoded data removed]",
      "text/plain": [
       "<matplotlib.figure.Figure at 0x12b8fc358>"
      ]
     },
     "metadata": {},
     "output_type": "display_data"
    },
    {
     "data": {
      "text/markdown": [
       "** 95% confidence intervals for the model coefficients **"
      ],
      "text/plain": [
       "<IPython.core.display.Markdown object>"
      ]
     },
     "metadata": {},
     "output_type": "display_data"
    },
    {
     "name": "stdout",
     "output_type": "stream",
     "text": [
      "                   0          1\n",
      "Intercept  28.074190  28.337665\n",
      "steps       0.000049   0.000180\n"
     ]
    },
    {
     "data": {
      "text/markdown": [
       "** Compute pvalues **"
      ],
      "text/plain": [
       "<IPython.core.display.Markdown object>"
      ]
     },
     "metadata": {},
     "output_type": "display_data"
    },
    {
     "data": {
      "text/markdown": [
       "* _a_: 2.179693359986991e-211"
      ],
      "text/plain": [
       "<IPython.core.display.Markdown object>"
      ]
     },
     "metadata": {},
     "output_type": "display_data"
    },
    {
     "data": {
      "text/markdown": [
       "* _b_: 0.0007061399112404025"
      ],
      "text/plain": [
       "<IPython.core.display.Markdown object>"
      ]
     },
     "metadata": {},
     "output_type": "display_data"
    },
    {
     "data": {
      "text/markdown": [
       "** Conclusion **"
      ],
      "text/plain": [
       "<IPython.core.display.Markdown object>"
      ]
     },
     "metadata": {},
     "output_type": "display_data"
    },
    {
     "data": {
      "text/markdown": [
       "pvalue for _b_ is less or equal to 0.05, which means the probability that the         coefficient is actually zero is low, and consequently the null hypothesis is rejected,         indicating a relationship bewteen bmi and steps."
      ],
      "text/plain": [
       "<IPython.core.display.Markdown object>"
      ]
     },
     "metadata": {},
     "output_type": "display_data"
    }
   ],
   "source": [
    "printmd('## Visualize case of weak positive bmi vs steps correlation')\n",
    "medium_ccorr = {k: v for k, v in steps_bmi_user_ccorr.items() if v > 0 and v < 0.3}\n",
    "user_id = max(medium_ccorr, key=steps_bmi_user_ccorr.get)\n",
    "printmd('**User: **{}'.format(user_id))\n",
    "steps_bmi_user = steps_bmi[steps_bmi.user_id==user_id]\n",
    "printmd('** Min Correlation: **: {}'.format(steps_bmi_user_ccorr[user_id]))\n",
    "printmd('** Scatter plot: **')\n",
    "plt.scatter(steps_bmi_user['steps'],steps_bmi_user['bmi'])\n",
    "plt.show()\n",
    "regression_analysis(steps_bmi_user)"
   ]
  },
  {
   "cell_type": "code",
   "execution_count": 581,
   "metadata": {},
   "outputs": [
    {
     "data": {
      "text/markdown": [
       "## Visualize case of very weak positive bmi vs steps correlation"
      ],
      "text/plain": [
       "<IPython.core.display.Markdown object>"
      ]
     },
     "metadata": {},
     "output_type": "display_data"
    },
    {
     "data": {
      "text/markdown": [
       "**User: **1e3da41f-aa8e-4558-a516-14a7991dd950"
      ],
      "text/plain": [
       "<IPython.core.display.Markdown object>"
      ]
     },
     "metadata": {},
     "output_type": "display_data"
    },
    {
     "data": {
      "text/markdown": [
       "** Min Correlation: **: 0.0999792348745797"
      ],
      "text/plain": [
       "<IPython.core.display.Markdown object>"
      ]
     },
     "metadata": {},
     "output_type": "display_data"
    },
    {
     "data": {
      "text/markdown": [
       "** Scatter plot: **"
      ],
      "text/plain": [
       "<IPython.core.display.Markdown object>"
      ]
     },
     "metadata": {},
     "output_type": "display_data"
    },
    {
     "data": {
      "image/png": "[encoded data removed]",
      "text/plain": [
       "<matplotlib.figure.Figure at 0x12c3815c0>"
      ]
     },
     "metadata": {},
     "output_type": "display_data"
    },
    {
     "data": {
      "text/markdown": [
       "** Linear regression coefficients: **"
      ],
      "text/plain": [
       "<IPython.core.display.Markdown object>"
      ]
     },
     "metadata": {},
     "output_type": "display_data"
    },
    {
     "data": {
      "text/markdown": [
       "* _a_ = 27.245373066106275"
      ],
      "text/plain": [
       "<IPython.core.display.Markdown object>"
      ]
     },
     "metadata": {},
     "output_type": "display_data"
    },
    {
     "data": {
      "text/markdown": [
       "* _b_ = 1.6615316127223997e-06"
      ],
      "text/plain": [
       "<IPython.core.display.Markdown object>"
      ]
     },
     "metadata": {},
     "output_type": "display_data"
    },
    {
     "data": {
      "text/markdown": [
       "** Linear regression predictions: **"
      ],
      "text/plain": [
       "<IPython.core.display.Markdown object>"
      ]
     },
     "metadata": {},
     "output_type": "display_data"
    },
    {
     "data": {
      "text/markdown": [
       "* Steps: 2000, Bmi_pred: 27.24869612933172"
      ],
      "text/plain": [
       "<IPython.core.display.Markdown object>"
      ]
     },
     "metadata": {},
     "output_type": "display_data"
    },
    {
     "data": {
      "text/markdown": [
       "* Steps: 5000, Bmi_pred: 27.253680724169886"
      ],
      "text/plain": [
       "<IPython.core.display.Markdown object>"
      ]
     },
     "metadata": {},
     "output_type": "display_data"
    },
    {
     "data": {
      "text/markdown": [
       "* Steps: 10000, Bmi_pred: 27.2619883822335"
      ],
      "text/plain": [
       "<IPython.core.display.Markdown object>"
      ]
     },
     "metadata": {},
     "output_type": "display_data"
    },
    {
     "data": {
      "text/markdown": [
       "**Plot the Least Squares Line**"
      ],
      "text/plain": [
       "<IPython.core.display.Markdown object>"
      ]
     },
     "metadata": {},
     "output_type": "display_data"
    },
    {
     "data": {
      "image/png": "[encoded data removed]",
      "text/plain": [
       "<matplotlib.figure.Figure at 0x12c028a20>"
      ]
     },
     "metadata": {},
     "output_type": "display_data"
    },
    {
     "data": {
      "text/markdown": [
       "** 95% confidence intervals for the model coefficients **"
      ],
      "text/plain": [
       "<IPython.core.display.Markdown object>"
      ]
     },
     "metadata": {},
     "output_type": "display_data"
    },
    {
     "name": "stdout",
     "output_type": "stream",
     "text": [
      "                      0          1\n",
      "Intercept  2.722957e+01  27.261180\n",
      "steps     -1.175153e-07   0.000003\n"
     ]
    },
    {
     "data": {
      "text/markdown": [
       "** Compute pvalues **"
      ],
      "text/plain": [
       "<IPython.core.display.Markdown object>"
      ]
     },
     "metadata": {},
     "output_type": "display_data"
    },
    {
     "data": {
      "text/markdown": [
       "* _a_: 4.0820932195332735e-175"
      ],
      "text/plain": [
       "<IPython.core.display.Markdown object>"
      ]
     },
     "metadata": {},
     "output_type": "display_data"
    },
    {
     "data": {
      "text/markdown": [
       "* _b_: 0.06667334795638981"
      ],
      "text/plain": [
       "<IPython.core.display.Markdown object>"
      ]
     },
     "metadata": {},
     "output_type": "display_data"
    },
    {
     "data": {
      "text/markdown": [
       "** Conclusion **"
      ],
      "text/plain": [
       "<IPython.core.display.Markdown object>"
      ]
     },
     "metadata": {},
     "output_type": "display_data"
    },
    {
     "data": {
      "text/markdown": [
       "pvalue for _b_ is greater than 0.05, and consequently the null hypothesis is not rejected,         indicating that there is no relationship bewteen bmi and steps."
      ],
      "text/plain": [
       "<IPython.core.display.Markdown object>"
      ]
     },
     "metadata": {},
     "output_type": "display_data"
    }
   ],
   "source": [
    "printmd('## Visualize case of very weak positive bmi vs steps correlation')\n",
    "medium_ccorr = {k: v for k, v in steps_bmi_user_ccorr.items() if v > 0 and v < 0.1}\n",
    "user_id = max(medium_ccorr, key=steps_bmi_user_ccorr.get)\n",
    "printmd('**User: **{}'.format(user_id))\n",
    "steps_bmi_user = steps_bmi[steps_bmi.user_id==user_id]\n",
    "printmd('** Min Correlation: **: {}'.format(steps_bmi_user_ccorr[user_id]))\n",
    "printmd('** Scatter plot: **')\n",
    "plt.scatter(steps_bmi_user['steps'],steps_bmi_user['bmi'])\n",
    "plt.show()\n",
    "regression_analysis(steps_bmi_user)"
   ]
  },
  {
   "cell_type": "code",
   "execution_count": null,
   "metadata": {
    "collapsed": true
   },
   "outputs": [],
   "source": []
  }
 ],
 "metadata": {
  "kernelspec": {
   "display_name": "Python 3",
   "language": "python",
   "name": "python3"
  },
  "language_info": {
   "codemirror_mode": {
    "name": "ipython",
    "version": 3
   },
   "file_extension": ".py",
   "mimetype": "text/x-python",
   "name": "python",
   "nbconvert_exporter": "python",
   "pygments_lexer": "ipython3",
   "version": "3.6.1"
  }
 },
 "nbformat": 4,
 "nbformat_minor": 2
}
