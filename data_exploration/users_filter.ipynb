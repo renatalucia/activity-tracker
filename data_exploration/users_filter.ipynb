{
 "cells": [
  {
   "cell_type": "code",
   "execution_count": 1,
   "metadata": {
    "collapsed": true
   },
   "outputs": [],
   "source": [
    "import pickle\n",
    "import pandas as pd\n",
    "import numpy as np\n",
    "import matplotlib.pyplot as plt"
   ]
  },
  {
   "cell_type": "code",
   "execution_count": 2,
   "metadata": {},
   "outputs": [
    {
     "data": {
      "text/html": [
       "<script>jQuery(function() {if (jQuery(\"body.notebook_app\").length == 0) { jQuery(\".input_area\").toggle(); jQuery(\".prompt\").toggle();}});</script>"
      ]
     },
     "metadata": {},
     "output_type": "display_data"
    },
    {
     "data": {
      "text/html": [
       "<button onclick=\"jQuery('.input_area').toggle(); jQuery('.prompt').toggle();\">Toggle code</button>"
      ]
     },
     "metadata": {},
     "output_type": "display_data"
    }
   ],
   "source": [
    "import IPython.core.display as di\n",
    "\n",
    "# This line will hide code by default when the notebook is exported as HTML\n",
    "di.display_html('<script>jQuery(function() {if (jQuery(\"body.notebook_app\").length == 0) { jQuery(\".input_area\").toggle(); jQuery(\".prompt\").toggle();}});</script>', raw=True)\n",
    "\n",
    "# This line will add a button to toggle visibility of code blocks, for use with the HTML export version\n",
    "di.display_html('''<button onclick=\"jQuery('.input_area').toggle(); jQuery('.prompt').toggle();\">Toggle code</button>''', raw=True)"
   ]
  },
  {
   "cell_type": "code",
   "execution_count": 3,
   "metadata": {
    "collapsed": true
   },
   "outputs": [],
   "source": [
    "from IPython.display import Markdown, display\n",
    "def printmd(string):\n",
    "    display(Markdown(string))"
   ]
  },
  {
   "cell_type": "markdown",
   "metadata": {},
   "source": [
    "# Understanding Data: Users\n",
    "Users attributes of interest:\n",
    "    * Sex: Categorical (Female, Male)\n",
    "    * Height: Continuous \n",
    "    * Birthday: Date"
   ]
  },
  {
   "cell_type": "markdown",
   "metadata": {},
   "source": [
    "## Overview of the data"
   ]
  },
  {
   "cell_type": "code",
   "execution_count": 4,
   "metadata": {},
   "outputs": [
    {
     "data": {
      "text/markdown": [
       "**Total umber of users: **387373"
      ],
      "text/plain": [
       "<IPython.core.display.Markdown object>"
      ]
     },
     "metadata": {},
     "output_type": "display_data"
    }
   ],
   "source": [
    "# Read users \n",
    "with open('../data/all_users.pickle', 'rb') as f:\n",
    "    users = pd.DataFrame(pickle.load(f))\n",
    "users = users.dropna()\n",
    "printmd('**Total umber of users: **{}'.format(len(users)))"
   ]
  },
  {
   "cell_type": "code",
   "execution_count": 5,
   "metadata": {},
   "outputs": [
    {
     "data": {
      "text/markdown": [
       "**Number of non unique user_id: **2845"
      ],
      "text/plain": [
       "<IPython.core.display.Markdown object>"
      ]
     },
     "metadata": {},
     "output_type": "display_data"
    }
   ],
   "source": [
    "# Group user settings by user_id. Check if each group length is greater than 1\n",
    "not_unique = users.groupby('user_id').apply(lambda g: len(g) > 1)\n",
    "# Keep only groups with more than one entry\n",
    "not_unique = not_unique[not_unique]\n",
    "# Number of not unique entries\n",
    "printmd('**Number of non unique user_id: **{}'.format(len(not_unique)))"
   ]
  },
  {
   "cell_type": "code",
   "execution_count": 6,
   "metadata": {},
   "outputs": [
    {
     "data": {
      "text/markdown": [
       "**Are there null values? **False"
      ],
      "text/plain": [
       "<IPython.core.display.Markdown object>"
      ]
     },
     "metadata": {},
     "output_type": "display_data"
    }
   ],
   "source": [
    "# Are there null values in users dataframe?\n",
    "printmd('**Are there null values? **{}'.format(users.isnull().values.any()))"
   ]
  },
  {
   "cell_type": "markdown",
   "metadata": {},
   "source": [
    "## Statistical profile of the data"
   ]
  },
  {
   "cell_type": "markdown",
   "metadata": {},
   "source": [
    "### Attribute 'sex': Verify domain, visualize distribution"
   ]
  },
  {
   "cell_type": "code",
   "execution_count": 7,
   "metadata": {},
   "outputs": [
    {
     "data": {
      "text/markdown": [
       "**Domain of attribute sex should be: **[male, female]"
      ],
      "text/plain": [
       "<IPython.core.display.Markdown object>"
      ]
     },
     "metadata": {},
     "output_type": "display_data"
    },
    {
     "data": {
      "text/markdown": [
       "* _Values Found:_ ['female' 'male' '???????']"
      ],
      "text/plain": [
       "<IPython.core.display.Markdown object>"
      ]
     },
     "metadata": {},
     "output_type": "display_data"
    },
    {
     "data": {
      "text/markdown": [
       "**Remove values out of the domain** [male, female]"
      ],
      "text/plain": [
       "<IPython.core.display.Markdown object>"
      ]
     },
     "metadata": {},
     "output_type": "display_data"
    },
    {
     "data": {
      "text/markdown": [
       "* Number of users removed: 1"
      ],
      "text/plain": [
       "<IPython.core.display.Markdown object>"
      ]
     },
     "metadata": {},
     "output_type": "display_data"
    },
    {
     "data": {
      "text/markdown": [
       "* Number of remaining users: 387372"
      ],
      "text/plain": [
       "<IPython.core.display.Markdown object>"
      ]
     },
     "metadata": {},
     "output_type": "display_data"
    },
    {
     "data": {
      "text/markdown": [
       "**Distribution of users according to attribute 'sex'**"
      ],
      "text/plain": [
       "<IPython.core.display.Markdown object>"
      ]
     },
     "metadata": {},
     "output_type": "display_data"
    },
    {
     "data": {
      "image/png": "[encoded data removed]",
      "text/plain": [
       "<matplotlib.figure.Figure at 0x113f809e8>"
      ]
     },
     "metadata": {},
     "output_type": "display_data"
    },
    {
     "name": "stdout",
     "output_type": "stream",
     "text": [
      "sex\n",
      "female    184681\n",
      "male      202691\n",
      "dtype: int64\n"
     ]
    }
   ],
   "source": [
    "# Check distinct user sex values\n",
    "printmd('**Domain of attribute sex should be: **[male, female]')\n",
    "printmd('* _Values Found:_ {}'.format(users['sex'].unique()))\n",
    "\n",
    "printmd('**Remove values out of the domain** [male, female]')\n",
    "# Delete user entries where sex is different from male / female\n",
    "len_before = len(users)\n",
    "users = users[(users.sex=='female') | (users.sex=='male')]\n",
    "printmd('* Number of users removed: {}'.format(len_before - len(users)))\n",
    "printmd('* Number of remaining users: {}'.format(len(users)))\n",
    "\n",
    "printmd('**Distribution of users according to attribute \\'sex\\'**')\n",
    "# Group users by sex and plot counts\n",
    "users_sex = users.groupby('sex').apply(lambda g: len(g))\n",
    "users_sex.plot(kind='bar')\n",
    "plt.show()\n",
    "print(users_sex)"
   ]
  },
  {
   "cell_type": "markdown",
   "metadata": {},
   "source": [
    "### Attribute 'height': search for outliers, visualize data variation"
   ]
  },
  {
   "cell_type": "code",
   "execution_count": 8,
   "metadata": {},
   "outputs": [
    {
     "data": {
      "text/markdown": [
       "**Original Data:**"
      ],
      "text/plain": [
       "<IPython.core.display.Markdown object>"
      ]
     },
     "metadata": {},
     "output_type": "display_data"
    },
    {
     "data": {
      "text/markdown": [
       "* _Max Height:_ 123457000.0"
      ],
      "text/plain": [
       "<IPython.core.display.Markdown object>"
      ]
     },
     "metadata": {},
     "output_type": "display_data"
    },
    {
     "data": {
      "text/markdown": [
       "* _Min Height:_ 0.0"
      ],
      "text/plain": [
       "<IPython.core.display.Markdown object>"
      ]
     },
     "metadata": {},
     "output_type": "display_data"
    },
    {
     "data": {
      "text/markdown": [
       "* _Mean Height:_ 526.0039002509218"
      ],
      "text/plain": [
       "<IPython.core.display.Markdown object>"
      ]
     },
     "metadata": {},
     "output_type": "display_data"
    },
    {
     "data": {
      "text/markdown": [
       "* _Standard Deviation:_ 199028.28773256642 "
      ],
      "text/plain": [
       "<IPython.core.display.Markdown object>"
      ]
     },
     "metadata": {},
     "output_type": "display_data"
    },
    {
     "data": {
      "image/png": "[encoded data removed]",
      "text/plain": [
       "<matplotlib.figure.Figure at 0x113f7aa58>"
      ]
     },
     "metadata": {},
     "output_type": "display_data"
    },
    {
     "data": {
      "text/markdown": [
       "**Remove height outliers**"
      ],
      "text/plain": [
       "<IPython.core.display.Markdown object>"
      ]
     },
     "metadata": {},
     "output_type": "display_data"
    },
    {
     "data": {
      "text/markdown": [
       "* Number of outliers removed: 3557"
      ],
      "text/plain": [
       "<IPython.core.display.Markdown object>"
      ]
     },
     "metadata": {},
     "output_type": "display_data"
    },
    {
     "data": {
      "text/markdown": [
       "* Number of users after outliers removal: 383815"
      ],
      "text/plain": [
       "<IPython.core.display.Markdown object>"
      ]
     },
     "metadata": {},
     "output_type": "display_data"
    },
    {
     "data": {
      "text/markdown": [
       "**Filtered Data:**"
      ],
      "text/plain": [
       "<IPython.core.display.Markdown object>"
      ]
     },
     "metadata": {},
     "output_type": "display_data"
    },
    {
     "data": {
      "text/markdown": [
       "* _Max Height:_ 202.0"
      ],
      "text/plain": [
       "<IPython.core.display.Markdown object>"
      ]
     },
     "metadata": {},
     "output_type": "display_data"
    },
    {
     "data": {
      "text/markdown": [
       "* _Min Height:_ 143.0"
      ],
      "text/plain": [
       "<IPython.core.display.Markdown object>"
      ]
     },
     "metadata": {},
     "output_type": "display_data"
    },
    {
     "data": {
      "text/markdown": [
       "* _Mean Height:_ 173.15288940244648"
      ],
      "text/plain": [
       "<IPython.core.display.Markdown object>"
      ]
     },
     "metadata": {},
     "output_type": "display_data"
    },
    {
     "data": {
      "text/markdown": [
       "* _Standard Deviation:_ 9.65316567770935 "
      ],
      "text/plain": [
       "<IPython.core.display.Markdown object>"
      ]
     },
     "metadata": {},
     "output_type": "display_data"
    },
    {
     "data": {
      "image/png": "[encoded data removed]",
      "text/plain": [
       "<matplotlib.figure.Figure at 0x10b0152b0>"
      ]
     },
     "metadata": {},
     "output_type": "display_data"
    }
   ],
   "source": [
    "# Check max and min height \n",
    "printmd('**Original Data:**')\n",
    "printmd('* _Max Height:_ {}'.format(users['height'].max()))\n",
    "printmd('* _Min Height:_ {}'.format(users['height'].min()))\n",
    "printmd('* _Mean Height:_ {}'.format(users['height'].mean()))\n",
    "printmd('* _Standard Deviation:_ {} '.format(users['height'].std()))\n",
    "\n",
    "box = plt.boxplot(users['height'], 0)\n",
    "\n",
    "outliers = box[\"fliers\"][0].get_data()[1]\n",
    "plt.show()\n",
    "\n",
    "printmd('**Remove height outliers**')\n",
    "len_before = len(users)\n",
    "users = users[-users.height.isin(outliers)]\n",
    "printmd('* Number of outliers removed: {}'.format(len_before - len(users)))\n",
    "printmd('* Number of users after outliers removal: {}'.format(len(users)))\n",
    "\n",
    "\n",
    "\n",
    "printmd('**Filtered Data:**')\n",
    "printmd('* _Max Height:_ {}'.format(users['height'].max()))\n",
    "printmd('* _Min Height:_ {}'.format(users['height'].min()))\n",
    "printmd('* _Mean Height:_ {}'.format(users['height'].mean()))\n",
    "printmd('* _Standard Deviation:_ {} '.format(users['height'].std()))\n",
    "\n",
    "box = plt.boxplot(users['height'], 0)\n",
    "plt.show()"
   ]
  },
  {
   "cell_type": "markdown",
   "metadata": {},
   "source": [
    "### Attribute 'Birthday': search for outliers, visualize data variation"
   ]
  },
  {
   "cell_type": "code",
   "execution_count": 9,
   "metadata": {},
   "outputs": [
    {
     "data": {
      "text/markdown": [
       "**Original Data**"
      ],
      "text/plain": [
       "<IPython.core.display.Markdown object>"
      ]
     },
     "metadata": {},
     "output_type": "display_data"
    },
    {
     "data": {
      "text/markdown": [
       "* _Max birthyear:_ 2070"
      ],
      "text/plain": [
       "<IPython.core.display.Markdown object>"
      ]
     },
     "metadata": {},
     "output_type": "display_data"
    },
    {
     "data": {
      "text/markdown": [
       "* _Min birthyear:_ 1"
      ],
      "text/plain": [
       "<IPython.core.display.Markdown object>"
      ]
     },
     "metadata": {},
     "output_type": "display_data"
    },
    {
     "data": {
      "text/markdown": [
       "* _Mean birthyear:_ 1955.0373304847387"
      ],
      "text/plain": [
       "<IPython.core.display.Markdown object>"
      ]
     },
     "metadata": {},
     "output_type": "display_data"
    },
    {
     "data": {
      "text/markdown": [
       "* _Standard deviation:_ 197.05237278214648"
      ],
      "text/plain": [
       "<IPython.core.display.Markdown object>"
      ]
     },
     "metadata": {},
     "output_type": "display_data"
    },
    {
     "data": {
      "image/png": "[encoded data removed]",
      "text/plain": [
       "<matplotlib.figure.Figure at 0x124c25b00>"
      ]
     },
     "metadata": {},
     "output_type": "display_data"
    },
    {
     "data": {
      "text/markdown": [
       "**Remove birthday outliers**"
      ],
      "text/plain": [
       "<IPython.core.display.Markdown object>"
      ]
     },
     "metadata": {},
     "output_type": "display_data"
    },
    {
     "name": "stdout",
     "output_type": "stream",
     "text": [
      "* Number of users removed:  5343\n",
      "* Number of users after outliers removal: 378472\n"
     ]
    },
    {
     "data": {
      "text/markdown": [
       "**Filtered Data**"
      ],
      "text/plain": [
       "<IPython.core.display.Markdown object>"
      ]
     },
     "metadata": {},
     "output_type": "display_data"
    },
    {
     "data": {
      "text/markdown": [
       "* _Max birthyear:_ 2019"
      ],
      "text/plain": [
       "<IPython.core.display.Markdown object>"
      ]
     },
     "metadata": {},
     "output_type": "display_data"
    },
    {
     "data": {
      "text/markdown": [
       "* _Min birthyear:_ 1931"
      ],
      "text/plain": [
       "<IPython.core.display.Markdown object>"
      ]
     },
     "metadata": {},
     "output_type": "display_data"
    },
    {
     "data": {
      "text/markdown": [
       "* _Mean birthyear:_ 1975.0566646938214"
      ],
      "text/plain": [
       "<IPython.core.display.Markdown object>"
      ]
     },
     "metadata": {},
     "output_type": "display_data"
    },
    {
     "data": {
      "text/markdown": [
       "* _Standard deviation:_ 14.397660555528997"
      ],
      "text/plain": [
       "<IPython.core.display.Markdown object>"
      ]
     },
     "metadata": {},
     "output_type": "display_data"
    },
    {
     "data": {
      "image/png": "[encoded data removed]",
      "text/plain": [
       "<matplotlib.figure.Figure at 0x124b96da0>"
      ]
     },
     "metadata": {},
     "output_type": "display_data"
    }
   ],
   "source": [
    "# Check users birthday year\n",
    "users['birthyear'] = users['birthday'].apply(lambda x: x.year)\n",
    "printmd('**Original Data**')\n",
    "printmd('* _Max birthyear:_ {}'.format(users['birthday'].apply(lambda x: x.year).max()))\n",
    "printmd('* _Min birthyear:_ {}'.format(users['birthday'].apply(lambda x: x.year).min()))\n",
    "printmd('* _Mean birthyear:_ {}'.format(users['birthday'].apply(lambda x: x.year).mean()))\n",
    "printmd('* _Standard deviation:_ {}'.format(users['birthday'].apply(lambda x: x.year).std()))\n",
    "\n",
    "\n",
    "# Boxplot of birthyears\n",
    "box = plt.boxplot(users['birthyear'], 0)\n",
    "\n",
    "outliers = box[\"fliers\"][0].get_data()[1]\n",
    "plt.show()\n",
    "\n",
    "#Remove outliers\n",
    "len_before = len(users)\n",
    "printmd('**Remove birthday outliers**')\n",
    "users = users[-users.birthyear.isin(outliers)]\n",
    "print('* Number of users removed: ', len_before - len(users))\n",
    "print('* Number of users after outliers removal: {}'.format(len(users)))\n",
    "\n",
    "printmd('**Filtered Data**')\n",
    "printmd('* _Max birthyear:_ {}'.format(users['birthday'].apply(lambda x: x.year).max()))\n",
    "printmd('* _Min birthyear:_ {}'.format(users['birthday'].apply(lambda x: x.year).min()))\n",
    "printmd('* _Mean birthyear:_ {}'.format(users['birthday'].apply(lambda x: x.year).mean()))\n",
    "printmd('* _Standard deviation:_ {}'.format(users['birthday'].apply(lambda x: x.year).std()))\n",
    "\n",
    "box = plt.boxplot(users['birthyear'], 0)\n",
    "plt.show()"
   ]
  },
  {
   "cell_type": "markdown",
   "metadata": {},
   "source": [
    "### Histograms of filtered data"
   ]
  },
  {
   "cell_type": "code",
   "execution_count": 10,
   "metadata": {
    "slideshow": {
     "slide_type": "-"
    }
   },
   "outputs": [
    {
     "data": {
      "text/markdown": [
       "**Users sex distribution**"
      ],
      "text/plain": [
       "<IPython.core.display.Markdown object>"
      ]
     },
     "metadata": {},
     "output_type": "display_data"
    },
    {
     "data": {
      "image/png": "[encoded data removed]",
      "text/plain": [
       "<matplotlib.figure.Figure at 0x113517048>"
      ]
     },
     "metadata": {},
     "output_type": "display_data"
    },
    {
     "name": "stdout",
     "output_type": "stream",
     "text": [
      "sex\n",
      "female    180965\n",
      "male      197507\n",
      "dtype: int64\n"
     ]
    }
   ],
   "source": [
    "# Group users by sex and plot counts\n",
    "printmd('**Users sex distribution**')\n",
    "users_sex = users.groupby('sex').apply(lambda g: len(g))\n",
    "users_sex.plot(kind='bar')\n",
    "plt.show()\n",
    "print(users_sex)"
   ]
  },
  {
   "cell_type": "code",
   "execution_count": 11,
   "metadata": {},
   "outputs": [
    {
     "data": {
      "text/markdown": [
       "**Users height distribution**"
      ],
      "text/plain": [
       "<IPython.core.display.Markdown object>"
      ]
     },
     "metadata": {},
     "output_type": "display_data"
    },
    {
     "data": {
      "image/png": "[encoded data removed]",
      "text/plain": [
       "<matplotlib.figure.Figure at 0x114251828>"
      ]
     },
     "metadata": {},
     "output_type": "display_data"
    }
   ],
   "source": [
    "# Users height Histogram\n",
    "printmd('**Users height distribution**')\n",
    "n, bins, patches = plt.hist(\n",
    "    list(users['height'].values), bins = 10)\n",
    "plt.show()"
   ]
  },
  {
   "cell_type": "code",
   "execution_count": 12,
   "metadata": {},
   "outputs": [
    {
     "data": {
      "text/markdown": [
       "**Users birthday distribution**"
      ],
      "text/plain": [
       "<IPython.core.display.Markdown object>"
      ]
     },
     "metadata": {},
     "output_type": "display_data"
    },
    {
     "data": {
      "image/png": "[encoded data removed]",
      "text/plain": [
       "<matplotlib.figure.Figure at 0x1140940f0>"
      ]
     },
     "metadata": {},
     "output_type": "display_data"
    }
   ],
   "source": [
    "# Users birthday Histogram\n",
    "printmd('**Users birthday distribution**')\n",
    "n, bins, patches = plt.hist(\n",
    "    list(users['birthday'].values), bins = 10)\n",
    "plt.show()"
   ]
  },
  {
   "cell_type": "code",
   "execution_count": 13,
   "metadata": {
    "collapsed": true
   },
   "outputs": [],
   "source": [
    "# Save user filter\n",
    "with open('../data/filtered/users_filter.pickle', 'wb') as f:\n",
    "    pickle.dump(users, f)"
   ]
  },
  {
   "cell_type": "code",
   "execution_count": null,
   "metadata": {
    "collapsed": true
   },
   "outputs": [],
   "source": []
  }
 ],
 "metadata": {
  "kernelspec": {
   "display_name": "Python 3",
   "language": "python",
   "name": "python3"
  },
  "language_info": {
   "codemirror_mode": {
    "name": "ipython",
    "version": 3
   },
   "file_extension": ".py",
   "mimetype": "text/x-python",
   "name": "python",
   "nbconvert_exporter": "python",
   "pygments_lexer": "ipython3",
   "version": "3.6.1"
  }
 },
 "nbformat": 4,
 "nbformat_minor": 2
}
