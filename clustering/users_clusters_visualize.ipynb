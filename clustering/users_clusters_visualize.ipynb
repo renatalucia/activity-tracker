{
 "cells": [
  {
   "cell_type": "code",
   "execution_count": 8,
   "metadata": {},
   "outputs": [
    {
     "name": "stdout",
     "output_type": "stream",
     "text": [
      "0 44 25.9424067359\n",
      "0 44 27.209181221\n"
     ]
    }
   ],
   "source": [
    "# %load user_clusters.py\n",
    "import numpy as np\n",
    "from kmodes import kprototypes\n",
    "from sklearn.cluster import KMeans\n",
    "import pickle\n",
    "import pandas as pd\n",
    "from datetime import date\n",
    "from abc import abstractmethod\n",
    "import os\n",
    "\n",
    "def set_age(birthday):\n",
    "    today = date.today()\n",
    "    return today.year - birthday.year - ((today.month, today.day) < (birthday.month, birthday.day))\n",
    "\n",
    "\n",
    "def set_sex(sex_str):\n",
    "    if sex_str == 'female':\n",
    "        return 0\n",
    "    elif sex_str == 'male':\n",
    "        return 1\n",
    "\n",
    "\n",
    "def next_month(year, month):\n",
    "    if month == 12:\n",
    "        return year+1, 1\n",
    "    else:\n",
    "        return year, month+1\n",
    "\n",
    "\n",
    "class UsersClusters:\n",
    "\n",
    "    def __init__(self, num_clusters, data_dir='.'):\n",
    "        with open(os.path.join(data_dir, 'bmi_steps_data.pickle'), 'rb') as f:\n",
    "            self.bmi_steps = pd.DataFrame(pickle.load(f))\n",
    "        with open(os.path.join(data_dir,'users_filter.pickle'), 'rb') as f:\n",
    "            self.users = pd.DataFrame(pickle.load(f))\n",
    "\n",
    "            self.users['age'] = self.users['birthday'].apply(lambda x: set_age(x))\n",
    "            self.users['sex'] = self.users['sex'].apply(lambda x: set_sex(x))\n",
    "\n",
    "            self.users_data = pd.merge(self.users, self.user_entries_per_month(), on='user_id')\n",
    "\n",
    "            self.cluster_data = np.array(self.users_data[['sex', 'age', 'bmi']])\n",
    "\n",
    "            self.clusters = self.find_clusters(num_clusters)\n",
    "\n",
    "    @abstractmethod\n",
    "    def find_clusters(self, num_clusters):\n",
    "        return NotImplemented\n",
    "\n",
    "    @abstractmethod\n",
    "    def get_cluster(self, sex, age, bmi):\n",
    "        return NotImplemented\n",
    "\n",
    "    def user_entries_per_month(self):\n",
    "        bmi_steps_month = self.bmi_steps.groupby(\n",
    "            ['user_id', 'year', 'month'])['bmi', 'steps'].agg('mean')\n",
    "        return bmi_steps_month.reset_index()\n",
    "\n",
    "    def get_cluster_members(self, cluster_label):\n",
    "        idx = [i for i, x in enumerate(self.clusters.labels_) if x == cluster_label]\n",
    "        return self.users_data.iloc[idx]\n",
    "\n",
    "    def recommender_user_sequence(self, sex, age, bmi, n_months):\n",
    "        cluster_label = self.get_cluster(sex, age, bmi)\n",
    "        cluster_members = self.get_cluster_members(cluster_label)\n",
    "        return best_cluster_sequence(cluster_members, n_months)\n",
    "\n",
    "\n",
    "class KMeansUsersClusters(UsersClusters):\n",
    "\n",
    "    def find_clusters(self, num_clusters):\n",
    "        clusters = KMeans(n_clusters=num_clusters)\n",
    "        return clusters.fit(self.cluster_data)\n",
    "\n",
    "    def get_cluster(self, sex, age, bmi):\n",
    "        return self.clusters.predict(np.array([[sex, age, bmi]]))[0]\n",
    "\n",
    "\n",
    "class KPrototypeUsersClusters(UsersClusters):\n",
    "\n",
    "    def find_clusters(self, num_clusters):\n",
    "        clusters = kprototypes.KPrototypes(n_clusters=num_clusters, init='Cao')\n",
    "        return clusters.fit(self.cluster_data, categorical=[0])\n",
    "\n",
    "    def get_cluster(self, sex, age, bmi):\n",
    "        return self.clusters.predict(np.array([[sex, age, bmi]]), categorical=[0])[0]\n",
    "\n",
    "\n",
    "def is_ordered_sequence(seq):\n",
    "    for i in range(len(seq) - 1):\n",
    "        if (seq[i + 1]['year'], seq[i + 1]['month']) != next_month(\n",
    "                seq[i]['year'], seq[i]['month']):\n",
    "            return False\n",
    "    return True\n",
    "\n",
    "\n",
    "def get_user_sequences(user_entries, n_months):\n",
    "    user_entries.sort_values(['year', 'month'])\n",
    "    user_sequences = []\n",
    "    for i in range(len(user_entries)-n_months):\n",
    "        seq = []\n",
    "        for j in range(n_months):\n",
    "            seq.append(user_entries.iloc[i+j])\n",
    "        if is_ordered_sequence(seq):\n",
    "            user_sequences.append(seq)\n",
    "    return user_sequences\n",
    "\n",
    "\n",
    "def best_user_sequence(user_entries, n_months):\n",
    "    user_sequences = get_user_sequences(user_entries, n_months)\n",
    "    first = True\n",
    "    best_seq = None\n",
    "    best_corr = None\n",
    "    for seq in user_sequences:\n",
    "        df = pd.DataFrame(seq)\n",
    "        if df.bmi.std() < 0.01:\n",
    "            continue\n",
    "        cur_corr = df[['bmi','steps']].corr()['bmi']['steps']\n",
    "        if first:\n",
    "            first=False\n",
    "            best_seq = seq\n",
    "            best_corr = cur_corr\n",
    "        elif cur_corr < best_corr:\n",
    "            best_seq = seq\n",
    "            best_corr = cur_corr\n",
    "    return best_seq, best_corr\n",
    "\n",
    "\n",
    "def best_cluster_sequence(cluster_members, n_months):\n",
    "    best_cluster_seq = None\n",
    "    best_cluster_corr = None\n",
    "    first = True\n",
    "    for user_id in set(cluster_members.user_id):\n",
    "        user_entries = cluster_members[cluster_members.user_id == user_id]\n",
    "        best_seq, best_corr = best_user_sequence(user_entries, n_months)\n",
    "        if best_corr is None:\n",
    "            continue\n",
    "        if first:\n",
    "            first = False\n",
    "            best_cluster_seq = best_seq\n",
    "            best_cluster_corr = best_corr\n",
    "        elif best_corr < best_cluster_corr:\n",
    "            best_cluster_seq = best_seq\n",
    "            best_cluster_corr = best_corr\n",
    "    return best_cluster_seq, best_cluster_corr\n",
    "\n",
    "\n",
    "if __name__ == \"__main__\":\n",
    "    user_id = '2a786a87-f00b-461a-90cd-c1a7a9a06f2e'\n",
    "    year = 2016\n",
    "    month = 2\n",
    "    n_months = 6\n",
    "\n",
    "    users_clusters = KMeansUsersClusters(18, data_dir='..')\n",
    "\n",
    "    user_data = users_clusters.users_data[\n",
    "        (users_clusters.users_data.user_id == user_id) &\n",
    "        (users_clusters.users_data.year == year) &\n",
    "        (users_clusters.users_data.month == month)]\n",
    "\n",
    "    sex = user_data['sex'].values[0]\n",
    "    age = user_data['age'].values[0]\n",
    "    bmi = user_data['bmi'].values[0]\n",
    "    print(sex,age,bmi)\n",
    "\n",
    "    recommended_seq, corr = users_clusters.recommender_user_sequence(sex, age, bmi, n_months)\n",
    "    print(recommended_seq[0]['sex'], recommended_seq[0]['age'], recommended_seq[0]['bmi'])\n",
    "    #print(recommended_seq)\n",
    "\n",
    "\n",
    "\n"
   ]
  },
  {
   "cell_type": "code",
   "execution_count": 25,
   "metadata": {},
   "outputs": [
    {
     "name": "stdout",
     "output_type": "stream",
     "text": [
      "0 44 25.9424067359\n",
      "0 44 26.517008021\n"
     ]
    }
   ],
   "source": [
    "user_id = '2a786a87-f00b-461a-90cd-c1a7a9a06f2e'\n",
    "year = 2016\n",
    "month = 2\n",
    "n_months = 3\n",
    "\n",
    "user_data = users_clusters.users_data[\n",
    "    (users_clusters.users_data.user_id == user_id) &\n",
    "    (users_clusters.users_data.year == year) &\n",
    "    (users_clusters.users_data.month == month)]\n",
    "\n",
    "sex = user_data['sex'].values[0]\n",
    "age = user_data['age'].values[0]\n",
    "bmi = user_data['bmi'].values[0]\n",
    "print(sex,age,bmi)\n",
    "\n",
    "recommended_seq, corr = users_clusters.recommender_user_sequence(sex, age, bmi, n_months)\n",
    "print(recommended_seq[0]['sex'], recommended_seq[0]['age'], recommended_seq[0]['bmi'])\n",
    "#print(recommended_seq)"
   ]
  },
  {
   "cell_type": "code",
   "execution_count": 26,
   "metadata": {},
   "outputs": [
    {
     "data": {
      "image/png": "[encoded data removed]",
      "text/plain": [
       "<matplotlib.figure.Figure at 0x110c3e828>"
      ]
     },
     "metadata": {},
     "output_type": "display_data"
    }
   ],
   "source": [
    "import matplotlib.pyplot as plt\n",
    "df = pd.DataFrame(recommended_seq)[['bmi','steps']]\n",
    "b_mi = df.bmi.mean()\n",
    "b_std = df.bmi.std()\n",
    "s_mi = df.steps.mean()\n",
    "s_std = df.steps.std()\n",
    "df['bmi'] = df['bmi'].apply(lambda x: (x - b_mi)/b_std)\n",
    "df['steps'] = df['steps'].apply(lambda x: (x - s_mi)/s_std)\n",
    "df[['bmi', 'steps']].plot()\n",
    "plt.show()"
   ]
  },
  {
   "cell_type": "code",
   "execution_count": 27,
   "metadata": {},
   "outputs": [
    {
     "data": {
      "image/png": "[encoded data removed]",
      "text/plain": [
       "<matplotlib.figure.Figure at 0x110259208>"
      ]
     },
     "metadata": {},
     "output_type": "display_data"
    },
    {
     "data": {
      "image/png": "[encoded data removed]",
      "text/plain": [
       "<matplotlib.figure.Figure at 0x1118b3e80>"
      ]
     },
     "metadata": {},
     "output_type": "display_data"
    }
   ],
   "source": [
    "pd.DataFrame(recommended_seq)['bmi'].plot()\n",
    "plt.show()\n",
    "pd.DataFrame(recommended_seq)['steps'].plot()\n",
    "plt.show()"
   ]
  },
  {
   "cell_type": "code",
   "execution_count": null,
   "metadata": {
    "collapsed": true
   },
   "outputs": [],
   "source": []
  }
 ],
 "metadata": {
  "kernelspec": {
   "display_name": "Python 3",
   "language": "python",
   "name": "python3"
  },
  "language_info": {
   "codemirror_mode": {
    "name": "ipython",
    "version": 3
   },
   "file_extension": ".py",
   "mimetype": "text/x-python",
   "name": "python",
   "nbconvert_exporter": "python",
   "pygments_lexer": "ipython3",
   "version": "3.6.1"
  }
 },
 "nbformat": 4,
 "nbformat_minor": 2
}
